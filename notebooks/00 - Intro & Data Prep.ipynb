{
 "cells": [
  {
   "cell_type": "markdown",
   "metadata": {},
   "source": [
    "# Introduction\n",
    "\n",
    "In this notebook, we'll simply load the data, downcast it using a technique I learned from [this](https://www.kaggle.com/code/vaibhavgupta082/time-series-forecasting-eda-fe-modelling-679c92) notebook and do some pre-processsing work before analysis"
   ]
  },
  {
   "cell_type": "code",
   "execution_count": 1,
   "metadata": {},
   "outputs": [],
   "source": [
    "import os\n",
    "import pandas as pd\n",
    "import numpy as np\n",
    "\n",
    "import matplotlib.pyplot as plt\n",
    "import seaborn as sns\n",
    "\n",
    "plt.style.use(\"fivethirtyeight\")\n",
    "plt.rcParams[\"figure.figsize\"] = [12, 7]\n",
    "plt.rcParams[\"figure.dpi\"] = 100\n",
    "plt.rcParams[\"figure.facecolor\"] = \"white\"\n",
    "\n",
    "import plotly.express as px\n",
    "import plotly.graph_objects as go\n",
    "from plotly.subplots import make_subplots\n",
    "\n",
    "import warnings\n",
    "warnings.filterwarnings('ignore')"
   ]
  },
  {
   "cell_type": "code",
   "execution_count": 2,
   "metadata": {},
   "outputs": [],
   "source": [
    "# GLOBAL VARIABLES\n",
    "DATA_PATH = \"../../m5-data/\"\n",
    "\n",
    "WALMART_COLOURS = [\"#0072CE\", \"#B4B4B3\", \"#79B8F3\", \"#FDB927\", \"#F7941D\", \"#4CB748\", \"#2E3192\"]\n",
    "DIVERGENT_COLOUR_GRADIENT = [\"#e2f1fc\", \"#b9dcfa\", \"#8cc7f7\", \"#5eb1f3\", \"#39a0f1\", \"#0691ef\"]\n",
    "sns.set_palette(WALMART_COLOURS)\n"
   ]
  },
  {
   "cell_type": "code",
   "execution_count": 3,
   "metadata": {},
   "outputs": [],
   "source": [
    "# data paths\n",
    "sales_path = os.path.join(DATA_PATH, \"sales_train_evaluation.csv\")\n",
    "calendar_path = os.path.join(DATA_PATH, \"calendar.csv\")\n",
    "prices_path = os.path.join(DATA_PATH, \"sell_prices.csv\")"
   ]
  },
  {
   "cell_type": "code",
   "execution_count": 4,
   "metadata": {},
   "outputs": [],
   "source": [
    "sales = pd.read_csv(sales_path)\n",
    "calendar = pd.read_csv(calendar_path)\n",
    "prices = pd.read_csv(prices_path)"
   ]
  },
  {
   "cell_type": "code",
   "execution_count": 5,
   "metadata": {},
   "outputs": [],
   "source": [
    "#Add zero sales for the remaining days 1942-1969\n",
    "for d in range(1942,1970):\n",
    "    col = 'd_' + str(d)\n",
    "    sales[col] = 0\n",
    "    sales[col] = sales[col].astype(np.int16)"
   ]
  },
  {
   "cell_type": "code",
   "execution_count": 7,
   "metadata": {},
   "outputs": [],
   "source": [
    "def get_df_memory(df):\n",
    "  return np.round(df.memory_usage().sum()/(1024*1024),1)\n",
    "\n",
    "def downcast(df):\n",
    "    cols = df.dtypes.index.tolist()\n",
    "    types = df.dtypes.values.tolist()\n",
    "    for i,t in enumerate(types):\n",
    "        if 'int' in str(t):\n",
    "            if df[cols[i]].min() > np.iinfo(np.int8).min and df[cols[i]].max() < np.iinfo(np.int8).max:\n",
    "                df[cols[i]] = df[cols[i]].astype(np.int8)\n",
    "            elif df[cols[i]].min() > np.iinfo(np.int16).min and df[cols[i]].max() < np.iinfo(np.int16).max:\n",
    "                df[cols[i]] = df[cols[i]].astype(np.int16)\n",
    "            elif df[cols[i]].min() > np.iinfo(np.int32).min and df[cols[i]].max() < np.iinfo(np.int32).max:\n",
    "                df[cols[i]] = df[cols[i]].astype(np.int32)\n",
    "            else:\n",
    "                df[cols[i]] = df[cols[i]].astype(np.int64)\n",
    "        elif 'float' in str(t):\n",
    "            if df[cols[i]].min() > np.finfo(np.float16).min and df[cols[i]].max() < np.finfo(np.float16).max:\n",
    "                df[cols[i]] = df[cols[i]].astype(np.float16)\n",
    "            elif df[cols[i]].min() > np.finfo(np.float32).min and df[cols[i]].max() < np.finfo(np.float32).max:\n",
    "                df[cols[i]] = df[cols[i]].astype(np.float32)\n",
    "            else:\n",
    "                df[cols[i]] = df[cols[i]].astype(np.float64)\n",
    "        elif t == object:\n",
    "            if cols[i] == 'date':\n",
    "                df[cols[i]] = pd.to_datetime(df[cols[i]], format='%Y-%m-%d')\n",
    "            else:\n",
    "                df[cols[i]] = df[cols[i]].astype('category')\n",
    "    return df "
   ]
  },
  {
   "cell_type": "code",
   "execution_count": 7,
   "metadata": {},
   "outputs": [],
   "source": [
    "sales_bd = get_df_memory(sales)\n",
    "calendar_bd = get_df_memory(calendar)\n",
    "prices_bd = get_df_memory(prices)"
   ]
  },
  {
   "cell_type": "code",
   "execution_count": 8,
   "metadata": {},
   "outputs": [],
   "source": [
    "sales = downcast(sales)\n",
    "prices = downcast(prices)\n",
    "calendar = downcast(calendar)"
   ]
  },
  {
   "cell_type": "code",
   "execution_count": 9,
   "metadata": {},
   "outputs": [],
   "source": [
    "sales_ad = get_df_memory(sales)\n",
    "calendar_ad = get_df_memory(calendar)\n",
    "prices_ad = get_df_memory(prices)"
   ]
  },
  {
   "cell_type": "code",
   "execution_count": 10,
   "metadata": {},
   "outputs": [
    {
     "data": {
      "application/vnd.plotly.v1+json": {
       "config": {
        "plotlyServerURL": "https://plot.ly"
       },
       "data": [
        {
         "alignmentgroup": "True",
         "hovertemplate": "Status=After downcasting<br>DataFrame=%{x}<br>Memory (MB)=%{text}<extra></extra>",
         "legendgroup": "After downcasting",
         "marker": {
          "color": "#0072CE",
          "pattern": {
           "shape": ""
          }
         },
         "name": "After downcasting",
         "offsetgroup": "After downcasting",
         "orientation": "v",
         "showlegend": true,
         "text": [
          0.1,
          45.8,
          97.1
         ],
         "textposition": "outside",
         "texttemplate": "%{text} MB",
         "type": "bar",
         "x": [
          "calendar",
          "prices",
          "sales"
         ],
         "xaxis": "x",
         "y": [
          0.1,
          45.8,
          97.1
         ],
         "yaxis": "y"
        },
        {
         "alignmentgroup": "True",
         "hovertemplate": "Status=Before downcasting<br>DataFrame=%{x}<br>Memory (MB)=%{text}<extra></extra>",
         "legendgroup": "Before downcasting",
         "marker": {
          "color": "#B4B4B3",
          "pattern": {
           "shape": ""
          }
         },
         "name": "Before downcasting",
         "offsetgroup": "Before downcasting",
         "orientation": "v",
         "showlegend": true,
         "text": [
          0.2,
          208.8,
          454.5
         ],
         "textposition": "outside",
         "texttemplate": "%{text} MB",
         "type": "bar",
         "x": [
          "calendar",
          "prices",
          "sales"
         ],
         "xaxis": "x",
         "y": [
          0.2,
          208.8,
          454.5
         ],
         "yaxis": "y"
        }
       ],
       "layout": {
        "barmode": "group",
        "legend": {
         "title": {
          "text": "Status"
         },
         "tracegroupgap": 0
        },
        "margin": {
         "t": 60
        },
        "template": {
         "data": {
          "bar": [
           {
            "error_x": {
             "color": "rgb(36,36,36)"
            },
            "error_y": {
             "color": "rgb(36,36,36)"
            },
            "marker": {
             "line": {
              "color": "rgb(234,234,242)",
              "width": 0.5
             },
             "pattern": {
              "fillmode": "overlay",
              "size": 10,
              "solidity": 0.2
             }
            },
            "type": "bar"
           }
          ],
          "barpolar": [
           {
            "marker": {
             "line": {
              "color": "rgb(234,234,242)",
              "width": 0.5
             },
             "pattern": {
              "fillmode": "overlay",
              "size": 10,
              "solidity": 0.2
             }
            },
            "type": "barpolar"
           }
          ],
          "carpet": [
           {
            "aaxis": {
             "endlinecolor": "rgb(36,36,36)",
             "gridcolor": "white",
             "linecolor": "white",
             "minorgridcolor": "white",
             "startlinecolor": "rgb(36,36,36)"
            },
            "baxis": {
             "endlinecolor": "rgb(36,36,36)",
             "gridcolor": "white",
             "linecolor": "white",
             "minorgridcolor": "white",
             "startlinecolor": "rgb(36,36,36)"
            },
            "type": "carpet"
           }
          ],
          "choropleth": [
           {
            "colorbar": {
             "outlinewidth": 0,
             "tickcolor": "rgb(36,36,36)",
             "ticklen": 8,
             "ticks": "outside",
             "tickwidth": 2
            },
            "type": "choropleth"
           }
          ],
          "contour": [
           {
            "colorbar": {
             "outlinewidth": 0,
             "tickcolor": "rgb(36,36,36)",
             "ticklen": 8,
             "ticks": "outside",
             "tickwidth": 2
            },
            "colorscale": [
             [
              0,
              "rgb(2,4,25)"
             ],
             [
              0.06274509803921569,
              "rgb(24,15,41)"
             ],
             [
              0.12549019607843137,
              "rgb(47,23,57)"
             ],
             [
              0.18823529411764706,
              "rgb(71,28,72)"
             ],
             [
              0.25098039215686274,
              "rgb(97,30,82)"
             ],
             [
              0.3137254901960784,
              "rgb(123,30,89)"
             ],
             [
              0.3764705882352941,
              "rgb(150,27,91)"
             ],
             [
              0.4392156862745098,
              "rgb(177,22,88)"
             ],
             [
              0.5019607843137255,
              "rgb(203,26,79)"
             ],
             [
              0.5647058823529412,
              "rgb(223,47,67)"
             ],
             [
              0.6274509803921569,
              "rgb(236,76,61)"
             ],
             [
              0.6901960784313725,
              "rgb(242,107,73)"
             ],
             [
              0.7529411764705882,
              "rgb(244,135,95)"
             ],
             [
              0.8156862745098039,
              "rgb(245,162,122)"
             ],
             [
              0.8784313725490196,
              "rgb(246,188,153)"
             ],
             [
              0.9411764705882353,
              "rgb(247,212,187)"
             ],
             [
              1,
              "rgb(250,234,220)"
             ]
            ],
            "type": "contour"
           }
          ],
          "contourcarpet": [
           {
            "colorbar": {
             "outlinewidth": 0,
             "tickcolor": "rgb(36,36,36)",
             "ticklen": 8,
             "ticks": "outside",
             "tickwidth": 2
            },
            "type": "contourcarpet"
           }
          ],
          "heatmap": [
           {
            "colorbar": {
             "outlinewidth": 0,
             "tickcolor": "rgb(36,36,36)",
             "ticklen": 8,
             "ticks": "outside",
             "tickwidth": 2
            },
            "colorscale": [
             [
              0,
              "rgb(2,4,25)"
             ],
             [
              0.06274509803921569,
              "rgb(24,15,41)"
             ],
             [
              0.12549019607843137,
              "rgb(47,23,57)"
             ],
             [
              0.18823529411764706,
              "rgb(71,28,72)"
             ],
             [
              0.25098039215686274,
              "rgb(97,30,82)"
             ],
             [
              0.3137254901960784,
              "rgb(123,30,89)"
             ],
             [
              0.3764705882352941,
              "rgb(150,27,91)"
             ],
             [
              0.4392156862745098,
              "rgb(177,22,88)"
             ],
             [
              0.5019607843137255,
              "rgb(203,26,79)"
             ],
             [
              0.5647058823529412,
              "rgb(223,47,67)"
             ],
             [
              0.6274509803921569,
              "rgb(236,76,61)"
             ],
             [
              0.6901960784313725,
              "rgb(242,107,73)"
             ],
             [
              0.7529411764705882,
              "rgb(244,135,95)"
             ],
             [
              0.8156862745098039,
              "rgb(245,162,122)"
             ],
             [
              0.8784313725490196,
              "rgb(246,188,153)"
             ],
             [
              0.9411764705882353,
              "rgb(247,212,187)"
             ],
             [
              1,
              "rgb(250,234,220)"
             ]
            ],
            "type": "heatmap"
           }
          ],
          "heatmapgl": [
           {
            "colorbar": {
             "outlinewidth": 0,
             "tickcolor": "rgb(36,36,36)",
             "ticklen": 8,
             "ticks": "outside",
             "tickwidth": 2
            },
            "colorscale": [
             [
              0,
              "rgb(2,4,25)"
             ],
             [
              0.06274509803921569,
              "rgb(24,15,41)"
             ],
             [
              0.12549019607843137,
              "rgb(47,23,57)"
             ],
             [
              0.18823529411764706,
              "rgb(71,28,72)"
             ],
             [
              0.25098039215686274,
              "rgb(97,30,82)"
             ],
             [
              0.3137254901960784,
              "rgb(123,30,89)"
             ],
             [
              0.3764705882352941,
              "rgb(150,27,91)"
             ],
             [
              0.4392156862745098,
              "rgb(177,22,88)"
             ],
             [
              0.5019607843137255,
              "rgb(203,26,79)"
             ],
             [
              0.5647058823529412,
              "rgb(223,47,67)"
             ],
             [
              0.6274509803921569,
              "rgb(236,76,61)"
             ],
             [
              0.6901960784313725,
              "rgb(242,107,73)"
             ],
             [
              0.7529411764705882,
              "rgb(244,135,95)"
             ],
             [
              0.8156862745098039,
              "rgb(245,162,122)"
             ],
             [
              0.8784313725490196,
              "rgb(246,188,153)"
             ],
             [
              0.9411764705882353,
              "rgb(247,212,187)"
             ],
             [
              1,
              "rgb(250,234,220)"
             ]
            ],
            "type": "heatmapgl"
           }
          ],
          "histogram": [
           {
            "marker": {
             "pattern": {
              "fillmode": "overlay",
              "size": 10,
              "solidity": 0.2
             }
            },
            "type": "histogram"
           }
          ],
          "histogram2d": [
           {
            "colorbar": {
             "outlinewidth": 0,
             "tickcolor": "rgb(36,36,36)",
             "ticklen": 8,
             "ticks": "outside",
             "tickwidth": 2
            },
            "colorscale": [
             [
              0,
              "rgb(2,4,25)"
             ],
             [
              0.06274509803921569,
              "rgb(24,15,41)"
             ],
             [
              0.12549019607843137,
              "rgb(47,23,57)"
             ],
             [
              0.18823529411764706,
              "rgb(71,28,72)"
             ],
             [
              0.25098039215686274,
              "rgb(97,30,82)"
             ],
             [
              0.3137254901960784,
              "rgb(123,30,89)"
             ],
             [
              0.3764705882352941,
              "rgb(150,27,91)"
             ],
             [
              0.4392156862745098,
              "rgb(177,22,88)"
             ],
             [
              0.5019607843137255,
              "rgb(203,26,79)"
             ],
             [
              0.5647058823529412,
              "rgb(223,47,67)"
             ],
             [
              0.6274509803921569,
              "rgb(236,76,61)"
             ],
             [
              0.6901960784313725,
              "rgb(242,107,73)"
             ],
             [
              0.7529411764705882,
              "rgb(244,135,95)"
             ],
             [
              0.8156862745098039,
              "rgb(245,162,122)"
             ],
             [
              0.8784313725490196,
              "rgb(246,188,153)"
             ],
             [
              0.9411764705882353,
              "rgb(247,212,187)"
             ],
             [
              1,
              "rgb(250,234,220)"
             ]
            ],
            "type": "histogram2d"
           }
          ],
          "histogram2dcontour": [
           {
            "colorbar": {
             "outlinewidth": 0,
             "tickcolor": "rgb(36,36,36)",
             "ticklen": 8,
             "ticks": "outside",
             "tickwidth": 2
            },
            "colorscale": [
             [
              0,
              "rgb(2,4,25)"
             ],
             [
              0.06274509803921569,
              "rgb(24,15,41)"
             ],
             [
              0.12549019607843137,
              "rgb(47,23,57)"
             ],
             [
              0.18823529411764706,
              "rgb(71,28,72)"
             ],
             [
              0.25098039215686274,
              "rgb(97,30,82)"
             ],
             [
              0.3137254901960784,
              "rgb(123,30,89)"
             ],
             [
              0.3764705882352941,
              "rgb(150,27,91)"
             ],
             [
              0.4392156862745098,
              "rgb(177,22,88)"
             ],
             [
              0.5019607843137255,
              "rgb(203,26,79)"
             ],
             [
              0.5647058823529412,
              "rgb(223,47,67)"
             ],
             [
              0.6274509803921569,
              "rgb(236,76,61)"
             ],
             [
              0.6901960784313725,
              "rgb(242,107,73)"
             ],
             [
              0.7529411764705882,
              "rgb(244,135,95)"
             ],
             [
              0.8156862745098039,
              "rgb(245,162,122)"
             ],
             [
              0.8784313725490196,
              "rgb(246,188,153)"
             ],
             [
              0.9411764705882353,
              "rgb(247,212,187)"
             ],
             [
              1,
              "rgb(250,234,220)"
             ]
            ],
            "type": "histogram2dcontour"
           }
          ],
          "mesh3d": [
           {
            "colorbar": {
             "outlinewidth": 0,
             "tickcolor": "rgb(36,36,36)",
             "ticklen": 8,
             "ticks": "outside",
             "tickwidth": 2
            },
            "type": "mesh3d"
           }
          ],
          "parcoords": [
           {
            "line": {
             "colorbar": {
              "outlinewidth": 0,
              "tickcolor": "rgb(36,36,36)",
              "ticklen": 8,
              "ticks": "outside",
              "tickwidth": 2
             }
            },
            "type": "parcoords"
           }
          ],
          "pie": [
           {
            "automargin": true,
            "type": "pie"
           }
          ],
          "scatter": [
           {
            "fillpattern": {
             "fillmode": "overlay",
             "size": 10,
             "solidity": 0.2
            },
            "type": "scatter"
           }
          ],
          "scatter3d": [
           {
            "line": {
             "colorbar": {
              "outlinewidth": 0,
              "tickcolor": "rgb(36,36,36)",
              "ticklen": 8,
              "ticks": "outside",
              "tickwidth": 2
             }
            },
            "marker": {
             "colorbar": {
              "outlinewidth": 0,
              "tickcolor": "rgb(36,36,36)",
              "ticklen": 8,
              "ticks": "outside",
              "tickwidth": 2
             }
            },
            "type": "scatter3d"
           }
          ],
          "scattercarpet": [
           {
            "marker": {
             "colorbar": {
              "outlinewidth": 0,
              "tickcolor": "rgb(36,36,36)",
              "ticklen": 8,
              "ticks": "outside",
              "tickwidth": 2
             }
            },
            "type": "scattercarpet"
           }
          ],
          "scattergeo": [
           {
            "marker": {
             "colorbar": {
              "outlinewidth": 0,
              "tickcolor": "rgb(36,36,36)",
              "ticklen": 8,
              "ticks": "outside",
              "tickwidth": 2
             }
            },
            "type": "scattergeo"
           }
          ],
          "scattergl": [
           {
            "marker": {
             "colorbar": {
              "outlinewidth": 0,
              "tickcolor": "rgb(36,36,36)",
              "ticklen": 8,
              "ticks": "outside",
              "tickwidth": 2
             }
            },
            "type": "scattergl"
           }
          ],
          "scattermapbox": [
           {
            "marker": {
             "colorbar": {
              "outlinewidth": 0,
              "tickcolor": "rgb(36,36,36)",
              "ticklen": 8,
              "ticks": "outside",
              "tickwidth": 2
             }
            },
            "type": "scattermapbox"
           }
          ],
          "scatterpolar": [
           {
            "marker": {
             "colorbar": {
              "outlinewidth": 0,
              "tickcolor": "rgb(36,36,36)",
              "ticklen": 8,
              "ticks": "outside",
              "tickwidth": 2
             }
            },
            "type": "scatterpolar"
           }
          ],
          "scatterpolargl": [
           {
            "marker": {
             "colorbar": {
              "outlinewidth": 0,
              "tickcolor": "rgb(36,36,36)",
              "ticklen": 8,
              "ticks": "outside",
              "tickwidth": 2
             }
            },
            "type": "scatterpolargl"
           }
          ],
          "scatterternary": [
           {
            "marker": {
             "colorbar": {
              "outlinewidth": 0,
              "tickcolor": "rgb(36,36,36)",
              "ticklen": 8,
              "ticks": "outside",
              "tickwidth": 2
             }
            },
            "type": "scatterternary"
           }
          ],
          "surface": [
           {
            "colorbar": {
             "outlinewidth": 0,
             "tickcolor": "rgb(36,36,36)",
             "ticklen": 8,
             "ticks": "outside",
             "tickwidth": 2
            },
            "colorscale": [
             [
              0,
              "rgb(2,4,25)"
             ],
             [
              0.06274509803921569,
              "rgb(24,15,41)"
             ],
             [
              0.12549019607843137,
              "rgb(47,23,57)"
             ],
             [
              0.18823529411764706,
              "rgb(71,28,72)"
             ],
             [
              0.25098039215686274,
              "rgb(97,30,82)"
             ],
             [
              0.3137254901960784,
              "rgb(123,30,89)"
             ],
             [
              0.3764705882352941,
              "rgb(150,27,91)"
             ],
             [
              0.4392156862745098,
              "rgb(177,22,88)"
             ],
             [
              0.5019607843137255,
              "rgb(203,26,79)"
             ],
             [
              0.5647058823529412,
              "rgb(223,47,67)"
             ],
             [
              0.6274509803921569,
              "rgb(236,76,61)"
             ],
             [
              0.6901960784313725,
              "rgb(242,107,73)"
             ],
             [
              0.7529411764705882,
              "rgb(244,135,95)"
             ],
             [
              0.8156862745098039,
              "rgb(245,162,122)"
             ],
             [
              0.8784313725490196,
              "rgb(246,188,153)"
             ],
             [
              0.9411764705882353,
              "rgb(247,212,187)"
             ],
             [
              1,
              "rgb(250,234,220)"
             ]
            ],
            "type": "surface"
           }
          ],
          "table": [
           {
            "cells": {
             "fill": {
              "color": "rgb(231,231,240)"
             },
             "line": {
              "color": "white"
             }
            },
            "header": {
             "fill": {
              "color": "rgb(183,183,191)"
             },
             "line": {
              "color": "white"
             }
            },
            "type": "table"
           }
          ]
         },
         "layout": {
          "annotationdefaults": {
           "arrowcolor": "rgb(67,103,167)"
          },
          "autotypenumbers": "strict",
          "coloraxis": {
           "colorbar": {
            "outlinewidth": 0,
            "tickcolor": "rgb(36,36,36)",
            "ticklen": 8,
            "ticks": "outside",
            "tickwidth": 2
           }
          },
          "colorscale": {
           "sequential": [
            [
             0,
             "rgb(2,4,25)"
            ],
            [
             0.06274509803921569,
             "rgb(24,15,41)"
            ],
            [
             0.12549019607843137,
             "rgb(47,23,57)"
            ],
            [
             0.18823529411764706,
             "rgb(71,28,72)"
            ],
            [
             0.25098039215686274,
             "rgb(97,30,82)"
            ],
            [
             0.3137254901960784,
             "rgb(123,30,89)"
            ],
            [
             0.3764705882352941,
             "rgb(150,27,91)"
            ],
            [
             0.4392156862745098,
             "rgb(177,22,88)"
            ],
            [
             0.5019607843137255,
             "rgb(203,26,79)"
            ],
            [
             0.5647058823529412,
             "rgb(223,47,67)"
            ],
            [
             0.6274509803921569,
             "rgb(236,76,61)"
            ],
            [
             0.6901960784313725,
             "rgb(242,107,73)"
            ],
            [
             0.7529411764705882,
             "rgb(244,135,95)"
            ],
            [
             0.8156862745098039,
             "rgb(245,162,122)"
            ],
            [
             0.8784313725490196,
             "rgb(246,188,153)"
            ],
            [
             0.9411764705882353,
             "rgb(247,212,187)"
            ],
            [
             1,
             "rgb(250,234,220)"
            ]
           ],
           "sequentialminus": [
            [
             0,
             "rgb(2,4,25)"
            ],
            [
             0.06274509803921569,
             "rgb(24,15,41)"
            ],
            [
             0.12549019607843137,
             "rgb(47,23,57)"
            ],
            [
             0.18823529411764706,
             "rgb(71,28,72)"
            ],
            [
             0.25098039215686274,
             "rgb(97,30,82)"
            ],
            [
             0.3137254901960784,
             "rgb(123,30,89)"
            ],
            [
             0.3764705882352941,
             "rgb(150,27,91)"
            ],
            [
             0.4392156862745098,
             "rgb(177,22,88)"
            ],
            [
             0.5019607843137255,
             "rgb(203,26,79)"
            ],
            [
             0.5647058823529412,
             "rgb(223,47,67)"
            ],
            [
             0.6274509803921569,
             "rgb(236,76,61)"
            ],
            [
             0.6901960784313725,
             "rgb(242,107,73)"
            ],
            [
             0.7529411764705882,
             "rgb(244,135,95)"
            ],
            [
             0.8156862745098039,
             "rgb(245,162,122)"
            ],
            [
             0.8784313725490196,
             "rgb(246,188,153)"
            ],
            [
             0.9411764705882353,
             "rgb(247,212,187)"
            ],
            [
             1,
             "rgb(250,234,220)"
            ]
           ]
          },
          "colorway": [
           "rgb(76,114,176)",
           "rgb(221,132,82)",
           "rgb(85,168,104)",
           "rgb(196,78,82)",
           "rgb(129,114,179)",
           "rgb(147,120,96)",
           "rgb(218,139,195)",
           "rgb(140,140,140)",
           "rgb(204,185,116)",
           "rgb(100,181,205)"
          ],
          "font": {
           "color": "rgb(36,36,36)"
          },
          "geo": {
           "bgcolor": "white",
           "lakecolor": "white",
           "landcolor": "rgb(234,234,242)",
           "showlakes": true,
           "showland": true,
           "subunitcolor": "white"
          },
          "hoverlabel": {
           "align": "left"
          },
          "hovermode": "closest",
          "paper_bgcolor": "white",
          "plot_bgcolor": "rgb(234,234,242)",
          "polar": {
           "angularaxis": {
            "gridcolor": "white",
            "linecolor": "white",
            "showgrid": true,
            "ticks": ""
           },
           "bgcolor": "rgb(234,234,242)",
           "radialaxis": {
            "gridcolor": "white",
            "linecolor": "white",
            "showgrid": true,
            "ticks": ""
           }
          },
          "scene": {
           "xaxis": {
            "backgroundcolor": "rgb(234,234,242)",
            "gridcolor": "white",
            "gridwidth": 2,
            "linecolor": "white",
            "showbackground": true,
            "showgrid": true,
            "ticks": "",
            "zerolinecolor": "white"
           },
           "yaxis": {
            "backgroundcolor": "rgb(234,234,242)",
            "gridcolor": "white",
            "gridwidth": 2,
            "linecolor": "white",
            "showbackground": true,
            "showgrid": true,
            "ticks": "",
            "zerolinecolor": "white"
           },
           "zaxis": {
            "backgroundcolor": "rgb(234,234,242)",
            "gridcolor": "white",
            "gridwidth": 2,
            "linecolor": "white",
            "showbackground": true,
            "showgrid": true,
            "ticks": "",
            "zerolinecolor": "white"
           }
          },
          "shapedefaults": {
           "fillcolor": "rgb(67,103,167)",
           "line": {
            "width": 0
           },
           "opacity": 0.5
          },
          "ternary": {
           "aaxis": {
            "gridcolor": "white",
            "linecolor": "white",
            "showgrid": true,
            "ticks": ""
           },
           "baxis": {
            "gridcolor": "white",
            "linecolor": "white",
            "showgrid": true,
            "ticks": ""
           },
           "bgcolor": "rgb(234,234,242)",
           "caxis": {
            "gridcolor": "white",
            "linecolor": "white",
            "showgrid": true,
            "ticks": ""
           }
          },
          "xaxis": {
           "automargin": true,
           "gridcolor": "white",
           "linecolor": "white",
           "showgrid": true,
           "ticks": "",
           "title": {
            "standoff": 15
           },
           "zerolinecolor": "white"
          },
          "yaxis": {
           "automargin": true,
           "gridcolor": "white",
           "linecolor": "white",
           "showgrid": true,
           "ticks": "",
           "title": {
            "standoff": 15
           },
           "zerolinecolor": "white"
          }
         }
        },
        "title": {
         "text": "Effect of Downcasting"
        },
        "xaxis": {
         "anchor": "y",
         "domain": [
          0,
          1
         ],
         "title": {
          "text": "DataFrame"
         }
        },
        "yaxis": {
         "anchor": "x",
         "domain": [
          0,
          1
         ],
         "title": {
          "text": "Memory (MB)"
         }
        }
       }
      }
     },
     "metadata": {},
     "output_type": "display_data"
    }
   ],
   "source": [
    "memory = {'DataFrame':['sales','calendar','prices'],\n",
    "       'Before downcasting':[sales_bd,calendar_bd,prices_bd],\n",
    "       'After downcasting':[sales_ad,calendar_ad,prices_ad]}\n",
    "\n",
    "memory = pd.DataFrame(memory)\n",
    "memory = pd.melt(memory, id_vars='DataFrame', var_name='Status', value_name='Memory (MB)')\n",
    "memory.sort_values('Memory (MB)',inplace=True)\n",
    "fig = px.bar(memory, x='DataFrame', y='Memory (MB)', color='Status', color_discrete_sequence=WALMART_COLOURS, barmode='group', text='Memory (MB)')\n",
    "fig.update_traces(texttemplate='%{text} MB', textposition='outside')\n",
    "fig.update_layout(template='seaborn', title='Effect of Downcasting')\n",
    "fig.show()"
   ]
  },
  {
   "cell_type": "markdown",
   "metadata": {},
   "source": [
    "### Understanding The Data\n",
    "\n",
    "Now that we've downcasted the data, we can now trying and wrap our heads around what's in the data. The M5 dataset, generously made available by Walmart, involves the unit sales of various products sold in the USA, organized in the form of **grouped time series**. We have 3 049 products classified into 3 product categories (Hobbies, Foods and Household). We then have 7 product department in under which these categories are aggregated.\n",
    "These products are sold in 10 stores across 3 states: California(CA), Texas(TA) and Wisconsin(WI).\n",
    "\n",
    "We can visualize this distribution as follows:"
   ]
  },
  {
   "cell_type": "code",
   "execution_count": 9,
   "metadata": {},
   "outputs": [
    {
     "data": {
      "text/html": [
       "<div>\n",
       "<style scoped>\n",
       "    .dataframe tbody tr th:only-of-type {\n",
       "        vertical-align: middle;\n",
       "    }\n",
       "\n",
       "    .dataframe tbody tr th {\n",
       "        vertical-align: top;\n",
       "    }\n",
       "\n",
       "    .dataframe thead th {\n",
       "        text-align: right;\n",
       "    }\n",
       "</style>\n",
       "<table border=\"1\" class=\"dataframe\">\n",
       "  <thead>\n",
       "    <tr style=\"text-align: right;\">\n",
       "      <th></th>\n",
       "      <th>state_id</th>\n",
       "      <th>store_id</th>\n",
       "      <th>cat_id</th>\n",
       "      <th>dept_id</th>\n",
       "      <th>item_id</th>\n",
       "    </tr>\n",
       "  </thead>\n",
       "  <tbody>\n",
       "    <tr>\n",
       "      <th>0</th>\n",
       "      <td>CA</td>\n",
       "      <td>CA_1</td>\n",
       "      <td>FOODS</td>\n",
       "      <td>FOODS_1</td>\n",
       "      <td>216</td>\n",
       "    </tr>\n",
       "    <tr>\n",
       "      <th>1</th>\n",
       "      <td>CA</td>\n",
       "      <td>CA_1</td>\n",
       "      <td>FOODS</td>\n",
       "      <td>FOODS_2</td>\n",
       "      <td>398</td>\n",
       "    </tr>\n",
       "    <tr>\n",
       "      <th>2</th>\n",
       "      <td>CA</td>\n",
       "      <td>CA_1</td>\n",
       "      <td>FOODS</td>\n",
       "      <td>FOODS_3</td>\n",
       "      <td>823</td>\n",
       "    </tr>\n",
       "    <tr>\n",
       "      <th>3</th>\n",
       "      <td>CA</td>\n",
       "      <td>CA_1</td>\n",
       "      <td>FOODS</td>\n",
       "      <td>HOBBIES_1</td>\n",
       "      <td>0</td>\n",
       "    </tr>\n",
       "    <tr>\n",
       "      <th>4</th>\n",
       "      <td>CA</td>\n",
       "      <td>CA_1</td>\n",
       "      <td>FOODS</td>\n",
       "      <td>HOBBIES_2</td>\n",
       "      <td>0</td>\n",
       "    </tr>\n",
       "  </tbody>\n",
       "</table>\n",
       "</div>"
      ],
      "text/plain": [
       "  state_id store_id cat_id    dept_id  item_id\n",
       "0       CA     CA_1  FOODS    FOODS_1      216\n",
       "1       CA     CA_1  FOODS    FOODS_2      398\n",
       "2       CA     CA_1  FOODS    FOODS_3      823\n",
       "3       CA     CA_1  FOODS  HOBBIES_1        0\n",
       "4       CA     CA_1  FOODS  HOBBIES_2        0"
      ]
     },
     "execution_count": 9,
     "metadata": {},
     "output_type": "execute_result"
    }
   ],
   "source": [
    "sales_group = sales.groupby(['state_id','store_id','cat_id','dept_id'],as_index=False)['item_id'].count().dropna()\n",
    "sales_group.head()"
   ]
  },
  {
   "cell_type": "code",
   "execution_count": 9,
   "metadata": {},
   "outputs": [
    {
     "data": {
      "application/vnd.plotly.v1+json": {
       "config": {
        "plotlyServerURL": "https://plot.ly"
       },
       "data": [
        {
         "branchvalues": "total",
         "customdata": [
          [
           216
          ],
          [
           null
          ],
          [
           null
          ],
          [
           216
          ],
          [
           null
          ],
          [
           null
          ],
          [
           216
          ],
          [
           null
          ],
          [
           null
          ],
          [
           216
          ],
          [
           null
          ],
          [
           null
          ],
          [
           null
          ],
          [
           216
          ],
          [
           null
          ],
          [
           null
          ],
          [
           216
          ],
          [
           null
          ],
          [
           null
          ],
          [
           216
          ],
          [
           null
          ],
          [
           null
          ],
          [
           null
          ],
          [
           216
          ],
          [
           null
          ],
          [
           null
          ],
          [
           216
          ],
          [
           null
          ],
          [
           null
          ],
          [
           216
          ],
          [
           null
          ],
          [
           null
          ],
          [
           null
          ],
          [
           null
          ],
          [
           null
          ],
          [
           null
          ],
          [
           null
          ],
          [
           null
          ],
          [
           null
          ],
          [
           null
          ],
          [
           null
          ],
          [
           null
          ],
          [
           null
          ],
          [
           null
          ],
          [
           null
          ],
          [
           null
          ],
          [
           null
          ],
          [
           null
          ],
          [
           null
          ],
          [
           null
          ],
          [
           null
          ],
          [
           null
          ],
          [
           null
          ],
          [
           null
          ],
          [
           null
          ],
          [
           null
          ],
          [
           null
          ],
          [
           null
          ],
          [
           null
          ],
          [
           null
          ],
          [
           null
          ],
          [
           null
          ],
          [
           null
          ],
          [
           null
          ],
          [
           null
          ],
          [
           null
          ],
          [
           null
          ],
          [
           null
          ],
          [
           null
          ],
          [
           null
          ],
          [
           null
          ],
          [
           null
          ],
          [
           null
          ],
          [
           null
          ],
          [
           null
          ],
          [
           null
          ],
          [
           null
          ],
          [
           null
          ],
          [
           null
          ],
          [
           null
          ],
          [
           null
          ],
          [
           null
          ],
          [
           null
          ],
          [
           null
          ],
          [
           null
          ],
          [
           null
          ],
          [
           null
          ],
          [
           null
          ],
          [
           null
          ],
          [
           null
          ],
          [
           398
          ],
          [
           null
          ],
          [
           null
          ],
          [
           398
          ],
          [
           null
          ],
          [
           null
          ],
          [
           398
          ],
          [
           null
          ],
          [
           null
          ],
          [
           398
          ],
          [
           null
          ],
          [
           null
          ],
          [
           null
          ],
          [
           398
          ],
          [
           null
          ],
          [
           null
          ],
          [
           398
          ],
          [
           null
          ],
          [
           null
          ],
          [
           398
          ],
          [
           null
          ],
          [
           null
          ],
          [
           null
          ],
          [
           398
          ],
          [
           null
          ],
          [
           null
          ],
          [
           398
          ],
          [
           null
          ],
          [
           null
          ],
          [
           398
          ],
          [
           null
          ],
          [
           null
          ],
          [
           null
          ],
          [
           null
          ],
          [
           null
          ],
          [
           null
          ],
          [
           null
          ],
          [
           null
          ],
          [
           null
          ],
          [
           null
          ],
          [
           null
          ],
          [
           null
          ],
          [
           null
          ],
          [
           null
          ],
          [
           null
          ],
          [
           null
          ],
          [
           null
          ],
          [
           null
          ],
          [
           null
          ],
          [
           null
          ],
          [
           null
          ],
          [
           null
          ],
          [
           null
          ],
          [
           null
          ],
          [
           null
          ],
          [
           null
          ],
          [
           null
          ],
          [
           null
          ],
          [
           null
          ],
          [
           null
          ],
          [
           null
          ],
          [
           null
          ],
          [
           null
          ],
          [
           null
          ],
          [
           null
          ],
          [
           null
          ],
          [
           null
          ],
          [
           null
          ],
          [
           null
          ],
          [
           null
          ],
          [
           null
          ],
          [
           null
          ],
          [
           null
          ],
          [
           null
          ],
          [
           null
          ],
          [
           null
          ],
          [
           null
          ],
          [
           null
          ],
          [
           null
          ],
          [
           null
          ],
          [
           null
          ],
          [
           null
          ],
          [
           null
          ],
          [
           null
          ],
          [
           null
          ],
          [
           null
          ],
          [
           null
          ],
          [
           null
          ],
          [
           null
          ],
          [
           null
          ],
          [
           823
          ],
          [
           null
          ],
          [
           null
          ],
          [
           823
          ],
          [
           null
          ],
          [
           null
          ],
          [
           823
          ],
          [
           null
          ],
          [
           null
          ],
          [
           823
          ],
          [
           null
          ],
          [
           null
          ],
          [
           null
          ],
          [
           823
          ],
          [
           null
          ],
          [
           null
          ],
          [
           823
          ],
          [
           null
          ],
          [
           null
          ],
          [
           823
          ],
          [
           null
          ],
          [
           null
          ],
          [
           null
          ],
          [
           823
          ],
          [
           null
          ],
          [
           null
          ],
          [
           823
          ],
          [
           null
          ],
          [
           null
          ],
          [
           823
          ],
          [
           null
          ],
          [
           null
          ],
          [
           null
          ],
          [
           null
          ],
          [
           null
          ],
          [
           null
          ],
          [
           null
          ],
          [
           null
          ],
          [
           null
          ],
          [
           null
          ],
          [
           null
          ],
          [
           null
          ],
          [
           null
          ],
          [
           null
          ],
          [
           null
          ],
          [
           null
          ],
          [
           null
          ],
          [
           null
          ],
          [
           null
          ],
          [
           null
          ],
          [
           null
          ],
          [
           null
          ],
          [
           null
          ],
          [
           null
          ],
          [
           null
          ],
          [
           null
          ],
          [
           null
          ],
          [
           null
          ],
          [
           null
          ],
          [
           null
          ],
          [
           null
          ],
          [
           null
          ],
          [
           null
          ],
          [
           null
          ],
          [
           null
          ],
          [
           null
          ],
          [
           null
          ],
          [
           null
          ],
          [
           null
          ],
          [
           null
          ],
          [
           null
          ],
          [
           null
          ],
          [
           null
          ],
          [
           null
          ],
          [
           null
          ],
          [
           null
          ],
          [
           null
          ],
          [
           null
          ],
          [
           null
          ],
          [
           null
          ],
          [
           null
          ],
          [
           null
          ],
          [
           null
          ],
          [
           null
          ],
          [
           null
          ],
          [
           null
          ],
          [
           null
          ],
          [
           null
          ],
          [
           null
          ],
          [
           null
          ],
          [
           null
          ],
          [
           null
          ],
          [
           null
          ],
          [
           null
          ],
          [
           null
          ],
          [
           null
          ],
          [
           null
          ],
          [
           null
          ],
          [
           null
          ],
          [
           null
          ],
          [
           null
          ],
          [
           null
          ],
          [
           null
          ],
          [
           null
          ],
          [
           null
          ],
          [
           null
          ],
          [
           null
          ],
          [
           null
          ],
          [
           null
          ],
          [
           null
          ],
          [
           null
          ],
          [
           null
          ],
          [
           null
          ],
          [
           null
          ],
          [
           null
          ],
          [
           null
          ],
          [
           null
          ],
          [
           null
          ],
          [
           null
          ],
          [
           null
          ],
          [
           416
          ],
          [
           null
          ],
          [
           null
          ],
          [
           416
          ],
          [
           null
          ],
          [
           null
          ],
          [
           416
          ],
          [
           null
          ],
          [
           null
          ],
          [
           416
          ],
          [
           null
          ],
          [
           null
          ],
          [
           null
          ],
          [
           416
          ],
          [
           null
          ],
          [
           null
          ],
          [
           416
          ],
          [
           null
          ],
          [
           null
          ],
          [
           416
          ],
          [
           null
          ],
          [
           null
          ],
          [
           null
          ],
          [
           416
          ],
          [
           null
          ],
          [
           null
          ],
          [
           416
          ],
          [
           null
          ],
          [
           null
          ],
          [
           416
          ],
          [
           null
          ],
          [
           null
          ],
          [
           null
          ],
          [
           null
          ],
          [
           null
          ],
          [
           null
          ],
          [
           null
          ],
          [
           null
          ],
          [
           null
          ],
          [
           null
          ],
          [
           null
          ],
          [
           null
          ],
          [
           null
          ],
          [
           null
          ],
          [
           null
          ],
          [
           null
          ],
          [
           null
          ],
          [
           null
          ],
          [
           null
          ],
          [
           null
          ],
          [
           null
          ],
          [
           null
          ],
          [
           null
          ],
          [
           null
          ],
          [
           null
          ],
          [
           null
          ],
          [
           null
          ],
          [
           null
          ],
          [
           null
          ],
          [
           null
          ],
          [
           null
          ],
          [
           null
          ],
          [
           null
          ],
          [
           null
          ],
          [
           null
          ],
          [
           null
          ],
          [
           null
          ],
          [
           null
          ],
          [
           null
          ],
          [
           null
          ],
          [
           null
          ],
          [
           null
          ],
          [
           null
          ],
          [
           null
          ],
          [
           null
          ],
          [
           null
          ],
          [
           null
          ],
          [
           null
          ],
          [
           null
          ],
          [
           null
          ],
          [
           null
          ],
          [
           null
          ],
          [
           null
          ],
          [
           null
          ],
          [
           null
          ],
          [
           null
          ],
          [
           null
          ],
          [
           null
          ],
          [
           null
          ],
          [
           null
          ],
          [
           149
          ],
          [
           null
          ],
          [
           null
          ],
          [
           149
          ],
          [
           null
          ],
          [
           null
          ],
          [
           149
          ],
          [
           null
          ],
          [
           null
          ],
          [
           149
          ],
          [
           null
          ],
          [
           null
          ],
          [
           null
          ],
          [
           149
          ],
          [
           null
          ],
          [
           null
          ],
          [
           149
          ],
          [
           null
          ],
          [
           null
          ],
          [
           149
          ],
          [
           null
          ],
          [
           null
          ],
          [
           null
          ],
          [
           149
          ],
          [
           null
          ],
          [
           null
          ],
          [
           149
          ],
          [
           null
          ],
          [
           null
          ],
          [
           149
          ],
          [
           null
          ],
          [
           null
          ],
          [
           null
          ],
          [
           null
          ],
          [
           null
          ],
          [
           null
          ],
          [
           null
          ],
          [
           null
          ],
          [
           null
          ],
          [
           null
          ],
          [
           null
          ],
          [
           null
          ],
          [
           null
          ],
          [
           null
          ],
          [
           null
          ],
          [
           null
          ],
          [
           null
          ],
          [
           null
          ],
          [
           null
          ],
          [
           null
          ],
          [
           null
          ],
          [
           null
          ],
          [
           null
          ],
          [
           null
          ],
          [
           null
          ],
          [
           null
          ],
          [
           null
          ],
          [
           null
          ],
          [
           null
          ],
          [
           null
          ],
          [
           null
          ],
          [
           null
          ],
          [
           null
          ],
          [
           null
          ],
          [
           null
          ],
          [
           null
          ],
          [
           null
          ],
          [
           null
          ],
          [
           null
          ],
          [
           null
          ],
          [
           null
          ],
          [
           null
          ],
          [
           null
          ],
          [
           null
          ],
          [
           null
          ],
          [
           null
          ],
          [
           null
          ],
          [
           null
          ],
          [
           null
          ],
          [
           null
          ],
          [
           null
          ],
          [
           null
          ],
          [
           null
          ],
          [
           null
          ],
          [
           null
          ],
          [
           null
          ],
          [
           null
          ],
          [
           null
          ],
          [
           null
          ],
          [
           null
          ],
          [
           null
          ],
          [
           null
          ],
          [
           null
          ],
          [
           null
          ],
          [
           null
          ],
          [
           null
          ],
          [
           null
          ],
          [
           null
          ],
          [
           null
          ],
          [
           null
          ],
          [
           null
          ],
          [
           null
          ],
          [
           null
          ],
          [
           null
          ],
          [
           null
          ],
          [
           null
          ],
          [
           null
          ],
          [
           null
          ],
          [
           null
          ],
          [
           null
          ],
          [
           null
          ],
          [
           null
          ],
          [
           null
          ],
          [
           null
          ],
          [
           null
          ],
          [
           null
          ],
          [
           null
          ],
          [
           null
          ],
          [
           null
          ],
          [
           null
          ],
          [
           532
          ],
          [
           null
          ],
          [
           null
          ],
          [
           532
          ],
          [
           null
          ],
          [
           null
          ],
          [
           532
          ],
          [
           null
          ],
          [
           null
          ],
          [
           532
          ],
          [
           null
          ],
          [
           null
          ],
          [
           null
          ],
          [
           532
          ],
          [
           null
          ],
          [
           null
          ],
          [
           532
          ],
          [
           null
          ],
          [
           null
          ],
          [
           532
          ],
          [
           null
          ],
          [
           null
          ],
          [
           null
          ],
          [
           532
          ],
          [
           null
          ],
          [
           null
          ],
          [
           532
          ],
          [
           null
          ],
          [
           null
          ],
          [
           532
          ],
          [
           null
          ],
          [
           null
          ],
          [
           null
          ],
          [
           null
          ],
          [
           null
          ],
          [
           null
          ],
          [
           null
          ],
          [
           null
          ],
          [
           null
          ],
          [
           null
          ],
          [
           null
          ],
          [
           null
          ],
          [
           null
          ],
          [
           null
          ],
          [
           null
          ],
          [
           null
          ],
          [
           null
          ],
          [
           null
          ],
          [
           null
          ],
          [
           null
          ],
          [
           null
          ],
          [
           null
          ],
          [
           null
          ],
          [
           null
          ],
          [
           null
          ],
          [
           null
          ],
          [
           null
          ],
          [
           null
          ],
          [
           null
          ],
          [
           null
          ],
          [
           null
          ],
          [
           null
          ],
          [
           null
          ],
          [
           null
          ],
          [
           null
          ],
          [
           null
          ],
          [
           null
          ],
          [
           null
          ],
          [
           null
          ],
          [
           null
          ],
          [
           null
          ],
          [
           null
          ],
          [
           null
          ],
          [
           null
          ],
          [
           null
          ],
          [
           null
          ],
          [
           null
          ],
          [
           null
          ],
          [
           null
          ],
          [
           null
          ],
          [
           null
          ],
          [
           null
          ],
          [
           null
          ],
          [
           null
          ],
          [
           null
          ],
          [
           null
          ],
          [
           null
          ],
          [
           null
          ],
          [
           null
          ],
          [
           null
          ],
          [
           515
          ],
          [
           null
          ],
          [
           null
          ],
          [
           515
          ],
          [
           null
          ],
          [
           null
          ],
          [
           515
          ],
          [
           null
          ],
          [
           null
          ],
          [
           515
          ],
          [
           null
          ],
          [
           null
          ],
          [
           null
          ],
          [
           515
          ],
          [
           null
          ],
          [
           null
          ],
          [
           515
          ],
          [
           null
          ],
          [
           null
          ],
          [
           515
          ],
          [
           null
          ],
          [
           null
          ],
          [
           null
          ],
          [
           515
          ],
          [
           null
          ],
          [
           null
          ],
          [
           515
          ],
          [
           null
          ],
          [
           null
          ],
          [
           515
          ],
          [
           614.0494084899095
          ],
          [
           null
          ],
          [
           null
          ],
          [
           614.0494084899095
          ],
          [
           null
          ],
          [
           null
          ],
          [
           614.0494084899095
          ],
          [
           null
          ],
          [
           null
          ],
          [
           614.0494084899095
          ],
          [
           null
          ],
          [
           null
          ],
          [
           null
          ],
          [
           614.0494084899095
          ],
          [
           null
          ],
          [
           null
          ],
          [
           614.0494084899095
          ],
          [
           null
          ],
          [
           null
          ],
          [
           614.0494084899095
          ],
          [
           null
          ],
          [
           null
          ],
          [
           null
          ],
          [
           614.0494084899095
          ],
          [
           null
          ],
          [
           null
          ],
          [
           614.0494084899095
          ],
          [
           null
          ],
          [
           null
          ],
          [
           614.0494084899095
          ],
          [
           345.58761061946905
          ],
          [
           null
          ],
          [
           null
          ],
          [
           345.58761061946905
          ],
          [
           null
          ],
          [
           null
          ],
          [
           345.58761061946905
          ],
          [
           null
          ],
          [
           null
          ],
          [
           345.58761061946905
          ],
          [
           null
          ],
          [
           null
          ],
          [
           null
          ],
          [
           345.58761061946905
          ],
          [
           null
          ],
          [
           null
          ],
          [
           345.58761061946905
          ],
          [
           null
          ],
          [
           null
          ],
          [
           345.58761061946905
          ],
          [
           null
          ],
          [
           null
          ],
          [
           null
          ],
          [
           345.58761061946905
          ],
          [
           null
          ],
          [
           null
          ],
          [
           345.58761061946905
          ],
          [
           null
          ],
          [
           null
          ],
          [
           345.58761061946905
          ],
          [
           523.6380133715377
          ],
          [
           null
          ],
          [
           null
          ],
          [
           523.6380133715377
          ],
          [
           null
          ],
          [
           null
          ],
          [
           523.6380133715377
          ],
          [
           null
          ],
          [
           null
          ],
          [
           523.6380133715377
          ],
          [
           null
          ],
          [
           null
          ],
          [
           null
          ],
          [
           523.6380133715377
          ],
          [
           null
          ],
          [
           null
          ],
          [
           523.6380133715377
          ],
          [
           null
          ],
          [
           null
          ],
          [
           523.6380133715377
          ],
          [
           null
          ],
          [
           null
          ],
          [
           null
          ],
          [
           523.6380133715377
          ],
          [
           null
          ],
          [
           null
          ],
          [
           523.6380133715377
          ],
          [
           null
          ],
          [
           null
          ],
          [
           523.6380133715377
          ],
          [
           533.2551656280748
          ],
          [
           null
          ],
          [
           null
          ],
          [
           533.2551656280748
          ],
          [
           null
          ],
          [
           null
          ],
          [
           533.2551656280748
          ],
          [
           null
          ],
          [
           null
          ],
          [
           533.2551656280748
          ],
          [
           null
          ],
          [
           null
          ],
          [
           null
          ],
          [
           533.2551656280748
          ],
          [
           null
          ],
          [
           null
          ],
          [
           533.2551656280748
          ],
          [
           null
          ],
          [
           null
          ],
          [
           533.2551656280748
          ],
          [
           null
          ],
          [
           null
          ],
          [
           null
          ],
          [
           533.2551656280748
          ],
          [
           null
          ],
          [
           null
          ],
          [
           533.2551656280748
          ],
          [
           null
          ],
          [
           null
          ],
          [
           533.2551656280748
          ],
          [
           533.2551656280748
          ],
          [
           533.2551656280748
          ],
          [
           533.2551656280748
          ],
          [
           533.2551656280748
          ]
         ],
         "domain": {
          "x": [
           0,
           1
          ],
          "y": [
           0,
           1
          ]
         },
         "hovertemplate": "labels=%{label}<br>Count_sum=%{value}<br>parent=%{parent}<br>id=%{id}<br>Count=%{color}<extra></extra>",
         "ids": [
          "United States of America/CA/CA_1/FOODS/FOODS_1",
          "United States of America/TX/CA_1/FOODS/FOODS_1",
          "United States of America/WI/CA_1/FOODS/FOODS_1",
          "United States of America/CA/CA_2/FOODS/FOODS_1",
          "United States of America/TX/CA_2/FOODS/FOODS_1",
          "United States of America/WI/CA_2/FOODS/FOODS_1",
          "United States of America/CA/CA_3/FOODS/FOODS_1",
          "United States of America/TX/CA_3/FOODS/FOODS_1",
          "United States of America/WI/CA_3/FOODS/FOODS_1",
          "United States of America/CA/CA_4/FOODS/FOODS_1",
          "United States of America/TX/CA_4/FOODS/FOODS_1",
          "United States of America/WI/CA_4/FOODS/FOODS_1",
          "United States of America/CA/TX_1/FOODS/FOODS_1",
          "United States of America/TX/TX_1/FOODS/FOODS_1",
          "United States of America/WI/TX_1/FOODS/FOODS_1",
          "United States of America/CA/TX_2/FOODS/FOODS_1",
          "United States of America/TX/TX_2/FOODS/FOODS_1",
          "United States of America/WI/TX_2/FOODS/FOODS_1",
          "United States of America/CA/TX_3/FOODS/FOODS_1",
          "United States of America/TX/TX_3/FOODS/FOODS_1",
          "United States of America/WI/TX_3/FOODS/FOODS_1",
          "United States of America/CA/WI_1/FOODS/FOODS_1",
          "United States of America/TX/WI_1/FOODS/FOODS_1",
          "United States of America/WI/WI_1/FOODS/FOODS_1",
          "United States of America/CA/WI_2/FOODS/FOODS_1",
          "United States of America/TX/WI_2/FOODS/FOODS_1",
          "United States of America/WI/WI_2/FOODS/FOODS_1",
          "United States of America/CA/WI_3/FOODS/FOODS_1",
          "United States of America/TX/WI_3/FOODS/FOODS_1",
          "United States of America/WI/WI_3/FOODS/FOODS_1",
          "United States of America/CA/CA_1/HOBBIES/FOODS_1",
          "United States of America/TX/CA_1/HOBBIES/FOODS_1",
          "United States of America/WI/CA_1/HOBBIES/FOODS_1",
          "United States of America/CA/CA_2/HOBBIES/FOODS_1",
          "United States of America/TX/CA_2/HOBBIES/FOODS_1",
          "United States of America/WI/CA_2/HOBBIES/FOODS_1",
          "United States of America/CA/CA_3/HOBBIES/FOODS_1",
          "United States of America/TX/CA_3/HOBBIES/FOODS_1",
          "United States of America/WI/CA_3/HOBBIES/FOODS_1",
          "United States of America/CA/CA_4/HOBBIES/FOODS_1",
          "United States of America/TX/CA_4/HOBBIES/FOODS_1",
          "United States of America/WI/CA_4/HOBBIES/FOODS_1",
          "United States of America/CA/TX_1/HOBBIES/FOODS_1",
          "United States of America/TX/TX_1/HOBBIES/FOODS_1",
          "United States of America/WI/TX_1/HOBBIES/FOODS_1",
          "United States of America/CA/TX_2/HOBBIES/FOODS_1",
          "United States of America/TX/TX_2/HOBBIES/FOODS_1",
          "United States of America/WI/TX_2/HOBBIES/FOODS_1",
          "United States of America/CA/TX_3/HOBBIES/FOODS_1",
          "United States of America/TX/TX_3/HOBBIES/FOODS_1",
          "United States of America/WI/TX_3/HOBBIES/FOODS_1",
          "United States of America/CA/WI_1/HOBBIES/FOODS_1",
          "United States of America/TX/WI_1/HOBBIES/FOODS_1",
          "United States of America/WI/WI_1/HOBBIES/FOODS_1",
          "United States of America/CA/WI_2/HOBBIES/FOODS_1",
          "United States of America/TX/WI_2/HOBBIES/FOODS_1",
          "United States of America/WI/WI_2/HOBBIES/FOODS_1",
          "United States of America/CA/WI_3/HOBBIES/FOODS_1",
          "United States of America/TX/WI_3/HOBBIES/FOODS_1",
          "United States of America/WI/WI_3/HOBBIES/FOODS_1",
          "United States of America/CA/CA_1/HOUSEHOLD/FOODS_1",
          "United States of America/TX/CA_1/HOUSEHOLD/FOODS_1",
          "United States of America/WI/CA_1/HOUSEHOLD/FOODS_1",
          "United States of America/CA/CA_2/HOUSEHOLD/FOODS_1",
          "United States of America/TX/CA_2/HOUSEHOLD/FOODS_1",
          "United States of America/WI/CA_2/HOUSEHOLD/FOODS_1",
          "United States of America/CA/CA_3/HOUSEHOLD/FOODS_1",
          "United States of America/TX/CA_3/HOUSEHOLD/FOODS_1",
          "United States of America/WI/CA_3/HOUSEHOLD/FOODS_1",
          "United States of America/CA/CA_4/HOUSEHOLD/FOODS_1",
          "United States of America/TX/CA_4/HOUSEHOLD/FOODS_1",
          "United States of America/WI/CA_4/HOUSEHOLD/FOODS_1",
          "United States of America/CA/TX_1/HOUSEHOLD/FOODS_1",
          "United States of America/TX/TX_1/HOUSEHOLD/FOODS_1",
          "United States of America/WI/TX_1/HOUSEHOLD/FOODS_1",
          "United States of America/CA/TX_2/HOUSEHOLD/FOODS_1",
          "United States of America/TX/TX_2/HOUSEHOLD/FOODS_1",
          "United States of America/WI/TX_2/HOUSEHOLD/FOODS_1",
          "United States of America/CA/TX_3/HOUSEHOLD/FOODS_1",
          "United States of America/TX/TX_3/HOUSEHOLD/FOODS_1",
          "United States of America/WI/TX_3/HOUSEHOLD/FOODS_1",
          "United States of America/CA/WI_1/HOUSEHOLD/FOODS_1",
          "United States of America/TX/WI_1/HOUSEHOLD/FOODS_1",
          "United States of America/WI/WI_1/HOUSEHOLD/FOODS_1",
          "United States of America/CA/WI_2/HOUSEHOLD/FOODS_1",
          "United States of America/TX/WI_2/HOUSEHOLD/FOODS_1",
          "United States of America/WI/WI_2/HOUSEHOLD/FOODS_1",
          "United States of America/CA/WI_3/HOUSEHOLD/FOODS_1",
          "United States of America/TX/WI_3/HOUSEHOLD/FOODS_1",
          "United States of America/WI/WI_3/HOUSEHOLD/FOODS_1",
          "United States of America/CA/CA_1/FOODS/FOODS_2",
          "United States of America/TX/CA_1/FOODS/FOODS_2",
          "United States of America/WI/CA_1/FOODS/FOODS_2",
          "United States of America/CA/CA_2/FOODS/FOODS_2",
          "United States of America/TX/CA_2/FOODS/FOODS_2",
          "United States of America/WI/CA_2/FOODS/FOODS_2",
          "United States of America/CA/CA_3/FOODS/FOODS_2",
          "United States of America/TX/CA_3/FOODS/FOODS_2",
          "United States of America/WI/CA_3/FOODS/FOODS_2",
          "United States of America/CA/CA_4/FOODS/FOODS_2",
          "United States of America/TX/CA_4/FOODS/FOODS_2",
          "United States of America/WI/CA_4/FOODS/FOODS_2",
          "United States of America/CA/TX_1/FOODS/FOODS_2",
          "United States of America/TX/TX_1/FOODS/FOODS_2",
          "United States of America/WI/TX_1/FOODS/FOODS_2",
          "United States of America/CA/TX_2/FOODS/FOODS_2",
          "United States of America/TX/TX_2/FOODS/FOODS_2",
          "United States of America/WI/TX_2/FOODS/FOODS_2",
          "United States of America/CA/TX_3/FOODS/FOODS_2",
          "United States of America/TX/TX_3/FOODS/FOODS_2",
          "United States of America/WI/TX_3/FOODS/FOODS_2",
          "United States of America/CA/WI_1/FOODS/FOODS_2",
          "United States of America/TX/WI_1/FOODS/FOODS_2",
          "United States of America/WI/WI_1/FOODS/FOODS_2",
          "United States of America/CA/WI_2/FOODS/FOODS_2",
          "United States of America/TX/WI_2/FOODS/FOODS_2",
          "United States of America/WI/WI_2/FOODS/FOODS_2",
          "United States of America/CA/WI_3/FOODS/FOODS_2",
          "United States of America/TX/WI_3/FOODS/FOODS_2",
          "United States of America/WI/WI_3/FOODS/FOODS_2",
          "United States of America/CA/CA_1/HOBBIES/FOODS_2",
          "United States of America/TX/CA_1/HOBBIES/FOODS_2",
          "United States of America/WI/CA_1/HOBBIES/FOODS_2",
          "United States of America/CA/CA_2/HOBBIES/FOODS_2",
          "United States of America/TX/CA_2/HOBBIES/FOODS_2",
          "United States of America/WI/CA_2/HOBBIES/FOODS_2",
          "United States of America/CA/CA_3/HOBBIES/FOODS_2",
          "United States of America/TX/CA_3/HOBBIES/FOODS_2",
          "United States of America/WI/CA_3/HOBBIES/FOODS_2",
          "United States of America/CA/CA_4/HOBBIES/FOODS_2",
          "United States of America/TX/CA_4/HOBBIES/FOODS_2",
          "United States of America/WI/CA_4/HOBBIES/FOODS_2",
          "United States of America/CA/TX_1/HOBBIES/FOODS_2",
          "United States of America/TX/TX_1/HOBBIES/FOODS_2",
          "United States of America/WI/TX_1/HOBBIES/FOODS_2",
          "United States of America/CA/TX_2/HOBBIES/FOODS_2",
          "United States of America/TX/TX_2/HOBBIES/FOODS_2",
          "United States of America/WI/TX_2/HOBBIES/FOODS_2",
          "United States of America/CA/TX_3/HOBBIES/FOODS_2",
          "United States of America/TX/TX_3/HOBBIES/FOODS_2",
          "United States of America/WI/TX_3/HOBBIES/FOODS_2",
          "United States of America/CA/WI_1/HOBBIES/FOODS_2",
          "United States of America/TX/WI_1/HOBBIES/FOODS_2",
          "United States of America/WI/WI_1/HOBBIES/FOODS_2",
          "United States of America/CA/WI_2/HOBBIES/FOODS_2",
          "United States of America/TX/WI_2/HOBBIES/FOODS_2",
          "United States of America/WI/WI_2/HOBBIES/FOODS_2",
          "United States of America/CA/WI_3/HOBBIES/FOODS_2",
          "United States of America/TX/WI_3/HOBBIES/FOODS_2",
          "United States of America/WI/WI_3/HOBBIES/FOODS_2",
          "United States of America/CA/CA_1/HOUSEHOLD/FOODS_2",
          "United States of America/TX/CA_1/HOUSEHOLD/FOODS_2",
          "United States of America/WI/CA_1/HOUSEHOLD/FOODS_2",
          "United States of America/CA/CA_2/HOUSEHOLD/FOODS_2",
          "United States of America/TX/CA_2/HOUSEHOLD/FOODS_2",
          "United States of America/WI/CA_2/HOUSEHOLD/FOODS_2",
          "United States of America/CA/CA_3/HOUSEHOLD/FOODS_2",
          "United States of America/TX/CA_3/HOUSEHOLD/FOODS_2",
          "United States of America/WI/CA_3/HOUSEHOLD/FOODS_2",
          "United States of America/CA/CA_4/HOUSEHOLD/FOODS_2",
          "United States of America/TX/CA_4/HOUSEHOLD/FOODS_2",
          "United States of America/WI/CA_4/HOUSEHOLD/FOODS_2",
          "United States of America/CA/TX_1/HOUSEHOLD/FOODS_2",
          "United States of America/TX/TX_1/HOUSEHOLD/FOODS_2",
          "United States of America/WI/TX_1/HOUSEHOLD/FOODS_2",
          "United States of America/CA/TX_2/HOUSEHOLD/FOODS_2",
          "United States of America/TX/TX_2/HOUSEHOLD/FOODS_2",
          "United States of America/WI/TX_2/HOUSEHOLD/FOODS_2",
          "United States of America/CA/TX_3/HOUSEHOLD/FOODS_2",
          "United States of America/TX/TX_3/HOUSEHOLD/FOODS_2",
          "United States of America/WI/TX_3/HOUSEHOLD/FOODS_2",
          "United States of America/CA/WI_1/HOUSEHOLD/FOODS_2",
          "United States of America/TX/WI_1/HOUSEHOLD/FOODS_2",
          "United States of America/WI/WI_1/HOUSEHOLD/FOODS_2",
          "United States of America/CA/WI_2/HOUSEHOLD/FOODS_2",
          "United States of America/TX/WI_2/HOUSEHOLD/FOODS_2",
          "United States of America/WI/WI_2/HOUSEHOLD/FOODS_2",
          "United States of America/CA/WI_3/HOUSEHOLD/FOODS_2",
          "United States of America/TX/WI_3/HOUSEHOLD/FOODS_2",
          "United States of America/WI/WI_3/HOUSEHOLD/FOODS_2",
          "United States of America/CA/CA_1/FOODS/FOODS_3",
          "United States of America/TX/CA_1/FOODS/FOODS_3",
          "United States of America/WI/CA_1/FOODS/FOODS_3",
          "United States of America/CA/CA_2/FOODS/FOODS_3",
          "United States of America/TX/CA_2/FOODS/FOODS_3",
          "United States of America/WI/CA_2/FOODS/FOODS_3",
          "United States of America/CA/CA_3/FOODS/FOODS_3",
          "United States of America/TX/CA_3/FOODS/FOODS_3",
          "United States of America/WI/CA_3/FOODS/FOODS_3",
          "United States of America/CA/CA_4/FOODS/FOODS_3",
          "United States of America/TX/CA_4/FOODS/FOODS_3",
          "United States of America/WI/CA_4/FOODS/FOODS_3",
          "United States of America/CA/TX_1/FOODS/FOODS_3",
          "United States of America/TX/TX_1/FOODS/FOODS_3",
          "United States of America/WI/TX_1/FOODS/FOODS_3",
          "United States of America/CA/TX_2/FOODS/FOODS_3",
          "United States of America/TX/TX_2/FOODS/FOODS_3",
          "United States of America/WI/TX_2/FOODS/FOODS_3",
          "United States of America/CA/TX_3/FOODS/FOODS_3",
          "United States of America/TX/TX_3/FOODS/FOODS_3",
          "United States of America/WI/TX_3/FOODS/FOODS_3",
          "United States of America/CA/WI_1/FOODS/FOODS_3",
          "United States of America/TX/WI_1/FOODS/FOODS_3",
          "United States of America/WI/WI_1/FOODS/FOODS_3",
          "United States of America/CA/WI_2/FOODS/FOODS_3",
          "United States of America/TX/WI_2/FOODS/FOODS_3",
          "United States of America/WI/WI_2/FOODS/FOODS_3",
          "United States of America/CA/WI_3/FOODS/FOODS_3",
          "United States of America/TX/WI_3/FOODS/FOODS_3",
          "United States of America/WI/WI_3/FOODS/FOODS_3",
          "United States of America/CA/CA_1/HOBBIES/FOODS_3",
          "United States of America/TX/CA_1/HOBBIES/FOODS_3",
          "United States of America/WI/CA_1/HOBBIES/FOODS_3",
          "United States of America/CA/CA_2/HOBBIES/FOODS_3",
          "United States of America/TX/CA_2/HOBBIES/FOODS_3",
          "United States of America/WI/CA_2/HOBBIES/FOODS_3",
          "United States of America/CA/CA_3/HOBBIES/FOODS_3",
          "United States of America/TX/CA_3/HOBBIES/FOODS_3",
          "United States of America/WI/CA_3/HOBBIES/FOODS_3",
          "United States of America/CA/CA_4/HOBBIES/FOODS_3",
          "United States of America/TX/CA_4/HOBBIES/FOODS_3",
          "United States of America/WI/CA_4/HOBBIES/FOODS_3",
          "United States of America/CA/TX_1/HOBBIES/FOODS_3",
          "United States of America/TX/TX_1/HOBBIES/FOODS_3",
          "United States of America/WI/TX_1/HOBBIES/FOODS_3",
          "United States of America/CA/TX_2/HOBBIES/FOODS_3",
          "United States of America/TX/TX_2/HOBBIES/FOODS_3",
          "United States of America/WI/TX_2/HOBBIES/FOODS_3",
          "United States of America/CA/TX_3/HOBBIES/FOODS_3",
          "United States of America/TX/TX_3/HOBBIES/FOODS_3",
          "United States of America/WI/TX_3/HOBBIES/FOODS_3",
          "United States of America/CA/WI_1/HOBBIES/FOODS_3",
          "United States of America/TX/WI_1/HOBBIES/FOODS_3",
          "United States of America/WI/WI_1/HOBBIES/FOODS_3",
          "United States of America/CA/WI_2/HOBBIES/FOODS_3",
          "United States of America/TX/WI_2/HOBBIES/FOODS_3",
          "United States of America/WI/WI_2/HOBBIES/FOODS_3",
          "United States of America/CA/WI_3/HOBBIES/FOODS_3",
          "United States of America/TX/WI_3/HOBBIES/FOODS_3",
          "United States of America/WI/WI_3/HOBBIES/FOODS_3",
          "United States of America/CA/CA_1/HOUSEHOLD/FOODS_3",
          "United States of America/TX/CA_1/HOUSEHOLD/FOODS_3",
          "United States of America/WI/CA_1/HOUSEHOLD/FOODS_3",
          "United States of America/CA/CA_2/HOUSEHOLD/FOODS_3",
          "United States of America/TX/CA_2/HOUSEHOLD/FOODS_3",
          "United States of America/WI/CA_2/HOUSEHOLD/FOODS_3",
          "United States of America/CA/CA_3/HOUSEHOLD/FOODS_3",
          "United States of America/TX/CA_3/HOUSEHOLD/FOODS_3",
          "United States of America/WI/CA_3/HOUSEHOLD/FOODS_3",
          "United States of America/CA/CA_4/HOUSEHOLD/FOODS_3",
          "United States of America/TX/CA_4/HOUSEHOLD/FOODS_3",
          "United States of America/WI/CA_4/HOUSEHOLD/FOODS_3",
          "United States of America/CA/TX_1/HOUSEHOLD/FOODS_3",
          "United States of America/TX/TX_1/HOUSEHOLD/FOODS_3",
          "United States of America/WI/TX_1/HOUSEHOLD/FOODS_3",
          "United States of America/CA/TX_2/HOUSEHOLD/FOODS_3",
          "United States of America/TX/TX_2/HOUSEHOLD/FOODS_3",
          "United States of America/WI/TX_2/HOUSEHOLD/FOODS_3",
          "United States of America/CA/TX_3/HOUSEHOLD/FOODS_3",
          "United States of America/TX/TX_3/HOUSEHOLD/FOODS_3",
          "United States of America/WI/TX_3/HOUSEHOLD/FOODS_3",
          "United States of America/CA/WI_1/HOUSEHOLD/FOODS_3",
          "United States of America/TX/WI_1/HOUSEHOLD/FOODS_3",
          "United States of America/WI/WI_1/HOUSEHOLD/FOODS_3",
          "United States of America/CA/WI_2/HOUSEHOLD/FOODS_3",
          "United States of America/TX/WI_2/HOUSEHOLD/FOODS_3",
          "United States of America/WI/WI_2/HOUSEHOLD/FOODS_3",
          "United States of America/CA/WI_3/HOUSEHOLD/FOODS_3",
          "United States of America/TX/WI_3/HOUSEHOLD/FOODS_3",
          "United States of America/WI/WI_3/HOUSEHOLD/FOODS_3",
          "United States of America/CA/CA_1/FOODS/HOBBIES_1",
          "United States of America/TX/CA_1/FOODS/HOBBIES_1",
          "United States of America/WI/CA_1/FOODS/HOBBIES_1",
          "United States of America/CA/CA_2/FOODS/HOBBIES_1",
          "United States of America/TX/CA_2/FOODS/HOBBIES_1",
          "United States of America/WI/CA_2/FOODS/HOBBIES_1",
          "United States of America/CA/CA_3/FOODS/HOBBIES_1",
          "United States of America/TX/CA_3/FOODS/HOBBIES_1",
          "United States of America/WI/CA_3/FOODS/HOBBIES_1",
          "United States of America/CA/CA_4/FOODS/HOBBIES_1",
          "United States of America/TX/CA_4/FOODS/HOBBIES_1",
          "United States of America/WI/CA_4/FOODS/HOBBIES_1",
          "United States of America/CA/TX_1/FOODS/HOBBIES_1",
          "United States of America/TX/TX_1/FOODS/HOBBIES_1",
          "United States of America/WI/TX_1/FOODS/HOBBIES_1",
          "United States of America/CA/TX_2/FOODS/HOBBIES_1",
          "United States of America/TX/TX_2/FOODS/HOBBIES_1",
          "United States of America/WI/TX_2/FOODS/HOBBIES_1",
          "United States of America/CA/TX_3/FOODS/HOBBIES_1",
          "United States of America/TX/TX_3/FOODS/HOBBIES_1",
          "United States of America/WI/TX_3/FOODS/HOBBIES_1",
          "United States of America/CA/WI_1/FOODS/HOBBIES_1",
          "United States of America/TX/WI_1/FOODS/HOBBIES_1",
          "United States of America/WI/WI_1/FOODS/HOBBIES_1",
          "United States of America/CA/WI_2/FOODS/HOBBIES_1",
          "United States of America/TX/WI_2/FOODS/HOBBIES_1",
          "United States of America/WI/WI_2/FOODS/HOBBIES_1",
          "United States of America/CA/WI_3/FOODS/HOBBIES_1",
          "United States of America/TX/WI_3/FOODS/HOBBIES_1",
          "United States of America/WI/WI_3/FOODS/HOBBIES_1",
          "United States of America/CA/CA_1/HOBBIES/HOBBIES_1",
          "United States of America/TX/CA_1/HOBBIES/HOBBIES_1",
          "United States of America/WI/CA_1/HOBBIES/HOBBIES_1",
          "United States of America/CA/CA_2/HOBBIES/HOBBIES_1",
          "United States of America/TX/CA_2/HOBBIES/HOBBIES_1",
          "United States of America/WI/CA_2/HOBBIES/HOBBIES_1",
          "United States of America/CA/CA_3/HOBBIES/HOBBIES_1",
          "United States of America/TX/CA_3/HOBBIES/HOBBIES_1",
          "United States of America/WI/CA_3/HOBBIES/HOBBIES_1",
          "United States of America/CA/CA_4/HOBBIES/HOBBIES_1",
          "United States of America/TX/CA_4/HOBBIES/HOBBIES_1",
          "United States of America/WI/CA_4/HOBBIES/HOBBIES_1",
          "United States of America/CA/TX_1/HOBBIES/HOBBIES_1",
          "United States of America/TX/TX_1/HOBBIES/HOBBIES_1",
          "United States of America/WI/TX_1/HOBBIES/HOBBIES_1",
          "United States of America/CA/TX_2/HOBBIES/HOBBIES_1",
          "United States of America/TX/TX_2/HOBBIES/HOBBIES_1",
          "United States of America/WI/TX_2/HOBBIES/HOBBIES_1",
          "United States of America/CA/TX_3/HOBBIES/HOBBIES_1",
          "United States of America/TX/TX_3/HOBBIES/HOBBIES_1",
          "United States of America/WI/TX_3/HOBBIES/HOBBIES_1",
          "United States of America/CA/WI_1/HOBBIES/HOBBIES_1",
          "United States of America/TX/WI_1/HOBBIES/HOBBIES_1",
          "United States of America/WI/WI_1/HOBBIES/HOBBIES_1",
          "United States of America/CA/WI_2/HOBBIES/HOBBIES_1",
          "United States of America/TX/WI_2/HOBBIES/HOBBIES_1",
          "United States of America/WI/WI_2/HOBBIES/HOBBIES_1",
          "United States of America/CA/WI_3/HOBBIES/HOBBIES_1",
          "United States of America/TX/WI_3/HOBBIES/HOBBIES_1",
          "United States of America/WI/WI_3/HOBBIES/HOBBIES_1",
          "United States of America/CA/CA_1/HOUSEHOLD/HOBBIES_1",
          "United States of America/TX/CA_1/HOUSEHOLD/HOBBIES_1",
          "United States of America/WI/CA_1/HOUSEHOLD/HOBBIES_1",
          "United States of America/CA/CA_2/HOUSEHOLD/HOBBIES_1",
          "United States of America/TX/CA_2/HOUSEHOLD/HOBBIES_1",
          "United States of America/WI/CA_2/HOUSEHOLD/HOBBIES_1",
          "United States of America/CA/CA_3/HOUSEHOLD/HOBBIES_1",
          "United States of America/TX/CA_3/HOUSEHOLD/HOBBIES_1",
          "United States of America/WI/CA_3/HOUSEHOLD/HOBBIES_1",
          "United States of America/CA/CA_4/HOUSEHOLD/HOBBIES_1",
          "United States of America/TX/CA_4/HOUSEHOLD/HOBBIES_1",
          "United States of America/WI/CA_4/HOUSEHOLD/HOBBIES_1",
          "United States of America/CA/TX_1/HOUSEHOLD/HOBBIES_1",
          "United States of America/TX/TX_1/HOUSEHOLD/HOBBIES_1",
          "United States of America/WI/TX_1/HOUSEHOLD/HOBBIES_1",
          "United States of America/CA/TX_2/HOUSEHOLD/HOBBIES_1",
          "United States of America/TX/TX_2/HOUSEHOLD/HOBBIES_1",
          "United States of America/WI/TX_2/HOUSEHOLD/HOBBIES_1",
          "United States of America/CA/TX_3/HOUSEHOLD/HOBBIES_1",
          "United States of America/TX/TX_3/HOUSEHOLD/HOBBIES_1",
          "United States of America/WI/TX_3/HOUSEHOLD/HOBBIES_1",
          "United States of America/CA/WI_1/HOUSEHOLD/HOBBIES_1",
          "United States of America/TX/WI_1/HOUSEHOLD/HOBBIES_1",
          "United States of America/WI/WI_1/HOUSEHOLD/HOBBIES_1",
          "United States of America/CA/WI_2/HOUSEHOLD/HOBBIES_1",
          "United States of America/TX/WI_2/HOUSEHOLD/HOBBIES_1",
          "United States of America/WI/WI_2/HOUSEHOLD/HOBBIES_1",
          "United States of America/CA/WI_3/HOUSEHOLD/HOBBIES_1",
          "United States of America/TX/WI_3/HOUSEHOLD/HOBBIES_1",
          "United States of America/WI/WI_3/HOUSEHOLD/HOBBIES_1",
          "United States of America/CA/CA_1/FOODS/HOBBIES_2",
          "United States of America/TX/CA_1/FOODS/HOBBIES_2",
          "United States of America/WI/CA_1/FOODS/HOBBIES_2",
          "United States of America/CA/CA_2/FOODS/HOBBIES_2",
          "United States of America/TX/CA_2/FOODS/HOBBIES_2",
          "United States of America/WI/CA_2/FOODS/HOBBIES_2",
          "United States of America/CA/CA_3/FOODS/HOBBIES_2",
          "United States of America/TX/CA_3/FOODS/HOBBIES_2",
          "United States of America/WI/CA_3/FOODS/HOBBIES_2",
          "United States of America/CA/CA_4/FOODS/HOBBIES_2",
          "United States of America/TX/CA_4/FOODS/HOBBIES_2",
          "United States of America/WI/CA_4/FOODS/HOBBIES_2",
          "United States of America/CA/TX_1/FOODS/HOBBIES_2",
          "United States of America/TX/TX_1/FOODS/HOBBIES_2",
          "United States of America/WI/TX_1/FOODS/HOBBIES_2",
          "United States of America/CA/TX_2/FOODS/HOBBIES_2",
          "United States of America/TX/TX_2/FOODS/HOBBIES_2",
          "United States of America/WI/TX_2/FOODS/HOBBIES_2",
          "United States of America/CA/TX_3/FOODS/HOBBIES_2",
          "United States of America/TX/TX_3/FOODS/HOBBIES_2",
          "United States of America/WI/TX_3/FOODS/HOBBIES_2",
          "United States of America/CA/WI_1/FOODS/HOBBIES_2",
          "United States of America/TX/WI_1/FOODS/HOBBIES_2",
          "United States of America/WI/WI_1/FOODS/HOBBIES_2",
          "United States of America/CA/WI_2/FOODS/HOBBIES_2",
          "United States of America/TX/WI_2/FOODS/HOBBIES_2",
          "United States of America/WI/WI_2/FOODS/HOBBIES_2",
          "United States of America/CA/WI_3/FOODS/HOBBIES_2",
          "United States of America/TX/WI_3/FOODS/HOBBIES_2",
          "United States of America/WI/WI_3/FOODS/HOBBIES_2",
          "United States of America/CA/CA_1/HOBBIES/HOBBIES_2",
          "United States of America/TX/CA_1/HOBBIES/HOBBIES_2",
          "United States of America/WI/CA_1/HOBBIES/HOBBIES_2",
          "United States of America/CA/CA_2/HOBBIES/HOBBIES_2",
          "United States of America/TX/CA_2/HOBBIES/HOBBIES_2",
          "United States of America/WI/CA_2/HOBBIES/HOBBIES_2",
          "United States of America/CA/CA_3/HOBBIES/HOBBIES_2",
          "United States of America/TX/CA_3/HOBBIES/HOBBIES_2",
          "United States of America/WI/CA_3/HOBBIES/HOBBIES_2",
          "United States of America/CA/CA_4/HOBBIES/HOBBIES_2",
          "United States of America/TX/CA_4/HOBBIES/HOBBIES_2",
          "United States of America/WI/CA_4/HOBBIES/HOBBIES_2",
          "United States of America/CA/TX_1/HOBBIES/HOBBIES_2",
          "United States of America/TX/TX_1/HOBBIES/HOBBIES_2",
          "United States of America/WI/TX_1/HOBBIES/HOBBIES_2",
          "United States of America/CA/TX_2/HOBBIES/HOBBIES_2",
          "United States of America/TX/TX_2/HOBBIES/HOBBIES_2",
          "United States of America/WI/TX_2/HOBBIES/HOBBIES_2",
          "United States of America/CA/TX_3/HOBBIES/HOBBIES_2",
          "United States of America/TX/TX_3/HOBBIES/HOBBIES_2",
          "United States of America/WI/TX_3/HOBBIES/HOBBIES_2",
          "United States of America/CA/WI_1/HOBBIES/HOBBIES_2",
          "United States of America/TX/WI_1/HOBBIES/HOBBIES_2",
          "United States of America/WI/WI_1/HOBBIES/HOBBIES_2",
          "United States of America/CA/WI_2/HOBBIES/HOBBIES_2",
          "United States of America/TX/WI_2/HOBBIES/HOBBIES_2",
          "United States of America/WI/WI_2/HOBBIES/HOBBIES_2",
          "United States of America/CA/WI_3/HOBBIES/HOBBIES_2",
          "United States of America/TX/WI_3/HOBBIES/HOBBIES_2",
          "United States of America/WI/WI_3/HOBBIES/HOBBIES_2",
          "United States of America/CA/CA_1/HOUSEHOLD/HOBBIES_2",
          "United States of America/TX/CA_1/HOUSEHOLD/HOBBIES_2",
          "United States of America/WI/CA_1/HOUSEHOLD/HOBBIES_2",
          "United States of America/CA/CA_2/HOUSEHOLD/HOBBIES_2",
          "United States of America/TX/CA_2/HOUSEHOLD/HOBBIES_2",
          "United States of America/WI/CA_2/HOUSEHOLD/HOBBIES_2",
          "United States of America/CA/CA_3/HOUSEHOLD/HOBBIES_2",
          "United States of America/TX/CA_3/HOUSEHOLD/HOBBIES_2",
          "United States of America/WI/CA_3/HOUSEHOLD/HOBBIES_2",
          "United States of America/CA/CA_4/HOUSEHOLD/HOBBIES_2",
          "United States of America/TX/CA_4/HOUSEHOLD/HOBBIES_2",
          "United States of America/WI/CA_4/HOUSEHOLD/HOBBIES_2",
          "United States of America/CA/TX_1/HOUSEHOLD/HOBBIES_2",
          "United States of America/TX/TX_1/HOUSEHOLD/HOBBIES_2",
          "United States of America/WI/TX_1/HOUSEHOLD/HOBBIES_2",
          "United States of America/CA/TX_2/HOUSEHOLD/HOBBIES_2",
          "United States of America/TX/TX_2/HOUSEHOLD/HOBBIES_2",
          "United States of America/WI/TX_2/HOUSEHOLD/HOBBIES_2",
          "United States of America/CA/TX_3/HOUSEHOLD/HOBBIES_2",
          "United States of America/TX/TX_3/HOUSEHOLD/HOBBIES_2",
          "United States of America/WI/TX_3/HOUSEHOLD/HOBBIES_2",
          "United States of America/CA/WI_1/HOUSEHOLD/HOBBIES_2",
          "United States of America/TX/WI_1/HOUSEHOLD/HOBBIES_2",
          "United States of America/WI/WI_1/HOUSEHOLD/HOBBIES_2",
          "United States of America/CA/WI_2/HOUSEHOLD/HOBBIES_2",
          "United States of America/TX/WI_2/HOUSEHOLD/HOBBIES_2",
          "United States of America/WI/WI_2/HOUSEHOLD/HOBBIES_2",
          "United States of America/CA/WI_3/HOUSEHOLD/HOBBIES_2",
          "United States of America/TX/WI_3/HOUSEHOLD/HOBBIES_2",
          "United States of America/WI/WI_3/HOUSEHOLD/HOBBIES_2",
          "United States of America/CA/CA_1/FOODS/HOUSEHOLD_1",
          "United States of America/TX/CA_1/FOODS/HOUSEHOLD_1",
          "United States of America/WI/CA_1/FOODS/HOUSEHOLD_1",
          "United States of America/CA/CA_2/FOODS/HOUSEHOLD_1",
          "United States of America/TX/CA_2/FOODS/HOUSEHOLD_1",
          "United States of America/WI/CA_2/FOODS/HOUSEHOLD_1",
          "United States of America/CA/CA_3/FOODS/HOUSEHOLD_1",
          "United States of America/TX/CA_3/FOODS/HOUSEHOLD_1",
          "United States of America/WI/CA_3/FOODS/HOUSEHOLD_1",
          "United States of America/CA/CA_4/FOODS/HOUSEHOLD_1",
          "United States of America/TX/CA_4/FOODS/HOUSEHOLD_1",
          "United States of America/WI/CA_4/FOODS/HOUSEHOLD_1",
          "United States of America/CA/TX_1/FOODS/HOUSEHOLD_1",
          "United States of America/TX/TX_1/FOODS/HOUSEHOLD_1",
          "United States of America/WI/TX_1/FOODS/HOUSEHOLD_1",
          "United States of America/CA/TX_2/FOODS/HOUSEHOLD_1",
          "United States of America/TX/TX_2/FOODS/HOUSEHOLD_1",
          "United States of America/WI/TX_2/FOODS/HOUSEHOLD_1",
          "United States of America/CA/TX_3/FOODS/HOUSEHOLD_1",
          "United States of America/TX/TX_3/FOODS/HOUSEHOLD_1",
          "United States of America/WI/TX_3/FOODS/HOUSEHOLD_1",
          "United States of America/CA/WI_1/FOODS/HOUSEHOLD_1",
          "United States of America/TX/WI_1/FOODS/HOUSEHOLD_1",
          "United States of America/WI/WI_1/FOODS/HOUSEHOLD_1",
          "United States of America/CA/WI_2/FOODS/HOUSEHOLD_1",
          "United States of America/TX/WI_2/FOODS/HOUSEHOLD_1",
          "United States of America/WI/WI_2/FOODS/HOUSEHOLD_1",
          "United States of America/CA/WI_3/FOODS/HOUSEHOLD_1",
          "United States of America/TX/WI_3/FOODS/HOUSEHOLD_1",
          "United States of America/WI/WI_3/FOODS/HOUSEHOLD_1",
          "United States of America/CA/CA_1/HOBBIES/HOUSEHOLD_1",
          "United States of America/TX/CA_1/HOBBIES/HOUSEHOLD_1",
          "United States of America/WI/CA_1/HOBBIES/HOUSEHOLD_1",
          "United States of America/CA/CA_2/HOBBIES/HOUSEHOLD_1",
          "United States of America/TX/CA_2/HOBBIES/HOUSEHOLD_1",
          "United States of America/WI/CA_2/HOBBIES/HOUSEHOLD_1",
          "United States of America/CA/CA_3/HOBBIES/HOUSEHOLD_1",
          "United States of America/TX/CA_3/HOBBIES/HOUSEHOLD_1",
          "United States of America/WI/CA_3/HOBBIES/HOUSEHOLD_1",
          "United States of America/CA/CA_4/HOBBIES/HOUSEHOLD_1",
          "United States of America/TX/CA_4/HOBBIES/HOUSEHOLD_1",
          "United States of America/WI/CA_4/HOBBIES/HOUSEHOLD_1",
          "United States of America/CA/TX_1/HOBBIES/HOUSEHOLD_1",
          "United States of America/TX/TX_1/HOBBIES/HOUSEHOLD_1",
          "United States of America/WI/TX_1/HOBBIES/HOUSEHOLD_1",
          "United States of America/CA/TX_2/HOBBIES/HOUSEHOLD_1",
          "United States of America/TX/TX_2/HOBBIES/HOUSEHOLD_1",
          "United States of America/WI/TX_2/HOBBIES/HOUSEHOLD_1",
          "United States of America/CA/TX_3/HOBBIES/HOUSEHOLD_1",
          "United States of America/TX/TX_3/HOBBIES/HOUSEHOLD_1",
          "United States of America/WI/TX_3/HOBBIES/HOUSEHOLD_1",
          "United States of America/CA/WI_1/HOBBIES/HOUSEHOLD_1",
          "United States of America/TX/WI_1/HOBBIES/HOUSEHOLD_1",
          "United States of America/WI/WI_1/HOBBIES/HOUSEHOLD_1",
          "United States of America/CA/WI_2/HOBBIES/HOUSEHOLD_1",
          "United States of America/TX/WI_2/HOBBIES/HOUSEHOLD_1",
          "United States of America/WI/WI_2/HOBBIES/HOUSEHOLD_1",
          "United States of America/CA/WI_3/HOBBIES/HOUSEHOLD_1",
          "United States of America/TX/WI_3/HOBBIES/HOUSEHOLD_1",
          "United States of America/WI/WI_3/HOBBIES/HOUSEHOLD_1",
          "United States of America/CA/CA_1/HOUSEHOLD/HOUSEHOLD_1",
          "United States of America/TX/CA_1/HOUSEHOLD/HOUSEHOLD_1",
          "United States of America/WI/CA_1/HOUSEHOLD/HOUSEHOLD_1",
          "United States of America/CA/CA_2/HOUSEHOLD/HOUSEHOLD_1",
          "United States of America/TX/CA_2/HOUSEHOLD/HOUSEHOLD_1",
          "United States of America/WI/CA_2/HOUSEHOLD/HOUSEHOLD_1",
          "United States of America/CA/CA_3/HOUSEHOLD/HOUSEHOLD_1",
          "United States of America/TX/CA_3/HOUSEHOLD/HOUSEHOLD_1",
          "United States of America/WI/CA_3/HOUSEHOLD/HOUSEHOLD_1",
          "United States of America/CA/CA_4/HOUSEHOLD/HOUSEHOLD_1",
          "United States of America/TX/CA_4/HOUSEHOLD/HOUSEHOLD_1",
          "United States of America/WI/CA_4/HOUSEHOLD/HOUSEHOLD_1",
          "United States of America/CA/TX_1/HOUSEHOLD/HOUSEHOLD_1",
          "United States of America/TX/TX_1/HOUSEHOLD/HOUSEHOLD_1",
          "United States of America/WI/TX_1/HOUSEHOLD/HOUSEHOLD_1",
          "United States of America/CA/TX_2/HOUSEHOLD/HOUSEHOLD_1",
          "United States of America/TX/TX_2/HOUSEHOLD/HOUSEHOLD_1",
          "United States of America/WI/TX_2/HOUSEHOLD/HOUSEHOLD_1",
          "United States of America/CA/TX_3/HOUSEHOLD/HOUSEHOLD_1",
          "United States of America/TX/TX_3/HOUSEHOLD/HOUSEHOLD_1",
          "United States of America/WI/TX_3/HOUSEHOLD/HOUSEHOLD_1",
          "United States of America/CA/WI_1/HOUSEHOLD/HOUSEHOLD_1",
          "United States of America/TX/WI_1/HOUSEHOLD/HOUSEHOLD_1",
          "United States of America/WI/WI_1/HOUSEHOLD/HOUSEHOLD_1",
          "United States of America/CA/WI_2/HOUSEHOLD/HOUSEHOLD_1",
          "United States of America/TX/WI_2/HOUSEHOLD/HOUSEHOLD_1",
          "United States of America/WI/WI_2/HOUSEHOLD/HOUSEHOLD_1",
          "United States of America/CA/WI_3/HOUSEHOLD/HOUSEHOLD_1",
          "United States of America/TX/WI_3/HOUSEHOLD/HOUSEHOLD_1",
          "United States of America/WI/WI_3/HOUSEHOLD/HOUSEHOLD_1",
          "United States of America/CA/CA_1/FOODS/HOUSEHOLD_2",
          "United States of America/TX/CA_1/FOODS/HOUSEHOLD_2",
          "United States of America/WI/CA_1/FOODS/HOUSEHOLD_2",
          "United States of America/CA/CA_2/FOODS/HOUSEHOLD_2",
          "United States of America/TX/CA_2/FOODS/HOUSEHOLD_2",
          "United States of America/WI/CA_2/FOODS/HOUSEHOLD_2",
          "United States of America/CA/CA_3/FOODS/HOUSEHOLD_2",
          "United States of America/TX/CA_3/FOODS/HOUSEHOLD_2",
          "United States of America/WI/CA_3/FOODS/HOUSEHOLD_2",
          "United States of America/CA/CA_4/FOODS/HOUSEHOLD_2",
          "United States of America/TX/CA_4/FOODS/HOUSEHOLD_2",
          "United States of America/WI/CA_4/FOODS/HOUSEHOLD_2",
          "United States of America/CA/TX_1/FOODS/HOUSEHOLD_2",
          "United States of America/TX/TX_1/FOODS/HOUSEHOLD_2",
          "United States of America/WI/TX_1/FOODS/HOUSEHOLD_2",
          "United States of America/CA/TX_2/FOODS/HOUSEHOLD_2",
          "United States of America/TX/TX_2/FOODS/HOUSEHOLD_2",
          "United States of America/WI/TX_2/FOODS/HOUSEHOLD_2",
          "United States of America/CA/TX_3/FOODS/HOUSEHOLD_2",
          "United States of America/TX/TX_3/FOODS/HOUSEHOLD_2",
          "United States of America/WI/TX_3/FOODS/HOUSEHOLD_2",
          "United States of America/CA/WI_1/FOODS/HOUSEHOLD_2",
          "United States of America/TX/WI_1/FOODS/HOUSEHOLD_2",
          "United States of America/WI/WI_1/FOODS/HOUSEHOLD_2",
          "United States of America/CA/WI_2/FOODS/HOUSEHOLD_2",
          "United States of America/TX/WI_2/FOODS/HOUSEHOLD_2",
          "United States of America/WI/WI_2/FOODS/HOUSEHOLD_2",
          "United States of America/CA/WI_3/FOODS/HOUSEHOLD_2",
          "United States of America/TX/WI_3/FOODS/HOUSEHOLD_2",
          "United States of America/WI/WI_3/FOODS/HOUSEHOLD_2",
          "United States of America/CA/CA_1/HOBBIES/HOUSEHOLD_2",
          "United States of America/TX/CA_1/HOBBIES/HOUSEHOLD_2",
          "United States of America/WI/CA_1/HOBBIES/HOUSEHOLD_2",
          "United States of America/CA/CA_2/HOBBIES/HOUSEHOLD_2",
          "United States of America/TX/CA_2/HOBBIES/HOUSEHOLD_2",
          "United States of America/WI/CA_2/HOBBIES/HOUSEHOLD_2",
          "United States of America/CA/CA_3/HOBBIES/HOUSEHOLD_2",
          "United States of America/TX/CA_3/HOBBIES/HOUSEHOLD_2",
          "United States of America/WI/CA_3/HOBBIES/HOUSEHOLD_2",
          "United States of America/CA/CA_4/HOBBIES/HOUSEHOLD_2",
          "United States of America/TX/CA_4/HOBBIES/HOUSEHOLD_2",
          "United States of America/WI/CA_4/HOBBIES/HOUSEHOLD_2",
          "United States of America/CA/TX_1/HOBBIES/HOUSEHOLD_2",
          "United States of America/TX/TX_1/HOBBIES/HOUSEHOLD_2",
          "United States of America/WI/TX_1/HOBBIES/HOUSEHOLD_2",
          "United States of America/CA/TX_2/HOBBIES/HOUSEHOLD_2",
          "United States of America/TX/TX_2/HOBBIES/HOUSEHOLD_2",
          "United States of America/WI/TX_2/HOBBIES/HOUSEHOLD_2",
          "United States of America/CA/TX_3/HOBBIES/HOUSEHOLD_2",
          "United States of America/TX/TX_3/HOBBIES/HOUSEHOLD_2",
          "United States of America/WI/TX_3/HOBBIES/HOUSEHOLD_2",
          "United States of America/CA/WI_1/HOBBIES/HOUSEHOLD_2",
          "United States of America/TX/WI_1/HOBBIES/HOUSEHOLD_2",
          "United States of America/WI/WI_1/HOBBIES/HOUSEHOLD_2",
          "United States of America/CA/WI_2/HOBBIES/HOUSEHOLD_2",
          "United States of America/TX/WI_2/HOBBIES/HOUSEHOLD_2",
          "United States of America/WI/WI_2/HOBBIES/HOUSEHOLD_2",
          "United States of America/CA/WI_3/HOBBIES/HOUSEHOLD_2",
          "United States of America/TX/WI_3/HOBBIES/HOUSEHOLD_2",
          "United States of America/WI/WI_3/HOBBIES/HOUSEHOLD_2",
          "United States of America/CA/CA_1/HOUSEHOLD/HOUSEHOLD_2",
          "United States of America/TX/CA_1/HOUSEHOLD/HOUSEHOLD_2",
          "United States of America/WI/CA_1/HOUSEHOLD/HOUSEHOLD_2",
          "United States of America/CA/CA_2/HOUSEHOLD/HOUSEHOLD_2",
          "United States of America/TX/CA_2/HOUSEHOLD/HOUSEHOLD_2",
          "United States of America/WI/CA_2/HOUSEHOLD/HOUSEHOLD_2",
          "United States of America/CA/CA_3/HOUSEHOLD/HOUSEHOLD_2",
          "United States of America/TX/CA_3/HOUSEHOLD/HOUSEHOLD_2",
          "United States of America/WI/CA_3/HOUSEHOLD/HOUSEHOLD_2",
          "United States of America/CA/CA_4/HOUSEHOLD/HOUSEHOLD_2",
          "United States of America/TX/CA_4/HOUSEHOLD/HOUSEHOLD_2",
          "United States of America/WI/CA_4/HOUSEHOLD/HOUSEHOLD_2",
          "United States of America/CA/TX_1/HOUSEHOLD/HOUSEHOLD_2",
          "United States of America/TX/TX_1/HOUSEHOLD/HOUSEHOLD_2",
          "United States of America/WI/TX_1/HOUSEHOLD/HOUSEHOLD_2",
          "United States of America/CA/TX_2/HOUSEHOLD/HOUSEHOLD_2",
          "United States of America/TX/TX_2/HOUSEHOLD/HOUSEHOLD_2",
          "United States of America/WI/TX_2/HOUSEHOLD/HOUSEHOLD_2",
          "United States of America/CA/TX_3/HOUSEHOLD/HOUSEHOLD_2",
          "United States of America/TX/TX_3/HOUSEHOLD/HOUSEHOLD_2",
          "United States of America/WI/TX_3/HOUSEHOLD/HOUSEHOLD_2",
          "United States of America/CA/WI_1/HOUSEHOLD/HOUSEHOLD_2",
          "United States of America/TX/WI_1/HOUSEHOLD/HOUSEHOLD_2",
          "United States of America/WI/WI_1/HOUSEHOLD/HOUSEHOLD_2",
          "United States of America/CA/WI_2/HOUSEHOLD/HOUSEHOLD_2",
          "United States of America/TX/WI_2/HOUSEHOLD/HOUSEHOLD_2",
          "United States of America/WI/WI_2/HOUSEHOLD/HOUSEHOLD_2",
          "United States of America/CA/WI_3/HOUSEHOLD/HOUSEHOLD_2",
          "United States of America/TX/WI_3/HOUSEHOLD/HOUSEHOLD_2",
          "United States of America/WI/WI_3/HOUSEHOLD/HOUSEHOLD_2",
          "United States of America/CA/CA_1/FOODS",
          "United States of America/TX/CA_1/FOODS",
          "United States of America/WI/CA_1/FOODS",
          "United States of America/CA/CA_2/FOODS",
          "United States of America/TX/CA_2/FOODS",
          "United States of America/WI/CA_2/FOODS",
          "United States of America/CA/CA_3/FOODS",
          "United States of America/TX/CA_3/FOODS",
          "United States of America/WI/CA_3/FOODS",
          "United States of America/CA/CA_4/FOODS",
          "United States of America/TX/CA_4/FOODS",
          "United States of America/WI/CA_4/FOODS",
          "United States of America/CA/TX_1/FOODS",
          "United States of America/TX/TX_1/FOODS",
          "United States of America/WI/TX_1/FOODS",
          "United States of America/CA/TX_2/FOODS",
          "United States of America/TX/TX_2/FOODS",
          "United States of America/WI/TX_2/FOODS",
          "United States of America/CA/TX_3/FOODS",
          "United States of America/TX/TX_3/FOODS",
          "United States of America/WI/TX_3/FOODS",
          "United States of America/CA/WI_1/FOODS",
          "United States of America/TX/WI_1/FOODS",
          "United States of America/WI/WI_1/FOODS",
          "United States of America/CA/WI_2/FOODS",
          "United States of America/TX/WI_2/FOODS",
          "United States of America/WI/WI_2/FOODS",
          "United States of America/CA/WI_3/FOODS",
          "United States of America/TX/WI_3/FOODS",
          "United States of America/WI/WI_3/FOODS",
          "United States of America/CA/CA_1/HOBBIES",
          "United States of America/TX/CA_1/HOBBIES",
          "United States of America/WI/CA_1/HOBBIES",
          "United States of America/CA/CA_2/HOBBIES",
          "United States of America/TX/CA_2/HOBBIES",
          "United States of America/WI/CA_2/HOBBIES",
          "United States of America/CA/CA_3/HOBBIES",
          "United States of America/TX/CA_3/HOBBIES",
          "United States of America/WI/CA_3/HOBBIES",
          "United States of America/CA/CA_4/HOBBIES",
          "United States of America/TX/CA_4/HOBBIES",
          "United States of America/WI/CA_4/HOBBIES",
          "United States of America/CA/TX_1/HOBBIES",
          "United States of America/TX/TX_1/HOBBIES",
          "United States of America/WI/TX_1/HOBBIES",
          "United States of America/CA/TX_2/HOBBIES",
          "United States of America/TX/TX_2/HOBBIES",
          "United States of America/WI/TX_2/HOBBIES",
          "United States of America/CA/TX_3/HOBBIES",
          "United States of America/TX/TX_3/HOBBIES",
          "United States of America/WI/TX_3/HOBBIES",
          "United States of America/CA/WI_1/HOBBIES",
          "United States of America/TX/WI_1/HOBBIES",
          "United States of America/WI/WI_1/HOBBIES",
          "United States of America/CA/WI_2/HOBBIES",
          "United States of America/TX/WI_2/HOBBIES",
          "United States of America/WI/WI_2/HOBBIES",
          "United States of America/CA/WI_3/HOBBIES",
          "United States of America/TX/WI_3/HOBBIES",
          "United States of America/WI/WI_3/HOBBIES",
          "United States of America/CA/CA_1/HOUSEHOLD",
          "United States of America/TX/CA_1/HOUSEHOLD",
          "United States of America/WI/CA_1/HOUSEHOLD",
          "United States of America/CA/CA_2/HOUSEHOLD",
          "United States of America/TX/CA_2/HOUSEHOLD",
          "United States of America/WI/CA_2/HOUSEHOLD",
          "United States of America/CA/CA_3/HOUSEHOLD",
          "United States of America/TX/CA_3/HOUSEHOLD",
          "United States of America/WI/CA_3/HOUSEHOLD",
          "United States of America/CA/CA_4/HOUSEHOLD",
          "United States of America/TX/CA_4/HOUSEHOLD",
          "United States of America/WI/CA_4/HOUSEHOLD",
          "United States of America/CA/TX_1/HOUSEHOLD",
          "United States of America/TX/TX_1/HOUSEHOLD",
          "United States of America/WI/TX_1/HOUSEHOLD",
          "United States of America/CA/TX_2/HOUSEHOLD",
          "United States of America/TX/TX_2/HOUSEHOLD",
          "United States of America/WI/TX_2/HOUSEHOLD",
          "United States of America/CA/TX_3/HOUSEHOLD",
          "United States of America/TX/TX_3/HOUSEHOLD",
          "United States of America/WI/TX_3/HOUSEHOLD",
          "United States of America/CA/WI_1/HOUSEHOLD",
          "United States of America/TX/WI_1/HOUSEHOLD",
          "United States of America/WI/WI_1/HOUSEHOLD",
          "United States of America/CA/WI_2/HOUSEHOLD",
          "United States of America/TX/WI_2/HOUSEHOLD",
          "United States of America/WI/WI_2/HOUSEHOLD",
          "United States of America/CA/WI_3/HOUSEHOLD",
          "United States of America/TX/WI_3/HOUSEHOLD",
          "United States of America/WI/WI_3/HOUSEHOLD",
          "United States of America/CA/CA_1",
          "United States of America/TX/CA_1",
          "United States of America/WI/CA_1",
          "United States of America/CA/CA_2",
          "United States of America/TX/CA_2",
          "United States of America/WI/CA_2",
          "United States of America/CA/CA_3",
          "United States of America/TX/CA_3",
          "United States of America/WI/CA_3",
          "United States of America/CA/CA_4",
          "United States of America/TX/CA_4",
          "United States of America/WI/CA_4",
          "United States of America/CA/TX_1",
          "United States of America/TX/TX_1",
          "United States of America/WI/TX_1",
          "United States of America/CA/TX_2",
          "United States of America/TX/TX_2",
          "United States of America/WI/TX_2",
          "United States of America/CA/TX_3",
          "United States of America/TX/TX_3",
          "United States of America/WI/TX_3",
          "United States of America/CA/WI_1",
          "United States of America/TX/WI_1",
          "United States of America/WI/WI_1",
          "United States of America/CA/WI_2",
          "United States of America/TX/WI_2",
          "United States of America/WI/WI_2",
          "United States of America/CA/WI_3",
          "United States of America/TX/WI_3",
          "United States of America/WI/WI_3",
          "United States of America/CA",
          "United States of America/TX",
          "United States of America/WI",
          "United States of America"
         ],
         "labels": [
          "FOODS_1",
          "FOODS_1",
          "FOODS_1",
          "FOODS_1",
          "FOODS_1",
          "FOODS_1",
          "FOODS_1",
          "FOODS_1",
          "FOODS_1",
          "FOODS_1",
          "FOODS_1",
          "FOODS_1",
          "FOODS_1",
          "FOODS_1",
          "FOODS_1",
          "FOODS_1",
          "FOODS_1",
          "FOODS_1",
          "FOODS_1",
          "FOODS_1",
          "FOODS_1",
          "FOODS_1",
          "FOODS_1",
          "FOODS_1",
          "FOODS_1",
          "FOODS_1",
          "FOODS_1",
          "FOODS_1",
          "FOODS_1",
          "FOODS_1",
          "FOODS_1",
          "FOODS_1",
          "FOODS_1",
          "FOODS_1",
          "FOODS_1",
          "FOODS_1",
          "FOODS_1",
          "FOODS_1",
          "FOODS_1",
          "FOODS_1",
          "FOODS_1",
          "FOODS_1",
          "FOODS_1",
          "FOODS_1",
          "FOODS_1",
          "FOODS_1",
          "FOODS_1",
          "FOODS_1",
          "FOODS_1",
          "FOODS_1",
          "FOODS_1",
          "FOODS_1",
          "FOODS_1",
          "FOODS_1",
          "FOODS_1",
          "FOODS_1",
          "FOODS_1",
          "FOODS_1",
          "FOODS_1",
          "FOODS_1",
          "FOODS_1",
          "FOODS_1",
          "FOODS_1",
          "FOODS_1",
          "FOODS_1",
          "FOODS_1",
          "FOODS_1",
          "FOODS_1",
          "FOODS_1",
          "FOODS_1",
          "FOODS_1",
          "FOODS_1",
          "FOODS_1",
          "FOODS_1",
          "FOODS_1",
          "FOODS_1",
          "FOODS_1",
          "FOODS_1",
          "FOODS_1",
          "FOODS_1",
          "FOODS_1",
          "FOODS_1",
          "FOODS_1",
          "FOODS_1",
          "FOODS_1",
          "FOODS_1",
          "FOODS_1",
          "FOODS_1",
          "FOODS_1",
          "FOODS_1",
          "FOODS_2",
          "FOODS_2",
          "FOODS_2",
          "FOODS_2",
          "FOODS_2",
          "FOODS_2",
          "FOODS_2",
          "FOODS_2",
          "FOODS_2",
          "FOODS_2",
          "FOODS_2",
          "FOODS_2",
          "FOODS_2",
          "FOODS_2",
          "FOODS_2",
          "FOODS_2",
          "FOODS_2",
          "FOODS_2",
          "FOODS_2",
          "FOODS_2",
          "FOODS_2",
          "FOODS_2",
          "FOODS_2",
          "FOODS_2",
          "FOODS_2",
          "FOODS_2",
          "FOODS_2",
          "FOODS_2",
          "FOODS_2",
          "FOODS_2",
          "FOODS_2",
          "FOODS_2",
          "FOODS_2",
          "FOODS_2",
          "FOODS_2",
          "FOODS_2",
          "FOODS_2",
          "FOODS_2",
          "FOODS_2",
          "FOODS_2",
          "FOODS_2",
          "FOODS_2",
          "FOODS_2",
          "FOODS_2",
          "FOODS_2",
          "FOODS_2",
          "FOODS_2",
          "FOODS_2",
          "FOODS_2",
          "FOODS_2",
          "FOODS_2",
          "FOODS_2",
          "FOODS_2",
          "FOODS_2",
          "FOODS_2",
          "FOODS_2",
          "FOODS_2",
          "FOODS_2",
          "FOODS_2",
          "FOODS_2",
          "FOODS_2",
          "FOODS_2",
          "FOODS_2",
          "FOODS_2",
          "FOODS_2",
          "FOODS_2",
          "FOODS_2",
          "FOODS_2",
          "FOODS_2",
          "FOODS_2",
          "FOODS_2",
          "FOODS_2",
          "FOODS_2",
          "FOODS_2",
          "FOODS_2",
          "FOODS_2",
          "FOODS_2",
          "FOODS_2",
          "FOODS_2",
          "FOODS_2",
          "FOODS_2",
          "FOODS_2",
          "FOODS_2",
          "FOODS_2",
          "FOODS_2",
          "FOODS_2",
          "FOODS_2",
          "FOODS_2",
          "FOODS_2",
          "FOODS_2",
          "FOODS_3",
          "FOODS_3",
          "FOODS_3",
          "FOODS_3",
          "FOODS_3",
          "FOODS_3",
          "FOODS_3",
          "FOODS_3",
          "FOODS_3",
          "FOODS_3",
          "FOODS_3",
          "FOODS_3",
          "FOODS_3",
          "FOODS_3",
          "FOODS_3",
          "FOODS_3",
          "FOODS_3",
          "FOODS_3",
          "FOODS_3",
          "FOODS_3",
          "FOODS_3",
          "FOODS_3",
          "FOODS_3",
          "FOODS_3",
          "FOODS_3",
          "FOODS_3",
          "FOODS_3",
          "FOODS_3",
          "FOODS_3",
          "FOODS_3",
          "FOODS_3",
          "FOODS_3",
          "FOODS_3",
          "FOODS_3",
          "FOODS_3",
          "FOODS_3",
          "FOODS_3",
          "FOODS_3",
          "FOODS_3",
          "FOODS_3",
          "FOODS_3",
          "FOODS_3",
          "FOODS_3",
          "FOODS_3",
          "FOODS_3",
          "FOODS_3",
          "FOODS_3",
          "FOODS_3",
          "FOODS_3",
          "FOODS_3",
          "FOODS_3",
          "FOODS_3",
          "FOODS_3",
          "FOODS_3",
          "FOODS_3",
          "FOODS_3",
          "FOODS_3",
          "FOODS_3",
          "FOODS_3",
          "FOODS_3",
          "FOODS_3",
          "FOODS_3",
          "FOODS_3",
          "FOODS_3",
          "FOODS_3",
          "FOODS_3",
          "FOODS_3",
          "FOODS_3",
          "FOODS_3",
          "FOODS_3",
          "FOODS_3",
          "FOODS_3",
          "FOODS_3",
          "FOODS_3",
          "FOODS_3",
          "FOODS_3",
          "FOODS_3",
          "FOODS_3",
          "FOODS_3",
          "FOODS_3",
          "FOODS_3",
          "FOODS_3",
          "FOODS_3",
          "FOODS_3",
          "FOODS_3",
          "FOODS_3",
          "FOODS_3",
          "FOODS_3",
          "FOODS_3",
          "FOODS_3",
          "HOBBIES_1",
          "HOBBIES_1",
          "HOBBIES_1",
          "HOBBIES_1",
          "HOBBIES_1",
          "HOBBIES_1",
          "HOBBIES_1",
          "HOBBIES_1",
          "HOBBIES_1",
          "HOBBIES_1",
          "HOBBIES_1",
          "HOBBIES_1",
          "HOBBIES_1",
          "HOBBIES_1",
          "HOBBIES_1",
          "HOBBIES_1",
          "HOBBIES_1",
          "HOBBIES_1",
          "HOBBIES_1",
          "HOBBIES_1",
          "HOBBIES_1",
          "HOBBIES_1",
          "HOBBIES_1",
          "HOBBIES_1",
          "HOBBIES_1",
          "HOBBIES_1",
          "HOBBIES_1",
          "HOBBIES_1",
          "HOBBIES_1",
          "HOBBIES_1",
          "HOBBIES_1",
          "HOBBIES_1",
          "HOBBIES_1",
          "HOBBIES_1",
          "HOBBIES_1",
          "HOBBIES_1",
          "HOBBIES_1",
          "HOBBIES_1",
          "HOBBIES_1",
          "HOBBIES_1",
          "HOBBIES_1",
          "HOBBIES_1",
          "HOBBIES_1",
          "HOBBIES_1",
          "HOBBIES_1",
          "HOBBIES_1",
          "HOBBIES_1",
          "HOBBIES_1",
          "HOBBIES_1",
          "HOBBIES_1",
          "HOBBIES_1",
          "HOBBIES_1",
          "HOBBIES_1",
          "HOBBIES_1",
          "HOBBIES_1",
          "HOBBIES_1",
          "HOBBIES_1",
          "HOBBIES_1",
          "HOBBIES_1",
          "HOBBIES_1",
          "HOBBIES_1",
          "HOBBIES_1",
          "HOBBIES_1",
          "HOBBIES_1",
          "HOBBIES_1",
          "HOBBIES_1",
          "HOBBIES_1",
          "HOBBIES_1",
          "HOBBIES_1",
          "HOBBIES_1",
          "HOBBIES_1",
          "HOBBIES_1",
          "HOBBIES_1",
          "HOBBIES_1",
          "HOBBIES_1",
          "HOBBIES_1",
          "HOBBIES_1",
          "HOBBIES_1",
          "HOBBIES_1",
          "HOBBIES_1",
          "HOBBIES_1",
          "HOBBIES_1",
          "HOBBIES_1",
          "HOBBIES_1",
          "HOBBIES_1",
          "HOBBIES_1",
          "HOBBIES_1",
          "HOBBIES_1",
          "HOBBIES_1",
          "HOBBIES_1",
          "HOBBIES_2",
          "HOBBIES_2",
          "HOBBIES_2",
          "HOBBIES_2",
          "HOBBIES_2",
          "HOBBIES_2",
          "HOBBIES_2",
          "HOBBIES_2",
          "HOBBIES_2",
          "HOBBIES_2",
          "HOBBIES_2",
          "HOBBIES_2",
          "HOBBIES_2",
          "HOBBIES_2",
          "HOBBIES_2",
          "HOBBIES_2",
          "HOBBIES_2",
          "HOBBIES_2",
          "HOBBIES_2",
          "HOBBIES_2",
          "HOBBIES_2",
          "HOBBIES_2",
          "HOBBIES_2",
          "HOBBIES_2",
          "HOBBIES_2",
          "HOBBIES_2",
          "HOBBIES_2",
          "HOBBIES_2",
          "HOBBIES_2",
          "HOBBIES_2",
          "HOBBIES_2",
          "HOBBIES_2",
          "HOBBIES_2",
          "HOBBIES_2",
          "HOBBIES_2",
          "HOBBIES_2",
          "HOBBIES_2",
          "HOBBIES_2",
          "HOBBIES_2",
          "HOBBIES_2",
          "HOBBIES_2",
          "HOBBIES_2",
          "HOBBIES_2",
          "HOBBIES_2",
          "HOBBIES_2",
          "HOBBIES_2",
          "HOBBIES_2",
          "HOBBIES_2",
          "HOBBIES_2",
          "HOBBIES_2",
          "HOBBIES_2",
          "HOBBIES_2",
          "HOBBIES_2",
          "HOBBIES_2",
          "HOBBIES_2",
          "HOBBIES_2",
          "HOBBIES_2",
          "HOBBIES_2",
          "HOBBIES_2",
          "HOBBIES_2",
          "HOBBIES_2",
          "HOBBIES_2",
          "HOBBIES_2",
          "HOBBIES_2",
          "HOBBIES_2",
          "HOBBIES_2",
          "HOBBIES_2",
          "HOBBIES_2",
          "HOBBIES_2",
          "HOBBIES_2",
          "HOBBIES_2",
          "HOBBIES_2",
          "HOBBIES_2",
          "HOBBIES_2",
          "HOBBIES_2",
          "HOBBIES_2",
          "HOBBIES_2",
          "HOBBIES_2",
          "HOBBIES_2",
          "HOBBIES_2",
          "HOBBIES_2",
          "HOBBIES_2",
          "HOBBIES_2",
          "HOBBIES_2",
          "HOBBIES_2",
          "HOBBIES_2",
          "HOBBIES_2",
          "HOBBIES_2",
          "HOBBIES_2",
          "HOBBIES_2",
          "HOUSEHOLD_1",
          "HOUSEHOLD_1",
          "HOUSEHOLD_1",
          "HOUSEHOLD_1",
          "HOUSEHOLD_1",
          "HOUSEHOLD_1",
          "HOUSEHOLD_1",
          "HOUSEHOLD_1",
          "HOUSEHOLD_1",
          "HOUSEHOLD_1",
          "HOUSEHOLD_1",
          "HOUSEHOLD_1",
          "HOUSEHOLD_1",
          "HOUSEHOLD_1",
          "HOUSEHOLD_1",
          "HOUSEHOLD_1",
          "HOUSEHOLD_1",
          "HOUSEHOLD_1",
          "HOUSEHOLD_1",
          "HOUSEHOLD_1",
          "HOUSEHOLD_1",
          "HOUSEHOLD_1",
          "HOUSEHOLD_1",
          "HOUSEHOLD_1",
          "HOUSEHOLD_1",
          "HOUSEHOLD_1",
          "HOUSEHOLD_1",
          "HOUSEHOLD_1",
          "HOUSEHOLD_1",
          "HOUSEHOLD_1",
          "HOUSEHOLD_1",
          "HOUSEHOLD_1",
          "HOUSEHOLD_1",
          "HOUSEHOLD_1",
          "HOUSEHOLD_1",
          "HOUSEHOLD_1",
          "HOUSEHOLD_1",
          "HOUSEHOLD_1",
          "HOUSEHOLD_1",
          "HOUSEHOLD_1",
          "HOUSEHOLD_1",
          "HOUSEHOLD_1",
          "HOUSEHOLD_1",
          "HOUSEHOLD_1",
          "HOUSEHOLD_1",
          "HOUSEHOLD_1",
          "HOUSEHOLD_1",
          "HOUSEHOLD_1",
          "HOUSEHOLD_1",
          "HOUSEHOLD_1",
          "HOUSEHOLD_1",
          "HOUSEHOLD_1",
          "HOUSEHOLD_1",
          "HOUSEHOLD_1",
          "HOUSEHOLD_1",
          "HOUSEHOLD_1",
          "HOUSEHOLD_1",
          "HOUSEHOLD_1",
          "HOUSEHOLD_1",
          "HOUSEHOLD_1",
          "HOUSEHOLD_1",
          "HOUSEHOLD_1",
          "HOUSEHOLD_1",
          "HOUSEHOLD_1",
          "HOUSEHOLD_1",
          "HOUSEHOLD_1",
          "HOUSEHOLD_1",
          "HOUSEHOLD_1",
          "HOUSEHOLD_1",
          "HOUSEHOLD_1",
          "HOUSEHOLD_1",
          "HOUSEHOLD_1",
          "HOUSEHOLD_1",
          "HOUSEHOLD_1",
          "HOUSEHOLD_1",
          "HOUSEHOLD_1",
          "HOUSEHOLD_1",
          "HOUSEHOLD_1",
          "HOUSEHOLD_1",
          "HOUSEHOLD_1",
          "HOUSEHOLD_1",
          "HOUSEHOLD_1",
          "HOUSEHOLD_1",
          "HOUSEHOLD_1",
          "HOUSEHOLD_1",
          "HOUSEHOLD_1",
          "HOUSEHOLD_1",
          "HOUSEHOLD_1",
          "HOUSEHOLD_1",
          "HOUSEHOLD_1",
          "HOUSEHOLD_2",
          "HOUSEHOLD_2",
          "HOUSEHOLD_2",
          "HOUSEHOLD_2",
          "HOUSEHOLD_2",
          "HOUSEHOLD_2",
          "HOUSEHOLD_2",
          "HOUSEHOLD_2",
          "HOUSEHOLD_2",
          "HOUSEHOLD_2",
          "HOUSEHOLD_2",
          "HOUSEHOLD_2",
          "HOUSEHOLD_2",
          "HOUSEHOLD_2",
          "HOUSEHOLD_2",
          "HOUSEHOLD_2",
          "HOUSEHOLD_2",
          "HOUSEHOLD_2",
          "HOUSEHOLD_2",
          "HOUSEHOLD_2",
          "HOUSEHOLD_2",
          "HOUSEHOLD_2",
          "HOUSEHOLD_2",
          "HOUSEHOLD_2",
          "HOUSEHOLD_2",
          "HOUSEHOLD_2",
          "HOUSEHOLD_2",
          "HOUSEHOLD_2",
          "HOUSEHOLD_2",
          "HOUSEHOLD_2",
          "HOUSEHOLD_2",
          "HOUSEHOLD_2",
          "HOUSEHOLD_2",
          "HOUSEHOLD_2",
          "HOUSEHOLD_2",
          "HOUSEHOLD_2",
          "HOUSEHOLD_2",
          "HOUSEHOLD_2",
          "HOUSEHOLD_2",
          "HOUSEHOLD_2",
          "HOUSEHOLD_2",
          "HOUSEHOLD_2",
          "HOUSEHOLD_2",
          "HOUSEHOLD_2",
          "HOUSEHOLD_2",
          "HOUSEHOLD_2",
          "HOUSEHOLD_2",
          "HOUSEHOLD_2",
          "HOUSEHOLD_2",
          "HOUSEHOLD_2",
          "HOUSEHOLD_2",
          "HOUSEHOLD_2",
          "HOUSEHOLD_2",
          "HOUSEHOLD_2",
          "HOUSEHOLD_2",
          "HOUSEHOLD_2",
          "HOUSEHOLD_2",
          "HOUSEHOLD_2",
          "HOUSEHOLD_2",
          "HOUSEHOLD_2",
          "HOUSEHOLD_2",
          "HOUSEHOLD_2",
          "HOUSEHOLD_2",
          "HOUSEHOLD_2",
          "HOUSEHOLD_2",
          "HOUSEHOLD_2",
          "HOUSEHOLD_2",
          "HOUSEHOLD_2",
          "HOUSEHOLD_2",
          "HOUSEHOLD_2",
          "HOUSEHOLD_2",
          "HOUSEHOLD_2",
          "HOUSEHOLD_2",
          "HOUSEHOLD_2",
          "HOUSEHOLD_2",
          "HOUSEHOLD_2",
          "HOUSEHOLD_2",
          "HOUSEHOLD_2",
          "HOUSEHOLD_2",
          "HOUSEHOLD_2",
          "HOUSEHOLD_2",
          "HOUSEHOLD_2",
          "HOUSEHOLD_2",
          "HOUSEHOLD_2",
          "HOUSEHOLD_2",
          "HOUSEHOLD_2",
          "HOUSEHOLD_2",
          "HOUSEHOLD_2",
          "HOUSEHOLD_2",
          "HOUSEHOLD_2",
          "FOODS",
          "FOODS",
          "FOODS",
          "FOODS",
          "FOODS",
          "FOODS",
          "FOODS",
          "FOODS",
          "FOODS",
          "FOODS",
          "FOODS",
          "FOODS",
          "FOODS",
          "FOODS",
          "FOODS",
          "FOODS",
          "FOODS",
          "FOODS",
          "FOODS",
          "FOODS",
          "FOODS",
          "FOODS",
          "FOODS",
          "FOODS",
          "FOODS",
          "FOODS",
          "FOODS",
          "FOODS",
          "FOODS",
          "FOODS",
          "HOBBIES",
          "HOBBIES",
          "HOBBIES",
          "HOBBIES",
          "HOBBIES",
          "HOBBIES",
          "HOBBIES",
          "HOBBIES",
          "HOBBIES",
          "HOBBIES",
          "HOBBIES",
          "HOBBIES",
          "HOBBIES",
          "HOBBIES",
          "HOBBIES",
          "HOBBIES",
          "HOBBIES",
          "HOBBIES",
          "HOBBIES",
          "HOBBIES",
          "HOBBIES",
          "HOBBIES",
          "HOBBIES",
          "HOBBIES",
          "HOBBIES",
          "HOBBIES",
          "HOBBIES",
          "HOBBIES",
          "HOBBIES",
          "HOBBIES",
          "HOUSEHOLD",
          "HOUSEHOLD",
          "HOUSEHOLD",
          "HOUSEHOLD",
          "HOUSEHOLD",
          "HOUSEHOLD",
          "HOUSEHOLD",
          "HOUSEHOLD",
          "HOUSEHOLD",
          "HOUSEHOLD",
          "HOUSEHOLD",
          "HOUSEHOLD",
          "HOUSEHOLD",
          "HOUSEHOLD",
          "HOUSEHOLD",
          "HOUSEHOLD",
          "HOUSEHOLD",
          "HOUSEHOLD",
          "HOUSEHOLD",
          "HOUSEHOLD",
          "HOUSEHOLD",
          "HOUSEHOLD",
          "HOUSEHOLD",
          "HOUSEHOLD",
          "HOUSEHOLD",
          "HOUSEHOLD",
          "HOUSEHOLD",
          "HOUSEHOLD",
          "HOUSEHOLD",
          "HOUSEHOLD",
          "CA_1",
          "CA_1",
          "CA_1",
          "CA_2",
          "CA_2",
          "CA_2",
          "CA_3",
          "CA_3",
          "CA_3",
          "CA_4",
          "CA_4",
          "CA_4",
          "TX_1",
          "TX_1",
          "TX_1",
          "TX_2",
          "TX_2",
          "TX_2",
          "TX_3",
          "TX_3",
          "TX_3",
          "WI_1",
          "WI_1",
          "WI_1",
          "WI_2",
          "WI_2",
          "WI_2",
          "WI_3",
          "WI_3",
          "WI_3",
          "CA",
          "TX",
          "WI",
          "United States of America"
         ],
         "marker": {
          "coloraxis": "coloraxis",
          "colors": [
           216,
           null,
           null,
           216,
           null,
           null,
           216,
           null,
           null,
           216,
           null,
           null,
           null,
           216,
           null,
           null,
           216,
           null,
           null,
           216,
           null,
           null,
           null,
           216,
           null,
           null,
           216,
           null,
           null,
           216,
           null,
           null,
           null,
           null,
           null,
           null,
           null,
           null,
           null,
           null,
           null,
           null,
           null,
           null,
           null,
           null,
           null,
           null,
           null,
           null,
           null,
           null,
           null,
           null,
           null,
           null,
           null,
           null,
           null,
           null,
           null,
           null,
           null,
           null,
           null,
           null,
           null,
           null,
           null,
           null,
           null,
           null,
           null,
           null,
           null,
           null,
           null,
           null,
           null,
           null,
           null,
           null,
           null,
           null,
           null,
           null,
           null,
           null,
           null,
           null,
           398,
           null,
           null,
           398,
           null,
           null,
           398,
           null,
           null,
           398,
           null,
           null,
           null,
           398,
           null,
           null,
           398,
           null,
           null,
           398,
           null,
           null,
           null,
           398,
           null,
           null,
           398,
           null,
           null,
           398,
           null,
           null,
           null,
           null,
           null,
           null,
           null,
           null,
           null,
           null,
           null,
           null,
           null,
           null,
           null,
           null,
           null,
           null,
           null,
           null,
           null,
           null,
           null,
           null,
           null,
           null,
           null,
           null,
           null,
           null,
           null,
           null,
           null,
           null,
           null,
           null,
           null,
           null,
           null,
           null,
           null,
           null,
           null,
           null,
           null,
           null,
           null,
           null,
           null,
           null,
           null,
           null,
           null,
           null,
           null,
           null,
           null,
           null,
           null,
           null,
           823,
           null,
           null,
           823,
           null,
           null,
           823,
           null,
           null,
           823,
           null,
           null,
           null,
           823,
           null,
           null,
           823,
           null,
           null,
           823,
           null,
           null,
           null,
           823,
           null,
           null,
           823,
           null,
           null,
           823,
           null,
           null,
           null,
           null,
           null,
           null,
           null,
           null,
           null,
           null,
           null,
           null,
           null,
           null,
           null,
           null,
           null,
           null,
           null,
           null,
           null,
           null,
           null,
           null,
           null,
           null,
           null,
           null,
           null,
           null,
           null,
           null,
           null,
           null,
           null,
           null,
           null,
           null,
           null,
           null,
           null,
           null,
           null,
           null,
           null,
           null,
           null,
           null,
           null,
           null,
           null,
           null,
           null,
           null,
           null,
           null,
           null,
           null,
           null,
           null,
           null,
           null,
           null,
           null,
           null,
           null,
           null,
           null,
           null,
           null,
           null,
           null,
           null,
           null,
           null,
           null,
           null,
           null,
           null,
           null,
           null,
           null,
           null,
           null,
           null,
           null,
           null,
           null,
           null,
           null,
           416,
           null,
           null,
           416,
           null,
           null,
           416,
           null,
           null,
           416,
           null,
           null,
           null,
           416,
           null,
           null,
           416,
           null,
           null,
           416,
           null,
           null,
           null,
           416,
           null,
           null,
           416,
           null,
           null,
           416,
           null,
           null,
           null,
           null,
           null,
           null,
           null,
           null,
           null,
           null,
           null,
           null,
           null,
           null,
           null,
           null,
           null,
           null,
           null,
           null,
           null,
           null,
           null,
           null,
           null,
           null,
           null,
           null,
           null,
           null,
           null,
           null,
           null,
           null,
           null,
           null,
           null,
           null,
           null,
           null,
           null,
           null,
           null,
           null,
           null,
           null,
           null,
           null,
           null,
           null,
           null,
           null,
           null,
           null,
           null,
           null,
           null,
           null,
           null,
           null,
           149,
           null,
           null,
           149,
           null,
           null,
           149,
           null,
           null,
           149,
           null,
           null,
           null,
           149,
           null,
           null,
           149,
           null,
           null,
           149,
           null,
           null,
           null,
           149,
           null,
           null,
           149,
           null,
           null,
           149,
           null,
           null,
           null,
           null,
           null,
           null,
           null,
           null,
           null,
           null,
           null,
           null,
           null,
           null,
           null,
           null,
           null,
           null,
           null,
           null,
           null,
           null,
           null,
           null,
           null,
           null,
           null,
           null,
           null,
           null,
           null,
           null,
           null,
           null,
           null,
           null,
           null,
           null,
           null,
           null,
           null,
           null,
           null,
           null,
           null,
           null,
           null,
           null,
           null,
           null,
           null,
           null,
           null,
           null,
           null,
           null,
           null,
           null,
           null,
           null,
           null,
           null,
           null,
           null,
           null,
           null,
           null,
           null,
           null,
           null,
           null,
           null,
           null,
           null,
           null,
           null,
           null,
           null,
           null,
           null,
           null,
           null,
           null,
           null,
           null,
           null,
           null,
           null,
           null,
           null,
           532,
           null,
           null,
           532,
           null,
           null,
           532,
           null,
           null,
           532,
           null,
           null,
           null,
           532,
           null,
           null,
           532,
           null,
           null,
           532,
           null,
           null,
           null,
           532,
           null,
           null,
           532,
           null,
           null,
           532,
           null,
           null,
           null,
           null,
           null,
           null,
           null,
           null,
           null,
           null,
           null,
           null,
           null,
           null,
           null,
           null,
           null,
           null,
           null,
           null,
           null,
           null,
           null,
           null,
           null,
           null,
           null,
           null,
           null,
           null,
           null,
           null,
           null,
           null,
           null,
           null,
           null,
           null,
           null,
           null,
           null,
           null,
           null,
           null,
           null,
           null,
           null,
           null,
           null,
           null,
           null,
           null,
           null,
           null,
           null,
           null,
           null,
           null,
           null,
           null,
           515,
           null,
           null,
           515,
           null,
           null,
           515,
           null,
           null,
           515,
           null,
           null,
           null,
           515,
           null,
           null,
           515,
           null,
           null,
           515,
           null,
           null,
           null,
           515,
           null,
           null,
           515,
           null,
           null,
           515,
           614.0494084899095,
           null,
           null,
           614.0494084899095,
           null,
           null,
           614.0494084899095,
           null,
           null,
           614.0494084899095,
           null,
           null,
           null,
           614.0494084899095,
           null,
           null,
           614.0494084899095,
           null,
           null,
           614.0494084899095,
           null,
           null,
           null,
           614.0494084899095,
           null,
           null,
           614.0494084899095,
           null,
           null,
           614.0494084899095,
           345.58761061946905,
           null,
           null,
           345.58761061946905,
           null,
           null,
           345.58761061946905,
           null,
           null,
           345.58761061946905,
           null,
           null,
           null,
           345.58761061946905,
           null,
           null,
           345.58761061946905,
           null,
           null,
           345.58761061946905,
           null,
           null,
           null,
           345.58761061946905,
           null,
           null,
           345.58761061946905,
           null,
           null,
           345.58761061946905,
           523.6380133715377,
           null,
           null,
           523.6380133715377,
           null,
           null,
           523.6380133715377,
           null,
           null,
           523.6380133715377,
           null,
           null,
           null,
           523.6380133715377,
           null,
           null,
           523.6380133715377,
           null,
           null,
           523.6380133715377,
           null,
           null,
           null,
           523.6380133715377,
           null,
           null,
           523.6380133715377,
           null,
           null,
           523.6380133715377,
           533.2551656280748,
           null,
           null,
           533.2551656280748,
           null,
           null,
           533.2551656280748,
           null,
           null,
           533.2551656280748,
           null,
           null,
           null,
           533.2551656280748,
           null,
           null,
           533.2551656280748,
           null,
           null,
           533.2551656280748,
           null,
           null,
           null,
           533.2551656280748,
           null,
           null,
           533.2551656280748,
           null,
           null,
           533.2551656280748,
           533.2551656280748,
           533.2551656280748,
           533.2551656280748,
           533.2551656280748
          ]
         },
         "name": "",
         "parents": [
          "United States of America/CA/CA_1/FOODS",
          "United States of America/TX/CA_1/FOODS",
          "United States of America/WI/CA_1/FOODS",
          "United States of America/CA/CA_2/FOODS",
          "United States of America/TX/CA_2/FOODS",
          "United States of America/WI/CA_2/FOODS",
          "United States of America/CA/CA_3/FOODS",
          "United States of America/TX/CA_3/FOODS",
          "United States of America/WI/CA_3/FOODS",
          "United States of America/CA/CA_4/FOODS",
          "United States of America/TX/CA_4/FOODS",
          "United States of America/WI/CA_4/FOODS",
          "United States of America/CA/TX_1/FOODS",
          "United States of America/TX/TX_1/FOODS",
          "United States of America/WI/TX_1/FOODS",
          "United States of America/CA/TX_2/FOODS",
          "United States of America/TX/TX_2/FOODS",
          "United States of America/WI/TX_2/FOODS",
          "United States of America/CA/TX_3/FOODS",
          "United States of America/TX/TX_3/FOODS",
          "United States of America/WI/TX_3/FOODS",
          "United States of America/CA/WI_1/FOODS",
          "United States of America/TX/WI_1/FOODS",
          "United States of America/WI/WI_1/FOODS",
          "United States of America/CA/WI_2/FOODS",
          "United States of America/TX/WI_2/FOODS",
          "United States of America/WI/WI_2/FOODS",
          "United States of America/CA/WI_3/FOODS",
          "United States of America/TX/WI_3/FOODS",
          "United States of America/WI/WI_3/FOODS",
          "United States of America/CA/CA_1/HOBBIES",
          "United States of America/TX/CA_1/HOBBIES",
          "United States of America/WI/CA_1/HOBBIES",
          "United States of America/CA/CA_2/HOBBIES",
          "United States of America/TX/CA_2/HOBBIES",
          "United States of America/WI/CA_2/HOBBIES",
          "United States of America/CA/CA_3/HOBBIES",
          "United States of America/TX/CA_3/HOBBIES",
          "United States of America/WI/CA_3/HOBBIES",
          "United States of America/CA/CA_4/HOBBIES",
          "United States of America/TX/CA_4/HOBBIES",
          "United States of America/WI/CA_4/HOBBIES",
          "United States of America/CA/TX_1/HOBBIES",
          "United States of America/TX/TX_1/HOBBIES",
          "United States of America/WI/TX_1/HOBBIES",
          "United States of America/CA/TX_2/HOBBIES",
          "United States of America/TX/TX_2/HOBBIES",
          "United States of America/WI/TX_2/HOBBIES",
          "United States of America/CA/TX_3/HOBBIES",
          "United States of America/TX/TX_3/HOBBIES",
          "United States of America/WI/TX_3/HOBBIES",
          "United States of America/CA/WI_1/HOBBIES",
          "United States of America/TX/WI_1/HOBBIES",
          "United States of America/WI/WI_1/HOBBIES",
          "United States of America/CA/WI_2/HOBBIES",
          "United States of America/TX/WI_2/HOBBIES",
          "United States of America/WI/WI_2/HOBBIES",
          "United States of America/CA/WI_3/HOBBIES",
          "United States of America/TX/WI_3/HOBBIES",
          "United States of America/WI/WI_3/HOBBIES",
          "United States of America/CA/CA_1/HOUSEHOLD",
          "United States of America/TX/CA_1/HOUSEHOLD",
          "United States of America/WI/CA_1/HOUSEHOLD",
          "United States of America/CA/CA_2/HOUSEHOLD",
          "United States of America/TX/CA_2/HOUSEHOLD",
          "United States of America/WI/CA_2/HOUSEHOLD",
          "United States of America/CA/CA_3/HOUSEHOLD",
          "United States of America/TX/CA_3/HOUSEHOLD",
          "United States of America/WI/CA_3/HOUSEHOLD",
          "United States of America/CA/CA_4/HOUSEHOLD",
          "United States of America/TX/CA_4/HOUSEHOLD",
          "United States of America/WI/CA_4/HOUSEHOLD",
          "United States of America/CA/TX_1/HOUSEHOLD",
          "United States of America/TX/TX_1/HOUSEHOLD",
          "United States of America/WI/TX_1/HOUSEHOLD",
          "United States of America/CA/TX_2/HOUSEHOLD",
          "United States of America/TX/TX_2/HOUSEHOLD",
          "United States of America/WI/TX_2/HOUSEHOLD",
          "United States of America/CA/TX_3/HOUSEHOLD",
          "United States of America/TX/TX_3/HOUSEHOLD",
          "United States of America/WI/TX_3/HOUSEHOLD",
          "United States of America/CA/WI_1/HOUSEHOLD",
          "United States of America/TX/WI_1/HOUSEHOLD",
          "United States of America/WI/WI_1/HOUSEHOLD",
          "United States of America/CA/WI_2/HOUSEHOLD",
          "United States of America/TX/WI_2/HOUSEHOLD",
          "United States of America/WI/WI_2/HOUSEHOLD",
          "United States of America/CA/WI_3/HOUSEHOLD",
          "United States of America/TX/WI_3/HOUSEHOLD",
          "United States of America/WI/WI_3/HOUSEHOLD",
          "United States of America/CA/CA_1/FOODS",
          "United States of America/TX/CA_1/FOODS",
          "United States of America/WI/CA_1/FOODS",
          "United States of America/CA/CA_2/FOODS",
          "United States of America/TX/CA_2/FOODS",
          "United States of America/WI/CA_2/FOODS",
          "United States of America/CA/CA_3/FOODS",
          "United States of America/TX/CA_3/FOODS",
          "United States of America/WI/CA_3/FOODS",
          "United States of America/CA/CA_4/FOODS",
          "United States of America/TX/CA_4/FOODS",
          "United States of America/WI/CA_4/FOODS",
          "United States of America/CA/TX_1/FOODS",
          "United States of America/TX/TX_1/FOODS",
          "United States of America/WI/TX_1/FOODS",
          "United States of America/CA/TX_2/FOODS",
          "United States of America/TX/TX_2/FOODS",
          "United States of America/WI/TX_2/FOODS",
          "United States of America/CA/TX_3/FOODS",
          "United States of America/TX/TX_3/FOODS",
          "United States of America/WI/TX_3/FOODS",
          "United States of America/CA/WI_1/FOODS",
          "United States of America/TX/WI_1/FOODS",
          "United States of America/WI/WI_1/FOODS",
          "United States of America/CA/WI_2/FOODS",
          "United States of America/TX/WI_2/FOODS",
          "United States of America/WI/WI_2/FOODS",
          "United States of America/CA/WI_3/FOODS",
          "United States of America/TX/WI_3/FOODS",
          "United States of America/WI/WI_3/FOODS",
          "United States of America/CA/CA_1/HOBBIES",
          "United States of America/TX/CA_1/HOBBIES",
          "United States of America/WI/CA_1/HOBBIES",
          "United States of America/CA/CA_2/HOBBIES",
          "United States of America/TX/CA_2/HOBBIES",
          "United States of America/WI/CA_2/HOBBIES",
          "United States of America/CA/CA_3/HOBBIES",
          "United States of America/TX/CA_3/HOBBIES",
          "United States of America/WI/CA_3/HOBBIES",
          "United States of America/CA/CA_4/HOBBIES",
          "United States of America/TX/CA_4/HOBBIES",
          "United States of America/WI/CA_4/HOBBIES",
          "United States of America/CA/TX_1/HOBBIES",
          "United States of America/TX/TX_1/HOBBIES",
          "United States of America/WI/TX_1/HOBBIES",
          "United States of America/CA/TX_2/HOBBIES",
          "United States of America/TX/TX_2/HOBBIES",
          "United States of America/WI/TX_2/HOBBIES",
          "United States of America/CA/TX_3/HOBBIES",
          "United States of America/TX/TX_3/HOBBIES",
          "United States of America/WI/TX_3/HOBBIES",
          "United States of America/CA/WI_1/HOBBIES",
          "United States of America/TX/WI_1/HOBBIES",
          "United States of America/WI/WI_1/HOBBIES",
          "United States of America/CA/WI_2/HOBBIES",
          "United States of America/TX/WI_2/HOBBIES",
          "United States of America/WI/WI_2/HOBBIES",
          "United States of America/CA/WI_3/HOBBIES",
          "United States of America/TX/WI_3/HOBBIES",
          "United States of America/WI/WI_3/HOBBIES",
          "United States of America/CA/CA_1/HOUSEHOLD",
          "United States of America/TX/CA_1/HOUSEHOLD",
          "United States of America/WI/CA_1/HOUSEHOLD",
          "United States of America/CA/CA_2/HOUSEHOLD",
          "United States of America/TX/CA_2/HOUSEHOLD",
          "United States of America/WI/CA_2/HOUSEHOLD",
          "United States of America/CA/CA_3/HOUSEHOLD",
          "United States of America/TX/CA_3/HOUSEHOLD",
          "United States of America/WI/CA_3/HOUSEHOLD",
          "United States of America/CA/CA_4/HOUSEHOLD",
          "United States of America/TX/CA_4/HOUSEHOLD",
          "United States of America/WI/CA_4/HOUSEHOLD",
          "United States of America/CA/TX_1/HOUSEHOLD",
          "United States of America/TX/TX_1/HOUSEHOLD",
          "United States of America/WI/TX_1/HOUSEHOLD",
          "United States of America/CA/TX_2/HOUSEHOLD",
          "United States of America/TX/TX_2/HOUSEHOLD",
          "United States of America/WI/TX_2/HOUSEHOLD",
          "United States of America/CA/TX_3/HOUSEHOLD",
          "United States of America/TX/TX_3/HOUSEHOLD",
          "United States of America/WI/TX_3/HOUSEHOLD",
          "United States of America/CA/WI_1/HOUSEHOLD",
          "United States of America/TX/WI_1/HOUSEHOLD",
          "United States of America/WI/WI_1/HOUSEHOLD",
          "United States of America/CA/WI_2/HOUSEHOLD",
          "United States of America/TX/WI_2/HOUSEHOLD",
          "United States of America/WI/WI_2/HOUSEHOLD",
          "United States of America/CA/WI_3/HOUSEHOLD",
          "United States of America/TX/WI_3/HOUSEHOLD",
          "United States of America/WI/WI_3/HOUSEHOLD",
          "United States of America/CA/CA_1/FOODS",
          "United States of America/TX/CA_1/FOODS",
          "United States of America/WI/CA_1/FOODS",
          "United States of America/CA/CA_2/FOODS",
          "United States of America/TX/CA_2/FOODS",
          "United States of America/WI/CA_2/FOODS",
          "United States of America/CA/CA_3/FOODS",
          "United States of America/TX/CA_3/FOODS",
          "United States of America/WI/CA_3/FOODS",
          "United States of America/CA/CA_4/FOODS",
          "United States of America/TX/CA_4/FOODS",
          "United States of America/WI/CA_4/FOODS",
          "United States of America/CA/TX_1/FOODS",
          "United States of America/TX/TX_1/FOODS",
          "United States of America/WI/TX_1/FOODS",
          "United States of America/CA/TX_2/FOODS",
          "United States of America/TX/TX_2/FOODS",
          "United States of America/WI/TX_2/FOODS",
          "United States of America/CA/TX_3/FOODS",
          "United States of America/TX/TX_3/FOODS",
          "United States of America/WI/TX_3/FOODS",
          "United States of America/CA/WI_1/FOODS",
          "United States of America/TX/WI_1/FOODS",
          "United States of America/WI/WI_1/FOODS",
          "United States of America/CA/WI_2/FOODS",
          "United States of America/TX/WI_2/FOODS",
          "United States of America/WI/WI_2/FOODS",
          "United States of America/CA/WI_3/FOODS",
          "United States of America/TX/WI_3/FOODS",
          "United States of America/WI/WI_3/FOODS",
          "United States of America/CA/CA_1/HOBBIES",
          "United States of America/TX/CA_1/HOBBIES",
          "United States of America/WI/CA_1/HOBBIES",
          "United States of America/CA/CA_2/HOBBIES",
          "United States of America/TX/CA_2/HOBBIES",
          "United States of America/WI/CA_2/HOBBIES",
          "United States of America/CA/CA_3/HOBBIES",
          "United States of America/TX/CA_3/HOBBIES",
          "United States of America/WI/CA_3/HOBBIES",
          "United States of America/CA/CA_4/HOBBIES",
          "United States of America/TX/CA_4/HOBBIES",
          "United States of America/WI/CA_4/HOBBIES",
          "United States of America/CA/TX_1/HOBBIES",
          "United States of America/TX/TX_1/HOBBIES",
          "United States of America/WI/TX_1/HOBBIES",
          "United States of America/CA/TX_2/HOBBIES",
          "United States of America/TX/TX_2/HOBBIES",
          "United States of America/WI/TX_2/HOBBIES",
          "United States of America/CA/TX_3/HOBBIES",
          "United States of America/TX/TX_3/HOBBIES",
          "United States of America/WI/TX_3/HOBBIES",
          "United States of America/CA/WI_1/HOBBIES",
          "United States of America/TX/WI_1/HOBBIES",
          "United States of America/WI/WI_1/HOBBIES",
          "United States of America/CA/WI_2/HOBBIES",
          "United States of America/TX/WI_2/HOBBIES",
          "United States of America/WI/WI_2/HOBBIES",
          "United States of America/CA/WI_3/HOBBIES",
          "United States of America/TX/WI_3/HOBBIES",
          "United States of America/WI/WI_3/HOBBIES",
          "United States of America/CA/CA_1/HOUSEHOLD",
          "United States of America/TX/CA_1/HOUSEHOLD",
          "United States of America/WI/CA_1/HOUSEHOLD",
          "United States of America/CA/CA_2/HOUSEHOLD",
          "United States of America/TX/CA_2/HOUSEHOLD",
          "United States of America/WI/CA_2/HOUSEHOLD",
          "United States of America/CA/CA_3/HOUSEHOLD",
          "United States of America/TX/CA_3/HOUSEHOLD",
          "United States of America/WI/CA_3/HOUSEHOLD",
          "United States of America/CA/CA_4/HOUSEHOLD",
          "United States of America/TX/CA_4/HOUSEHOLD",
          "United States of America/WI/CA_4/HOUSEHOLD",
          "United States of America/CA/TX_1/HOUSEHOLD",
          "United States of America/TX/TX_1/HOUSEHOLD",
          "United States of America/WI/TX_1/HOUSEHOLD",
          "United States of America/CA/TX_2/HOUSEHOLD",
          "United States of America/TX/TX_2/HOUSEHOLD",
          "United States of America/WI/TX_2/HOUSEHOLD",
          "United States of America/CA/TX_3/HOUSEHOLD",
          "United States of America/TX/TX_3/HOUSEHOLD",
          "United States of America/WI/TX_3/HOUSEHOLD",
          "United States of America/CA/WI_1/HOUSEHOLD",
          "United States of America/TX/WI_1/HOUSEHOLD",
          "United States of America/WI/WI_1/HOUSEHOLD",
          "United States of America/CA/WI_2/HOUSEHOLD",
          "United States of America/TX/WI_2/HOUSEHOLD",
          "United States of America/WI/WI_2/HOUSEHOLD",
          "United States of America/CA/WI_3/HOUSEHOLD",
          "United States of America/TX/WI_3/HOUSEHOLD",
          "United States of America/WI/WI_3/HOUSEHOLD",
          "United States of America/CA/CA_1/FOODS",
          "United States of America/TX/CA_1/FOODS",
          "United States of America/WI/CA_1/FOODS",
          "United States of America/CA/CA_2/FOODS",
          "United States of America/TX/CA_2/FOODS",
          "United States of America/WI/CA_2/FOODS",
          "United States of America/CA/CA_3/FOODS",
          "United States of America/TX/CA_3/FOODS",
          "United States of America/WI/CA_3/FOODS",
          "United States of America/CA/CA_4/FOODS",
          "United States of America/TX/CA_4/FOODS",
          "United States of America/WI/CA_4/FOODS",
          "United States of America/CA/TX_1/FOODS",
          "United States of America/TX/TX_1/FOODS",
          "United States of America/WI/TX_1/FOODS",
          "United States of America/CA/TX_2/FOODS",
          "United States of America/TX/TX_2/FOODS",
          "United States of America/WI/TX_2/FOODS",
          "United States of America/CA/TX_3/FOODS",
          "United States of America/TX/TX_3/FOODS",
          "United States of America/WI/TX_3/FOODS",
          "United States of America/CA/WI_1/FOODS",
          "United States of America/TX/WI_1/FOODS",
          "United States of America/WI/WI_1/FOODS",
          "United States of America/CA/WI_2/FOODS",
          "United States of America/TX/WI_2/FOODS",
          "United States of America/WI/WI_2/FOODS",
          "United States of America/CA/WI_3/FOODS",
          "United States of America/TX/WI_3/FOODS",
          "United States of America/WI/WI_3/FOODS",
          "United States of America/CA/CA_1/HOBBIES",
          "United States of America/TX/CA_1/HOBBIES",
          "United States of America/WI/CA_1/HOBBIES",
          "United States of America/CA/CA_2/HOBBIES",
          "United States of America/TX/CA_2/HOBBIES",
          "United States of America/WI/CA_2/HOBBIES",
          "United States of America/CA/CA_3/HOBBIES",
          "United States of America/TX/CA_3/HOBBIES",
          "United States of America/WI/CA_3/HOBBIES",
          "United States of America/CA/CA_4/HOBBIES",
          "United States of America/TX/CA_4/HOBBIES",
          "United States of America/WI/CA_4/HOBBIES",
          "United States of America/CA/TX_1/HOBBIES",
          "United States of America/TX/TX_1/HOBBIES",
          "United States of America/WI/TX_1/HOBBIES",
          "United States of America/CA/TX_2/HOBBIES",
          "United States of America/TX/TX_2/HOBBIES",
          "United States of America/WI/TX_2/HOBBIES",
          "United States of America/CA/TX_3/HOBBIES",
          "United States of America/TX/TX_3/HOBBIES",
          "United States of America/WI/TX_3/HOBBIES",
          "United States of America/CA/WI_1/HOBBIES",
          "United States of America/TX/WI_1/HOBBIES",
          "United States of America/WI/WI_1/HOBBIES",
          "United States of America/CA/WI_2/HOBBIES",
          "United States of America/TX/WI_2/HOBBIES",
          "United States of America/WI/WI_2/HOBBIES",
          "United States of America/CA/WI_3/HOBBIES",
          "United States of America/TX/WI_3/HOBBIES",
          "United States of America/WI/WI_3/HOBBIES",
          "United States of America/CA/CA_1/HOUSEHOLD",
          "United States of America/TX/CA_1/HOUSEHOLD",
          "United States of America/WI/CA_1/HOUSEHOLD",
          "United States of America/CA/CA_2/HOUSEHOLD",
          "United States of America/TX/CA_2/HOUSEHOLD",
          "United States of America/WI/CA_2/HOUSEHOLD",
          "United States of America/CA/CA_3/HOUSEHOLD",
          "United States of America/TX/CA_3/HOUSEHOLD",
          "United States of America/WI/CA_3/HOUSEHOLD",
          "United States of America/CA/CA_4/HOUSEHOLD",
          "United States of America/TX/CA_4/HOUSEHOLD",
          "United States of America/WI/CA_4/HOUSEHOLD",
          "United States of America/CA/TX_1/HOUSEHOLD",
          "United States of America/TX/TX_1/HOUSEHOLD",
          "United States of America/WI/TX_1/HOUSEHOLD",
          "United States of America/CA/TX_2/HOUSEHOLD",
          "United States of America/TX/TX_2/HOUSEHOLD",
          "United States of America/WI/TX_2/HOUSEHOLD",
          "United States of America/CA/TX_3/HOUSEHOLD",
          "United States of America/TX/TX_3/HOUSEHOLD",
          "United States of America/WI/TX_3/HOUSEHOLD",
          "United States of America/CA/WI_1/HOUSEHOLD",
          "United States of America/TX/WI_1/HOUSEHOLD",
          "United States of America/WI/WI_1/HOUSEHOLD",
          "United States of America/CA/WI_2/HOUSEHOLD",
          "United States of America/TX/WI_2/HOUSEHOLD",
          "United States of America/WI/WI_2/HOUSEHOLD",
          "United States of America/CA/WI_3/HOUSEHOLD",
          "United States of America/TX/WI_3/HOUSEHOLD",
          "United States of America/WI/WI_3/HOUSEHOLD",
          "United States of America/CA/CA_1/FOODS",
          "United States of America/TX/CA_1/FOODS",
          "United States of America/WI/CA_1/FOODS",
          "United States of America/CA/CA_2/FOODS",
          "United States of America/TX/CA_2/FOODS",
          "United States of America/WI/CA_2/FOODS",
          "United States of America/CA/CA_3/FOODS",
          "United States of America/TX/CA_3/FOODS",
          "United States of America/WI/CA_3/FOODS",
          "United States of America/CA/CA_4/FOODS",
          "United States of America/TX/CA_4/FOODS",
          "United States of America/WI/CA_4/FOODS",
          "United States of America/CA/TX_1/FOODS",
          "United States of America/TX/TX_1/FOODS",
          "United States of America/WI/TX_1/FOODS",
          "United States of America/CA/TX_2/FOODS",
          "United States of America/TX/TX_2/FOODS",
          "United States of America/WI/TX_2/FOODS",
          "United States of America/CA/TX_3/FOODS",
          "United States of America/TX/TX_3/FOODS",
          "United States of America/WI/TX_3/FOODS",
          "United States of America/CA/WI_1/FOODS",
          "United States of America/TX/WI_1/FOODS",
          "United States of America/WI/WI_1/FOODS",
          "United States of America/CA/WI_2/FOODS",
          "United States of America/TX/WI_2/FOODS",
          "United States of America/WI/WI_2/FOODS",
          "United States of America/CA/WI_3/FOODS",
          "United States of America/TX/WI_3/FOODS",
          "United States of America/WI/WI_3/FOODS",
          "United States of America/CA/CA_1/HOBBIES",
          "United States of America/TX/CA_1/HOBBIES",
          "United States of America/WI/CA_1/HOBBIES",
          "United States of America/CA/CA_2/HOBBIES",
          "United States of America/TX/CA_2/HOBBIES",
          "United States of America/WI/CA_2/HOBBIES",
          "United States of America/CA/CA_3/HOBBIES",
          "United States of America/TX/CA_3/HOBBIES",
          "United States of America/WI/CA_3/HOBBIES",
          "United States of America/CA/CA_4/HOBBIES",
          "United States of America/TX/CA_4/HOBBIES",
          "United States of America/WI/CA_4/HOBBIES",
          "United States of America/CA/TX_1/HOBBIES",
          "United States of America/TX/TX_1/HOBBIES",
          "United States of America/WI/TX_1/HOBBIES",
          "United States of America/CA/TX_2/HOBBIES",
          "United States of America/TX/TX_2/HOBBIES",
          "United States of America/WI/TX_2/HOBBIES",
          "United States of America/CA/TX_3/HOBBIES",
          "United States of America/TX/TX_3/HOBBIES",
          "United States of America/WI/TX_3/HOBBIES",
          "United States of America/CA/WI_1/HOBBIES",
          "United States of America/TX/WI_1/HOBBIES",
          "United States of America/WI/WI_1/HOBBIES",
          "United States of America/CA/WI_2/HOBBIES",
          "United States of America/TX/WI_2/HOBBIES",
          "United States of America/WI/WI_2/HOBBIES",
          "United States of America/CA/WI_3/HOBBIES",
          "United States of America/TX/WI_3/HOBBIES",
          "United States of America/WI/WI_3/HOBBIES",
          "United States of America/CA/CA_1/HOUSEHOLD",
          "United States of America/TX/CA_1/HOUSEHOLD",
          "United States of America/WI/CA_1/HOUSEHOLD",
          "United States of America/CA/CA_2/HOUSEHOLD",
          "United States of America/TX/CA_2/HOUSEHOLD",
          "United States of America/WI/CA_2/HOUSEHOLD",
          "United States of America/CA/CA_3/HOUSEHOLD",
          "United States of America/TX/CA_3/HOUSEHOLD",
          "United States of America/WI/CA_3/HOUSEHOLD",
          "United States of America/CA/CA_4/HOUSEHOLD",
          "United States of America/TX/CA_4/HOUSEHOLD",
          "United States of America/WI/CA_4/HOUSEHOLD",
          "United States of America/CA/TX_1/HOUSEHOLD",
          "United States of America/TX/TX_1/HOUSEHOLD",
          "United States of America/WI/TX_1/HOUSEHOLD",
          "United States of America/CA/TX_2/HOUSEHOLD",
          "United States of America/TX/TX_2/HOUSEHOLD",
          "United States of America/WI/TX_2/HOUSEHOLD",
          "United States of America/CA/TX_3/HOUSEHOLD",
          "United States of America/TX/TX_3/HOUSEHOLD",
          "United States of America/WI/TX_3/HOUSEHOLD",
          "United States of America/CA/WI_1/HOUSEHOLD",
          "United States of America/TX/WI_1/HOUSEHOLD",
          "United States of America/WI/WI_1/HOUSEHOLD",
          "United States of America/CA/WI_2/HOUSEHOLD",
          "United States of America/TX/WI_2/HOUSEHOLD",
          "United States of America/WI/WI_2/HOUSEHOLD",
          "United States of America/CA/WI_3/HOUSEHOLD",
          "United States of America/TX/WI_3/HOUSEHOLD",
          "United States of America/WI/WI_3/HOUSEHOLD",
          "United States of America/CA/CA_1/FOODS",
          "United States of America/TX/CA_1/FOODS",
          "United States of America/WI/CA_1/FOODS",
          "United States of America/CA/CA_2/FOODS",
          "United States of America/TX/CA_2/FOODS",
          "United States of America/WI/CA_2/FOODS",
          "United States of America/CA/CA_3/FOODS",
          "United States of America/TX/CA_3/FOODS",
          "United States of America/WI/CA_3/FOODS",
          "United States of America/CA/CA_4/FOODS",
          "United States of America/TX/CA_4/FOODS",
          "United States of America/WI/CA_4/FOODS",
          "United States of America/CA/TX_1/FOODS",
          "United States of America/TX/TX_1/FOODS",
          "United States of America/WI/TX_1/FOODS",
          "United States of America/CA/TX_2/FOODS",
          "United States of America/TX/TX_2/FOODS",
          "United States of America/WI/TX_2/FOODS",
          "United States of America/CA/TX_3/FOODS",
          "United States of America/TX/TX_3/FOODS",
          "United States of America/WI/TX_3/FOODS",
          "United States of America/CA/WI_1/FOODS",
          "United States of America/TX/WI_1/FOODS",
          "United States of America/WI/WI_1/FOODS",
          "United States of America/CA/WI_2/FOODS",
          "United States of America/TX/WI_2/FOODS",
          "United States of America/WI/WI_2/FOODS",
          "United States of America/CA/WI_3/FOODS",
          "United States of America/TX/WI_3/FOODS",
          "United States of America/WI/WI_3/FOODS",
          "United States of America/CA/CA_1/HOBBIES",
          "United States of America/TX/CA_1/HOBBIES",
          "United States of America/WI/CA_1/HOBBIES",
          "United States of America/CA/CA_2/HOBBIES",
          "United States of America/TX/CA_2/HOBBIES",
          "United States of America/WI/CA_2/HOBBIES",
          "United States of America/CA/CA_3/HOBBIES",
          "United States of America/TX/CA_3/HOBBIES",
          "United States of America/WI/CA_3/HOBBIES",
          "United States of America/CA/CA_4/HOBBIES",
          "United States of America/TX/CA_4/HOBBIES",
          "United States of America/WI/CA_4/HOBBIES",
          "United States of America/CA/TX_1/HOBBIES",
          "United States of America/TX/TX_1/HOBBIES",
          "United States of America/WI/TX_1/HOBBIES",
          "United States of America/CA/TX_2/HOBBIES",
          "United States of America/TX/TX_2/HOBBIES",
          "United States of America/WI/TX_2/HOBBIES",
          "United States of America/CA/TX_3/HOBBIES",
          "United States of America/TX/TX_3/HOBBIES",
          "United States of America/WI/TX_3/HOBBIES",
          "United States of America/CA/WI_1/HOBBIES",
          "United States of America/TX/WI_1/HOBBIES",
          "United States of America/WI/WI_1/HOBBIES",
          "United States of America/CA/WI_2/HOBBIES",
          "United States of America/TX/WI_2/HOBBIES",
          "United States of America/WI/WI_2/HOBBIES",
          "United States of America/CA/WI_3/HOBBIES",
          "United States of America/TX/WI_3/HOBBIES",
          "United States of America/WI/WI_3/HOBBIES",
          "United States of America/CA/CA_1/HOUSEHOLD",
          "United States of America/TX/CA_1/HOUSEHOLD",
          "United States of America/WI/CA_1/HOUSEHOLD",
          "United States of America/CA/CA_2/HOUSEHOLD",
          "United States of America/TX/CA_2/HOUSEHOLD",
          "United States of America/WI/CA_2/HOUSEHOLD",
          "United States of America/CA/CA_3/HOUSEHOLD",
          "United States of America/TX/CA_3/HOUSEHOLD",
          "United States of America/WI/CA_3/HOUSEHOLD",
          "United States of America/CA/CA_4/HOUSEHOLD",
          "United States of America/TX/CA_4/HOUSEHOLD",
          "United States of America/WI/CA_4/HOUSEHOLD",
          "United States of America/CA/TX_1/HOUSEHOLD",
          "United States of America/TX/TX_1/HOUSEHOLD",
          "United States of America/WI/TX_1/HOUSEHOLD",
          "United States of America/CA/TX_2/HOUSEHOLD",
          "United States of America/TX/TX_2/HOUSEHOLD",
          "United States of America/WI/TX_2/HOUSEHOLD",
          "United States of America/CA/TX_3/HOUSEHOLD",
          "United States of America/TX/TX_3/HOUSEHOLD",
          "United States of America/WI/TX_3/HOUSEHOLD",
          "United States of America/CA/WI_1/HOUSEHOLD",
          "United States of America/TX/WI_1/HOUSEHOLD",
          "United States of America/WI/WI_1/HOUSEHOLD",
          "United States of America/CA/WI_2/HOUSEHOLD",
          "United States of America/TX/WI_2/HOUSEHOLD",
          "United States of America/WI/WI_2/HOUSEHOLD",
          "United States of America/CA/WI_3/HOUSEHOLD",
          "United States of America/TX/WI_3/HOUSEHOLD",
          "United States of America/WI/WI_3/HOUSEHOLD",
          "United States of America/CA/CA_1/FOODS",
          "United States of America/TX/CA_1/FOODS",
          "United States of America/WI/CA_1/FOODS",
          "United States of America/CA/CA_2/FOODS",
          "United States of America/TX/CA_2/FOODS",
          "United States of America/WI/CA_2/FOODS",
          "United States of America/CA/CA_3/FOODS",
          "United States of America/TX/CA_3/FOODS",
          "United States of America/WI/CA_3/FOODS",
          "United States of America/CA/CA_4/FOODS",
          "United States of America/TX/CA_4/FOODS",
          "United States of America/WI/CA_4/FOODS",
          "United States of America/CA/TX_1/FOODS",
          "United States of America/TX/TX_1/FOODS",
          "United States of America/WI/TX_1/FOODS",
          "United States of America/CA/TX_2/FOODS",
          "United States of America/TX/TX_2/FOODS",
          "United States of America/WI/TX_2/FOODS",
          "United States of America/CA/TX_3/FOODS",
          "United States of America/TX/TX_3/FOODS",
          "United States of America/WI/TX_3/FOODS",
          "United States of America/CA/WI_1/FOODS",
          "United States of America/TX/WI_1/FOODS",
          "United States of America/WI/WI_1/FOODS",
          "United States of America/CA/WI_2/FOODS",
          "United States of America/TX/WI_2/FOODS",
          "United States of America/WI/WI_2/FOODS",
          "United States of America/CA/WI_3/FOODS",
          "United States of America/TX/WI_3/FOODS",
          "United States of America/WI/WI_3/FOODS",
          "United States of America/CA/CA_1/HOBBIES",
          "United States of America/TX/CA_1/HOBBIES",
          "United States of America/WI/CA_1/HOBBIES",
          "United States of America/CA/CA_2/HOBBIES",
          "United States of America/TX/CA_2/HOBBIES",
          "United States of America/WI/CA_2/HOBBIES",
          "United States of America/CA/CA_3/HOBBIES",
          "United States of America/TX/CA_3/HOBBIES",
          "United States of America/WI/CA_3/HOBBIES",
          "United States of America/CA/CA_4/HOBBIES",
          "United States of America/TX/CA_4/HOBBIES",
          "United States of America/WI/CA_4/HOBBIES",
          "United States of America/CA/TX_1/HOBBIES",
          "United States of America/TX/TX_1/HOBBIES",
          "United States of America/WI/TX_1/HOBBIES",
          "United States of America/CA/TX_2/HOBBIES",
          "United States of America/TX/TX_2/HOBBIES",
          "United States of America/WI/TX_2/HOBBIES",
          "United States of America/CA/TX_3/HOBBIES",
          "United States of America/TX/TX_3/HOBBIES",
          "United States of America/WI/TX_3/HOBBIES",
          "United States of America/CA/WI_1/HOBBIES",
          "United States of America/TX/WI_1/HOBBIES",
          "United States of America/WI/WI_1/HOBBIES",
          "United States of America/CA/WI_2/HOBBIES",
          "United States of America/TX/WI_2/HOBBIES",
          "United States of America/WI/WI_2/HOBBIES",
          "United States of America/CA/WI_3/HOBBIES",
          "United States of America/TX/WI_3/HOBBIES",
          "United States of America/WI/WI_3/HOBBIES",
          "United States of America/CA/CA_1/HOUSEHOLD",
          "United States of America/TX/CA_1/HOUSEHOLD",
          "United States of America/WI/CA_1/HOUSEHOLD",
          "United States of America/CA/CA_2/HOUSEHOLD",
          "United States of America/TX/CA_2/HOUSEHOLD",
          "United States of America/WI/CA_2/HOUSEHOLD",
          "United States of America/CA/CA_3/HOUSEHOLD",
          "United States of America/TX/CA_3/HOUSEHOLD",
          "United States of America/WI/CA_3/HOUSEHOLD",
          "United States of America/CA/CA_4/HOUSEHOLD",
          "United States of America/TX/CA_4/HOUSEHOLD",
          "United States of America/WI/CA_4/HOUSEHOLD",
          "United States of America/CA/TX_1/HOUSEHOLD",
          "United States of America/TX/TX_1/HOUSEHOLD",
          "United States of America/WI/TX_1/HOUSEHOLD",
          "United States of America/CA/TX_2/HOUSEHOLD",
          "United States of America/TX/TX_2/HOUSEHOLD",
          "United States of America/WI/TX_2/HOUSEHOLD",
          "United States of America/CA/TX_3/HOUSEHOLD",
          "United States of America/TX/TX_3/HOUSEHOLD",
          "United States of America/WI/TX_3/HOUSEHOLD",
          "United States of America/CA/WI_1/HOUSEHOLD",
          "United States of America/TX/WI_1/HOUSEHOLD",
          "United States of America/WI/WI_1/HOUSEHOLD",
          "United States of America/CA/WI_2/HOUSEHOLD",
          "United States of America/TX/WI_2/HOUSEHOLD",
          "United States of America/WI/WI_2/HOUSEHOLD",
          "United States of America/CA/WI_3/HOUSEHOLD",
          "United States of America/TX/WI_3/HOUSEHOLD",
          "United States of America/WI/WI_3/HOUSEHOLD",
          "United States of America/CA/CA_1",
          "United States of America/TX/CA_1",
          "United States of America/WI/CA_1",
          "United States of America/CA/CA_2",
          "United States of America/TX/CA_2",
          "United States of America/WI/CA_2",
          "United States of America/CA/CA_3",
          "United States of America/TX/CA_3",
          "United States of America/WI/CA_3",
          "United States of America/CA/CA_4",
          "United States of America/TX/CA_4",
          "United States of America/WI/CA_4",
          "United States of America/CA/TX_1",
          "United States of America/TX/TX_1",
          "United States of America/WI/TX_1",
          "United States of America/CA/TX_2",
          "United States of America/TX/TX_2",
          "United States of America/WI/TX_2",
          "United States of America/CA/TX_3",
          "United States of America/TX/TX_3",
          "United States of America/WI/TX_3",
          "United States of America/CA/WI_1",
          "United States of America/TX/WI_1",
          "United States of America/WI/WI_1",
          "United States of America/CA/WI_2",
          "United States of America/TX/WI_2",
          "United States of America/WI/WI_2",
          "United States of America/CA/WI_3",
          "United States of America/TX/WI_3",
          "United States of America/WI/WI_3",
          "United States of America/CA/CA_1",
          "United States of America/TX/CA_1",
          "United States of America/WI/CA_1",
          "United States of America/CA/CA_2",
          "United States of America/TX/CA_2",
          "United States of America/WI/CA_2",
          "United States of America/CA/CA_3",
          "United States of America/TX/CA_3",
          "United States of America/WI/CA_3",
          "United States of America/CA/CA_4",
          "United States of America/TX/CA_4",
          "United States of America/WI/CA_4",
          "United States of America/CA/TX_1",
          "United States of America/TX/TX_1",
          "United States of America/WI/TX_1",
          "United States of America/CA/TX_2",
          "United States of America/TX/TX_2",
          "United States of America/WI/TX_2",
          "United States of America/CA/TX_3",
          "United States of America/TX/TX_3",
          "United States of America/WI/TX_3",
          "United States of America/CA/WI_1",
          "United States of America/TX/WI_1",
          "United States of America/WI/WI_1",
          "United States of America/CA/WI_2",
          "United States of America/TX/WI_2",
          "United States of America/WI/WI_2",
          "United States of America/CA/WI_3",
          "United States of America/TX/WI_3",
          "United States of America/WI/WI_3",
          "United States of America/CA/CA_1",
          "United States of America/TX/CA_1",
          "United States of America/WI/CA_1",
          "United States of America/CA/CA_2",
          "United States of America/TX/CA_2",
          "United States of America/WI/CA_2",
          "United States of America/CA/CA_3",
          "United States of America/TX/CA_3",
          "United States of America/WI/CA_3",
          "United States of America/CA/CA_4",
          "United States of America/TX/CA_4",
          "United States of America/WI/CA_4",
          "United States of America/CA/TX_1",
          "United States of America/TX/TX_1",
          "United States of America/WI/TX_1",
          "United States of America/CA/TX_2",
          "United States of America/TX/TX_2",
          "United States of America/WI/TX_2",
          "United States of America/CA/TX_3",
          "United States of America/TX/TX_3",
          "United States of America/WI/TX_3",
          "United States of America/CA/WI_1",
          "United States of America/TX/WI_1",
          "United States of America/WI/WI_1",
          "United States of America/CA/WI_2",
          "United States of America/TX/WI_2",
          "United States of America/WI/WI_2",
          "United States of America/CA/WI_3",
          "United States of America/TX/WI_3",
          "United States of America/WI/WI_3",
          "United States of America/CA",
          "United States of America/TX",
          "United States of America/WI",
          "United States of America/CA",
          "United States of America/TX",
          "United States of America/WI",
          "United States of America/CA",
          "United States of America/TX",
          "United States of America/WI",
          "United States of America/CA",
          "United States of America/TX",
          "United States of America/WI",
          "United States of America/CA",
          "United States of America/TX",
          "United States of America/WI",
          "United States of America/CA",
          "United States of America/TX",
          "United States of America/WI",
          "United States of America/CA",
          "United States of America/TX",
          "United States of America/WI",
          "United States of America/CA",
          "United States of America/TX",
          "United States of America/WI",
          "United States of America/CA",
          "United States of America/TX",
          "United States of America/WI",
          "United States of America/CA",
          "United States of America/TX",
          "United States of America/WI",
          "United States of America",
          "United States of America",
          "United States of America",
          ""
         ],
         "type": "treemap",
         "values": [
          216,
          0,
          0,
          216,
          0,
          0,
          216,
          0,
          0,
          216,
          0,
          0,
          0,
          216,
          0,
          0,
          216,
          0,
          0,
          216,
          0,
          0,
          0,
          216,
          0,
          0,
          216,
          0,
          0,
          216,
          0,
          0,
          0,
          0,
          0,
          0,
          0,
          0,
          0,
          0,
          0,
          0,
          0,
          0,
          0,
          0,
          0,
          0,
          0,
          0,
          0,
          0,
          0,
          0,
          0,
          0,
          0,
          0,
          0,
          0,
          0,
          0,
          0,
          0,
          0,
          0,
          0,
          0,
          0,
          0,
          0,
          0,
          0,
          0,
          0,
          0,
          0,
          0,
          0,
          0,
          0,
          0,
          0,
          0,
          0,
          0,
          0,
          0,
          0,
          0,
          398,
          0,
          0,
          398,
          0,
          0,
          398,
          0,
          0,
          398,
          0,
          0,
          0,
          398,
          0,
          0,
          398,
          0,
          0,
          398,
          0,
          0,
          0,
          398,
          0,
          0,
          398,
          0,
          0,
          398,
          0,
          0,
          0,
          0,
          0,
          0,
          0,
          0,
          0,
          0,
          0,
          0,
          0,
          0,
          0,
          0,
          0,
          0,
          0,
          0,
          0,
          0,
          0,
          0,
          0,
          0,
          0,
          0,
          0,
          0,
          0,
          0,
          0,
          0,
          0,
          0,
          0,
          0,
          0,
          0,
          0,
          0,
          0,
          0,
          0,
          0,
          0,
          0,
          0,
          0,
          0,
          0,
          0,
          0,
          0,
          0,
          0,
          0,
          0,
          0,
          823,
          0,
          0,
          823,
          0,
          0,
          823,
          0,
          0,
          823,
          0,
          0,
          0,
          823,
          0,
          0,
          823,
          0,
          0,
          823,
          0,
          0,
          0,
          823,
          0,
          0,
          823,
          0,
          0,
          823,
          0,
          0,
          0,
          0,
          0,
          0,
          0,
          0,
          0,
          0,
          0,
          0,
          0,
          0,
          0,
          0,
          0,
          0,
          0,
          0,
          0,
          0,
          0,
          0,
          0,
          0,
          0,
          0,
          0,
          0,
          0,
          0,
          0,
          0,
          0,
          0,
          0,
          0,
          0,
          0,
          0,
          0,
          0,
          0,
          0,
          0,
          0,
          0,
          0,
          0,
          0,
          0,
          0,
          0,
          0,
          0,
          0,
          0,
          0,
          0,
          0,
          0,
          0,
          0,
          0,
          0,
          0,
          0,
          0,
          0,
          0,
          0,
          0,
          0,
          0,
          0,
          0,
          0,
          0,
          0,
          0,
          0,
          0,
          0,
          0,
          0,
          0,
          0,
          0,
          0,
          416,
          0,
          0,
          416,
          0,
          0,
          416,
          0,
          0,
          416,
          0,
          0,
          0,
          416,
          0,
          0,
          416,
          0,
          0,
          416,
          0,
          0,
          0,
          416,
          0,
          0,
          416,
          0,
          0,
          416,
          0,
          0,
          0,
          0,
          0,
          0,
          0,
          0,
          0,
          0,
          0,
          0,
          0,
          0,
          0,
          0,
          0,
          0,
          0,
          0,
          0,
          0,
          0,
          0,
          0,
          0,
          0,
          0,
          0,
          0,
          0,
          0,
          0,
          0,
          0,
          0,
          0,
          0,
          0,
          0,
          0,
          0,
          0,
          0,
          0,
          0,
          0,
          0,
          0,
          0,
          0,
          0,
          0,
          0,
          0,
          0,
          0,
          0,
          0,
          0,
          149,
          0,
          0,
          149,
          0,
          0,
          149,
          0,
          0,
          149,
          0,
          0,
          0,
          149,
          0,
          0,
          149,
          0,
          0,
          149,
          0,
          0,
          0,
          149,
          0,
          0,
          149,
          0,
          0,
          149,
          0,
          0,
          0,
          0,
          0,
          0,
          0,
          0,
          0,
          0,
          0,
          0,
          0,
          0,
          0,
          0,
          0,
          0,
          0,
          0,
          0,
          0,
          0,
          0,
          0,
          0,
          0,
          0,
          0,
          0,
          0,
          0,
          0,
          0,
          0,
          0,
          0,
          0,
          0,
          0,
          0,
          0,
          0,
          0,
          0,
          0,
          0,
          0,
          0,
          0,
          0,
          0,
          0,
          0,
          0,
          0,
          0,
          0,
          0,
          0,
          0,
          0,
          0,
          0,
          0,
          0,
          0,
          0,
          0,
          0,
          0,
          0,
          0,
          0,
          0,
          0,
          0,
          0,
          0,
          0,
          0,
          0,
          0,
          0,
          0,
          0,
          0,
          0,
          0,
          0,
          532,
          0,
          0,
          532,
          0,
          0,
          532,
          0,
          0,
          532,
          0,
          0,
          0,
          532,
          0,
          0,
          532,
          0,
          0,
          532,
          0,
          0,
          0,
          532,
          0,
          0,
          532,
          0,
          0,
          532,
          0,
          0,
          0,
          0,
          0,
          0,
          0,
          0,
          0,
          0,
          0,
          0,
          0,
          0,
          0,
          0,
          0,
          0,
          0,
          0,
          0,
          0,
          0,
          0,
          0,
          0,
          0,
          0,
          0,
          0,
          0,
          0,
          0,
          0,
          0,
          0,
          0,
          0,
          0,
          0,
          0,
          0,
          0,
          0,
          0,
          0,
          0,
          0,
          0,
          0,
          0,
          0,
          0,
          0,
          0,
          0,
          0,
          0,
          0,
          0,
          515,
          0,
          0,
          515,
          0,
          0,
          515,
          0,
          0,
          515,
          0,
          0,
          0,
          515,
          0,
          0,
          515,
          0,
          0,
          515,
          0,
          0,
          0,
          515,
          0,
          0,
          515,
          0,
          0,
          515,
          1437,
          0,
          0,
          1437,
          0,
          0,
          1437,
          0,
          0,
          1437,
          0,
          0,
          0,
          1437,
          0,
          0,
          1437,
          0,
          0,
          1437,
          0,
          0,
          0,
          1437,
          0,
          0,
          1437,
          0,
          0,
          1437,
          565,
          0,
          0,
          565,
          0,
          0,
          565,
          0,
          0,
          565,
          0,
          0,
          0,
          565,
          0,
          0,
          565,
          0,
          0,
          565,
          0,
          0,
          0,
          565,
          0,
          0,
          565,
          0,
          0,
          565,
          1047,
          0,
          0,
          1047,
          0,
          0,
          1047,
          0,
          0,
          1047,
          0,
          0,
          0,
          1047,
          0,
          0,
          1047,
          0,
          0,
          1047,
          0,
          0,
          0,
          1047,
          0,
          0,
          1047,
          0,
          0,
          1047,
          3049,
          0,
          0,
          3049,
          0,
          0,
          3049,
          0,
          0,
          3049,
          0,
          0,
          0,
          3049,
          0,
          0,
          3049,
          0,
          0,
          3049,
          0,
          0,
          0,
          3049,
          0,
          0,
          3049,
          0,
          0,
          3049,
          12196,
          9147,
          9147,
          30490
         ]
        }
       ],
       "layout": {
        "coloraxis": {
         "colorbar": {
          "title": {
           "text": "Count"
          }
         },
         "colorscale": [
          [
           0,
           "#e2f1fc"
          ],
          [
           0.2,
           "#b9dcfa"
          ],
          [
           0.4,
           "#8cc7f7"
          ],
          [
           0.6,
           "#5eb1f3"
          ],
          [
           0.8,
           "#39a0f1"
          ],
          [
           1,
           "#0691ef"
          ]
         ]
        },
        "legend": {
         "tracegroupgap": 0
        },
        "template": {
         "data": {
          "bar": [
           {
            "error_x": {
             "color": "rgb(36,36,36)"
            },
            "error_y": {
             "color": "rgb(36,36,36)"
            },
            "marker": {
             "line": {
              "color": "rgb(234,234,242)",
              "width": 0.5
             },
             "pattern": {
              "fillmode": "overlay",
              "size": 10,
              "solidity": 0.2
             }
            },
            "type": "bar"
           }
          ],
          "barpolar": [
           {
            "marker": {
             "line": {
              "color": "rgb(234,234,242)",
              "width": 0.5
             },
             "pattern": {
              "fillmode": "overlay",
              "size": 10,
              "solidity": 0.2
             }
            },
            "type": "barpolar"
           }
          ],
          "carpet": [
           {
            "aaxis": {
             "endlinecolor": "rgb(36,36,36)",
             "gridcolor": "white",
             "linecolor": "white",
             "minorgridcolor": "white",
             "startlinecolor": "rgb(36,36,36)"
            },
            "baxis": {
             "endlinecolor": "rgb(36,36,36)",
             "gridcolor": "white",
             "linecolor": "white",
             "minorgridcolor": "white",
             "startlinecolor": "rgb(36,36,36)"
            },
            "type": "carpet"
           }
          ],
          "choropleth": [
           {
            "colorbar": {
             "outlinewidth": 0,
             "tickcolor": "rgb(36,36,36)",
             "ticklen": 8,
             "ticks": "outside",
             "tickwidth": 2
            },
            "type": "choropleth"
           }
          ],
          "contour": [
           {
            "colorbar": {
             "outlinewidth": 0,
             "tickcolor": "rgb(36,36,36)",
             "ticklen": 8,
             "ticks": "outside",
             "tickwidth": 2
            },
            "colorscale": [
             [
              0,
              "rgb(2,4,25)"
             ],
             [
              0.06274509803921569,
              "rgb(24,15,41)"
             ],
             [
              0.12549019607843137,
              "rgb(47,23,57)"
             ],
             [
              0.18823529411764706,
              "rgb(71,28,72)"
             ],
             [
              0.25098039215686274,
              "rgb(97,30,82)"
             ],
             [
              0.3137254901960784,
              "rgb(123,30,89)"
             ],
             [
              0.3764705882352941,
              "rgb(150,27,91)"
             ],
             [
              0.4392156862745098,
              "rgb(177,22,88)"
             ],
             [
              0.5019607843137255,
              "rgb(203,26,79)"
             ],
             [
              0.5647058823529412,
              "rgb(223,47,67)"
             ],
             [
              0.6274509803921569,
              "rgb(236,76,61)"
             ],
             [
              0.6901960784313725,
              "rgb(242,107,73)"
             ],
             [
              0.7529411764705882,
              "rgb(244,135,95)"
             ],
             [
              0.8156862745098039,
              "rgb(245,162,122)"
             ],
             [
              0.8784313725490196,
              "rgb(246,188,153)"
             ],
             [
              0.9411764705882353,
              "rgb(247,212,187)"
             ],
             [
              1,
              "rgb(250,234,220)"
             ]
            ],
            "type": "contour"
           }
          ],
          "contourcarpet": [
           {
            "colorbar": {
             "outlinewidth": 0,
             "tickcolor": "rgb(36,36,36)",
             "ticklen": 8,
             "ticks": "outside",
             "tickwidth": 2
            },
            "type": "contourcarpet"
           }
          ],
          "heatmap": [
           {
            "colorbar": {
             "outlinewidth": 0,
             "tickcolor": "rgb(36,36,36)",
             "ticklen": 8,
             "ticks": "outside",
             "tickwidth": 2
            },
            "colorscale": [
             [
              0,
              "rgb(2,4,25)"
             ],
             [
              0.06274509803921569,
              "rgb(24,15,41)"
             ],
             [
              0.12549019607843137,
              "rgb(47,23,57)"
             ],
             [
              0.18823529411764706,
              "rgb(71,28,72)"
             ],
             [
              0.25098039215686274,
              "rgb(97,30,82)"
             ],
             [
              0.3137254901960784,
              "rgb(123,30,89)"
             ],
             [
              0.3764705882352941,
              "rgb(150,27,91)"
             ],
             [
              0.4392156862745098,
              "rgb(177,22,88)"
             ],
             [
              0.5019607843137255,
              "rgb(203,26,79)"
             ],
             [
              0.5647058823529412,
              "rgb(223,47,67)"
             ],
             [
              0.6274509803921569,
              "rgb(236,76,61)"
             ],
             [
              0.6901960784313725,
              "rgb(242,107,73)"
             ],
             [
              0.7529411764705882,
              "rgb(244,135,95)"
             ],
             [
              0.8156862745098039,
              "rgb(245,162,122)"
             ],
             [
              0.8784313725490196,
              "rgb(246,188,153)"
             ],
             [
              0.9411764705882353,
              "rgb(247,212,187)"
             ],
             [
              1,
              "rgb(250,234,220)"
             ]
            ],
            "type": "heatmap"
           }
          ],
          "heatmapgl": [
           {
            "colorbar": {
             "outlinewidth": 0,
             "tickcolor": "rgb(36,36,36)",
             "ticklen": 8,
             "ticks": "outside",
             "tickwidth": 2
            },
            "colorscale": [
             [
              0,
              "rgb(2,4,25)"
             ],
             [
              0.06274509803921569,
              "rgb(24,15,41)"
             ],
             [
              0.12549019607843137,
              "rgb(47,23,57)"
             ],
             [
              0.18823529411764706,
              "rgb(71,28,72)"
             ],
             [
              0.25098039215686274,
              "rgb(97,30,82)"
             ],
             [
              0.3137254901960784,
              "rgb(123,30,89)"
             ],
             [
              0.3764705882352941,
              "rgb(150,27,91)"
             ],
             [
              0.4392156862745098,
              "rgb(177,22,88)"
             ],
             [
              0.5019607843137255,
              "rgb(203,26,79)"
             ],
             [
              0.5647058823529412,
              "rgb(223,47,67)"
             ],
             [
              0.6274509803921569,
              "rgb(236,76,61)"
             ],
             [
              0.6901960784313725,
              "rgb(242,107,73)"
             ],
             [
              0.7529411764705882,
              "rgb(244,135,95)"
             ],
             [
              0.8156862745098039,
              "rgb(245,162,122)"
             ],
             [
              0.8784313725490196,
              "rgb(246,188,153)"
             ],
             [
              0.9411764705882353,
              "rgb(247,212,187)"
             ],
             [
              1,
              "rgb(250,234,220)"
             ]
            ],
            "type": "heatmapgl"
           }
          ],
          "histogram": [
           {
            "marker": {
             "pattern": {
              "fillmode": "overlay",
              "size": 10,
              "solidity": 0.2
             }
            },
            "type": "histogram"
           }
          ],
          "histogram2d": [
           {
            "colorbar": {
             "outlinewidth": 0,
             "tickcolor": "rgb(36,36,36)",
             "ticklen": 8,
             "ticks": "outside",
             "tickwidth": 2
            },
            "colorscale": [
             [
              0,
              "rgb(2,4,25)"
             ],
             [
              0.06274509803921569,
              "rgb(24,15,41)"
             ],
             [
              0.12549019607843137,
              "rgb(47,23,57)"
             ],
             [
              0.18823529411764706,
              "rgb(71,28,72)"
             ],
             [
              0.25098039215686274,
              "rgb(97,30,82)"
             ],
             [
              0.3137254901960784,
              "rgb(123,30,89)"
             ],
             [
              0.3764705882352941,
              "rgb(150,27,91)"
             ],
             [
              0.4392156862745098,
              "rgb(177,22,88)"
             ],
             [
              0.5019607843137255,
              "rgb(203,26,79)"
             ],
             [
              0.5647058823529412,
              "rgb(223,47,67)"
             ],
             [
              0.6274509803921569,
              "rgb(236,76,61)"
             ],
             [
              0.6901960784313725,
              "rgb(242,107,73)"
             ],
             [
              0.7529411764705882,
              "rgb(244,135,95)"
             ],
             [
              0.8156862745098039,
              "rgb(245,162,122)"
             ],
             [
              0.8784313725490196,
              "rgb(246,188,153)"
             ],
             [
              0.9411764705882353,
              "rgb(247,212,187)"
             ],
             [
              1,
              "rgb(250,234,220)"
             ]
            ],
            "type": "histogram2d"
           }
          ],
          "histogram2dcontour": [
           {
            "colorbar": {
             "outlinewidth": 0,
             "tickcolor": "rgb(36,36,36)",
             "ticklen": 8,
             "ticks": "outside",
             "tickwidth": 2
            },
            "colorscale": [
             [
              0,
              "rgb(2,4,25)"
             ],
             [
              0.06274509803921569,
              "rgb(24,15,41)"
             ],
             [
              0.12549019607843137,
              "rgb(47,23,57)"
             ],
             [
              0.18823529411764706,
              "rgb(71,28,72)"
             ],
             [
              0.25098039215686274,
              "rgb(97,30,82)"
             ],
             [
              0.3137254901960784,
              "rgb(123,30,89)"
             ],
             [
              0.3764705882352941,
              "rgb(150,27,91)"
             ],
             [
              0.4392156862745098,
              "rgb(177,22,88)"
             ],
             [
              0.5019607843137255,
              "rgb(203,26,79)"
             ],
             [
              0.5647058823529412,
              "rgb(223,47,67)"
             ],
             [
              0.6274509803921569,
              "rgb(236,76,61)"
             ],
             [
              0.6901960784313725,
              "rgb(242,107,73)"
             ],
             [
              0.7529411764705882,
              "rgb(244,135,95)"
             ],
             [
              0.8156862745098039,
              "rgb(245,162,122)"
             ],
             [
              0.8784313725490196,
              "rgb(246,188,153)"
             ],
             [
              0.9411764705882353,
              "rgb(247,212,187)"
             ],
             [
              1,
              "rgb(250,234,220)"
             ]
            ],
            "type": "histogram2dcontour"
           }
          ],
          "mesh3d": [
           {
            "colorbar": {
             "outlinewidth": 0,
             "tickcolor": "rgb(36,36,36)",
             "ticklen": 8,
             "ticks": "outside",
             "tickwidth": 2
            },
            "type": "mesh3d"
           }
          ],
          "parcoords": [
           {
            "line": {
             "colorbar": {
              "outlinewidth": 0,
              "tickcolor": "rgb(36,36,36)",
              "ticklen": 8,
              "ticks": "outside",
              "tickwidth": 2
             }
            },
            "type": "parcoords"
           }
          ],
          "pie": [
           {
            "automargin": true,
            "type": "pie"
           }
          ],
          "scatter": [
           {
            "fillpattern": {
             "fillmode": "overlay",
             "size": 10,
             "solidity": 0.2
            },
            "type": "scatter"
           }
          ],
          "scatter3d": [
           {
            "line": {
             "colorbar": {
              "outlinewidth": 0,
              "tickcolor": "rgb(36,36,36)",
              "ticklen": 8,
              "ticks": "outside",
              "tickwidth": 2
             }
            },
            "marker": {
             "colorbar": {
              "outlinewidth": 0,
              "tickcolor": "rgb(36,36,36)",
              "ticklen": 8,
              "ticks": "outside",
              "tickwidth": 2
             }
            },
            "type": "scatter3d"
           }
          ],
          "scattercarpet": [
           {
            "marker": {
             "colorbar": {
              "outlinewidth": 0,
              "tickcolor": "rgb(36,36,36)",
              "ticklen": 8,
              "ticks": "outside",
              "tickwidth": 2
             }
            },
            "type": "scattercarpet"
           }
          ],
          "scattergeo": [
           {
            "marker": {
             "colorbar": {
              "outlinewidth": 0,
              "tickcolor": "rgb(36,36,36)",
              "ticklen": 8,
              "ticks": "outside",
              "tickwidth": 2
             }
            },
            "type": "scattergeo"
           }
          ],
          "scattergl": [
           {
            "marker": {
             "colorbar": {
              "outlinewidth": 0,
              "tickcolor": "rgb(36,36,36)",
              "ticklen": 8,
              "ticks": "outside",
              "tickwidth": 2
             }
            },
            "type": "scattergl"
           }
          ],
          "scattermapbox": [
           {
            "marker": {
             "colorbar": {
              "outlinewidth": 0,
              "tickcolor": "rgb(36,36,36)",
              "ticklen": 8,
              "ticks": "outside",
              "tickwidth": 2
             }
            },
            "type": "scattermapbox"
           }
          ],
          "scatterpolar": [
           {
            "marker": {
             "colorbar": {
              "outlinewidth": 0,
              "tickcolor": "rgb(36,36,36)",
              "ticklen": 8,
              "ticks": "outside",
              "tickwidth": 2
             }
            },
            "type": "scatterpolar"
           }
          ],
          "scatterpolargl": [
           {
            "marker": {
             "colorbar": {
              "outlinewidth": 0,
              "tickcolor": "rgb(36,36,36)",
              "ticklen": 8,
              "ticks": "outside",
              "tickwidth": 2
             }
            },
            "type": "scatterpolargl"
           }
          ],
          "scatterternary": [
           {
            "marker": {
             "colorbar": {
              "outlinewidth": 0,
              "tickcolor": "rgb(36,36,36)",
              "ticklen": 8,
              "ticks": "outside",
              "tickwidth": 2
             }
            },
            "type": "scatterternary"
           }
          ],
          "surface": [
           {
            "colorbar": {
             "outlinewidth": 0,
             "tickcolor": "rgb(36,36,36)",
             "ticklen": 8,
             "ticks": "outside",
             "tickwidth": 2
            },
            "colorscale": [
             [
              0,
              "rgb(2,4,25)"
             ],
             [
              0.06274509803921569,
              "rgb(24,15,41)"
             ],
             [
              0.12549019607843137,
              "rgb(47,23,57)"
             ],
             [
              0.18823529411764706,
              "rgb(71,28,72)"
             ],
             [
              0.25098039215686274,
              "rgb(97,30,82)"
             ],
             [
              0.3137254901960784,
              "rgb(123,30,89)"
             ],
             [
              0.3764705882352941,
              "rgb(150,27,91)"
             ],
             [
              0.4392156862745098,
              "rgb(177,22,88)"
             ],
             [
              0.5019607843137255,
              "rgb(203,26,79)"
             ],
             [
              0.5647058823529412,
              "rgb(223,47,67)"
             ],
             [
              0.6274509803921569,
              "rgb(236,76,61)"
             ],
             [
              0.6901960784313725,
              "rgb(242,107,73)"
             ],
             [
              0.7529411764705882,
              "rgb(244,135,95)"
             ],
             [
              0.8156862745098039,
              "rgb(245,162,122)"
             ],
             [
              0.8784313725490196,
              "rgb(246,188,153)"
             ],
             [
              0.9411764705882353,
              "rgb(247,212,187)"
             ],
             [
              1,
              "rgb(250,234,220)"
             ]
            ],
            "type": "surface"
           }
          ],
          "table": [
           {
            "cells": {
             "fill": {
              "color": "rgb(231,231,240)"
             },
             "line": {
              "color": "white"
             }
            },
            "header": {
             "fill": {
              "color": "rgb(183,183,191)"
             },
             "line": {
              "color": "white"
             }
            },
            "type": "table"
           }
          ]
         },
         "layout": {
          "annotationdefaults": {
           "arrowcolor": "rgb(67,103,167)"
          },
          "autotypenumbers": "strict",
          "coloraxis": {
           "colorbar": {
            "outlinewidth": 0,
            "tickcolor": "rgb(36,36,36)",
            "ticklen": 8,
            "ticks": "outside",
            "tickwidth": 2
           }
          },
          "colorscale": {
           "sequential": [
            [
             0,
             "rgb(2,4,25)"
            ],
            [
             0.06274509803921569,
             "rgb(24,15,41)"
            ],
            [
             0.12549019607843137,
             "rgb(47,23,57)"
            ],
            [
             0.18823529411764706,
             "rgb(71,28,72)"
            ],
            [
             0.25098039215686274,
             "rgb(97,30,82)"
            ],
            [
             0.3137254901960784,
             "rgb(123,30,89)"
            ],
            [
             0.3764705882352941,
             "rgb(150,27,91)"
            ],
            [
             0.4392156862745098,
             "rgb(177,22,88)"
            ],
            [
             0.5019607843137255,
             "rgb(203,26,79)"
            ],
            [
             0.5647058823529412,
             "rgb(223,47,67)"
            ],
            [
             0.6274509803921569,
             "rgb(236,76,61)"
            ],
            [
             0.6901960784313725,
             "rgb(242,107,73)"
            ],
            [
             0.7529411764705882,
             "rgb(244,135,95)"
            ],
            [
             0.8156862745098039,
             "rgb(245,162,122)"
            ],
            [
             0.8784313725490196,
             "rgb(246,188,153)"
            ],
            [
             0.9411764705882353,
             "rgb(247,212,187)"
            ],
            [
             1,
             "rgb(250,234,220)"
            ]
           ],
           "sequentialminus": [
            [
             0,
             "rgb(2,4,25)"
            ],
            [
             0.06274509803921569,
             "rgb(24,15,41)"
            ],
            [
             0.12549019607843137,
             "rgb(47,23,57)"
            ],
            [
             0.18823529411764706,
             "rgb(71,28,72)"
            ],
            [
             0.25098039215686274,
             "rgb(97,30,82)"
            ],
            [
             0.3137254901960784,
             "rgb(123,30,89)"
            ],
            [
             0.3764705882352941,
             "rgb(150,27,91)"
            ],
            [
             0.4392156862745098,
             "rgb(177,22,88)"
            ],
            [
             0.5019607843137255,
             "rgb(203,26,79)"
            ],
            [
             0.5647058823529412,
             "rgb(223,47,67)"
            ],
            [
             0.6274509803921569,
             "rgb(236,76,61)"
            ],
            [
             0.6901960784313725,
             "rgb(242,107,73)"
            ],
            [
             0.7529411764705882,
             "rgb(244,135,95)"
            ],
            [
             0.8156862745098039,
             "rgb(245,162,122)"
            ],
            [
             0.8784313725490196,
             "rgb(246,188,153)"
            ],
            [
             0.9411764705882353,
             "rgb(247,212,187)"
            ],
            [
             1,
             "rgb(250,234,220)"
            ]
           ]
          },
          "colorway": [
           "rgb(76,114,176)",
           "rgb(221,132,82)",
           "rgb(85,168,104)",
           "rgb(196,78,82)",
           "rgb(129,114,179)",
           "rgb(147,120,96)",
           "rgb(218,139,195)",
           "rgb(140,140,140)",
           "rgb(204,185,116)",
           "rgb(100,181,205)"
          ],
          "font": {
           "color": "rgb(36,36,36)"
          },
          "geo": {
           "bgcolor": "white",
           "lakecolor": "white",
           "landcolor": "rgb(234,234,242)",
           "showlakes": true,
           "showland": true,
           "subunitcolor": "white"
          },
          "hoverlabel": {
           "align": "left"
          },
          "hovermode": "closest",
          "paper_bgcolor": "white",
          "plot_bgcolor": "rgb(234,234,242)",
          "polar": {
           "angularaxis": {
            "gridcolor": "white",
            "linecolor": "white",
            "showgrid": true,
            "ticks": ""
           },
           "bgcolor": "rgb(234,234,242)",
           "radialaxis": {
            "gridcolor": "white",
            "linecolor": "white",
            "showgrid": true,
            "ticks": ""
           }
          },
          "scene": {
           "xaxis": {
            "backgroundcolor": "rgb(234,234,242)",
            "gridcolor": "white",
            "gridwidth": 2,
            "linecolor": "white",
            "showbackground": true,
            "showgrid": true,
            "ticks": "",
            "zerolinecolor": "white"
           },
           "yaxis": {
            "backgroundcolor": "rgb(234,234,242)",
            "gridcolor": "white",
            "gridwidth": 2,
            "linecolor": "white",
            "showbackground": true,
            "showgrid": true,
            "ticks": "",
            "zerolinecolor": "white"
           },
           "zaxis": {
            "backgroundcolor": "rgb(234,234,242)",
            "gridcolor": "white",
            "gridwidth": 2,
            "linecolor": "white",
            "showbackground": true,
            "showgrid": true,
            "ticks": "",
            "zerolinecolor": "white"
           }
          },
          "shapedefaults": {
           "fillcolor": "rgb(67,103,167)",
           "line": {
            "width": 0
           },
           "opacity": 0.5
          },
          "ternary": {
           "aaxis": {
            "gridcolor": "white",
            "linecolor": "white",
            "showgrid": true,
            "ticks": ""
           },
           "baxis": {
            "gridcolor": "white",
            "linecolor": "white",
            "showgrid": true,
            "ticks": ""
           },
           "bgcolor": "rgb(234,234,242)",
           "caxis": {
            "gridcolor": "white",
            "linecolor": "white",
            "showgrid": true,
            "ticks": ""
           }
          },
          "xaxis": {
           "automargin": true,
           "gridcolor": "white",
           "linecolor": "white",
           "showgrid": true,
           "ticks": "",
           "title": {
            "standoff": 15
           },
           "zerolinecolor": "white"
          },
          "yaxis": {
           "automargin": true,
           "gridcolor": "white",
           "linecolor": "white",
           "showgrid": true,
           "ticks": "",
           "title": {
            "standoff": 15
           },
           "zerolinecolor": "white"
          }
         }
        },
        "title": {
         "text": "Walmart's Item Distribution"
        }
       }
      }
     },
     "metadata": {},
     "output_type": "display_data"
    }
   ],
   "source": [
    "group = sales.groupby(['state_id','store_id','cat_id','dept_id'],as_index=False)['item_id'].count().dropna()\n",
    "group = group[group['item_id'] > 0].reset_index(drop=True) # removing zero-valued rows\n",
    "group['USA'] = 'United States of America'\n",
    "group.rename(columns={'state_id':'State','store_id':'Store','cat_id':'Category','dept_id':'Department','item_id':'Count'},inplace=True)\n",
    "fig = px.treemap(\n",
    "  group, \n",
    "  path=['USA', 'State', 'Store', 'Category', 'Department'], \n",
    "  values='Count',\n",
    "  color='Count',\n",
    "  color_continuous_scale= DIVERGENT_COLOUR_GRADIENT,\n",
    "  title=\"Walmart's Item Distribution\"\n",
    ")\n",
    "fig.update_layout(template='seaborn')\n",
    "fig.show()"
   ]
  },
  {
   "cell_type": "markdown",
   "metadata": {},
   "source": [
    "We learn from the above graph that items are distributed in a similar manner across states, stores and product departments; all 3 states under analysis have the same number of products across stores and product categories. A curious question might be: do they really sell the same products? For now, I don't think it's worthwhile to answer this question.\n",
    "\n",
    "The above graph also suggests the logic in which we can explore the data. +3000 products is a really a lot and thus needs systematic approach to analysis."
   ]
  },
  {
   "cell_type": "code",
   "execution_count": 10,
   "metadata": {},
   "outputs": [
    {
     "data": {
      "text/plain": [
       "Index(['id', 'item_id', 'dept_id', 'cat_id', 'store_id', 'state_id', 'd_1',\n",
       "       'd_2', 'd_3', 'd_4',\n",
       "       ...\n",
       "       'd_1960', 'd_1961', 'd_1962', 'd_1963', 'd_1964', 'd_1965', 'd_1966',\n",
       "       'd_1967', 'd_1968', 'd_1969'],\n",
       "      dtype='object', length=1975)"
      ]
     },
     "execution_count": 10,
     "metadata": {},
     "output_type": "execute_result"
    }
   ],
   "source": [
    "sales.columns"
   ]
  },
  {
   "cell_type": "code",
   "execution_count": 10,
   "metadata": {},
   "outputs": [],
   "source": [
    "mlt_sales = pd.melt(sales, id_vars=['id', 'item_id', 'dept_id', 'cat_id', 'store_id', 'state_id'], var_name='d', value_name='sold').dropna()"
   ]
  },
  {
   "cell_type": "code",
   "execution_count": 11,
   "metadata": {},
   "outputs": [
    {
     "data": {
      "text/html": [
       "<div>\n",
       "<style scoped>\n",
       "    .dataframe tbody tr th:only-of-type {\n",
       "        vertical-align: middle;\n",
       "    }\n",
       "\n",
       "    .dataframe tbody tr th {\n",
       "        vertical-align: top;\n",
       "    }\n",
       "\n",
       "    .dataframe thead th {\n",
       "        text-align: right;\n",
       "    }\n",
       "</style>\n",
       "<table border=\"1\" class=\"dataframe\">\n",
       "  <thead>\n",
       "    <tr style=\"text-align: right;\">\n",
       "      <th></th>\n",
       "      <th>id</th>\n",
       "      <th>item_id</th>\n",
       "      <th>dept_id</th>\n",
       "      <th>cat_id</th>\n",
       "      <th>store_id</th>\n",
       "      <th>state_id</th>\n",
       "      <th>d</th>\n",
       "      <th>sold</th>\n",
       "    </tr>\n",
       "  </thead>\n",
       "  <tbody>\n",
       "    <tr>\n",
       "      <th>0</th>\n",
       "      <td>HOBBIES_1_001_CA_1_evaluation</td>\n",
       "      <td>HOBBIES_1_001</td>\n",
       "      <td>HOBBIES_1</td>\n",
       "      <td>HOBBIES</td>\n",
       "      <td>CA_1</td>\n",
       "      <td>CA</td>\n",
       "      <td>d_1</td>\n",
       "      <td>0</td>\n",
       "    </tr>\n",
       "    <tr>\n",
       "      <th>1</th>\n",
       "      <td>HOBBIES_1_002_CA_1_evaluation</td>\n",
       "      <td>HOBBIES_1_002</td>\n",
       "      <td>HOBBIES_1</td>\n",
       "      <td>HOBBIES</td>\n",
       "      <td>CA_1</td>\n",
       "      <td>CA</td>\n",
       "      <td>d_1</td>\n",
       "      <td>0</td>\n",
       "    </tr>\n",
       "    <tr>\n",
       "      <th>2</th>\n",
       "      <td>HOBBIES_1_003_CA_1_evaluation</td>\n",
       "      <td>HOBBIES_1_003</td>\n",
       "      <td>HOBBIES_1</td>\n",
       "      <td>HOBBIES</td>\n",
       "      <td>CA_1</td>\n",
       "      <td>CA</td>\n",
       "      <td>d_1</td>\n",
       "      <td>0</td>\n",
       "    </tr>\n",
       "    <tr>\n",
       "      <th>3</th>\n",
       "      <td>HOBBIES_1_004_CA_1_evaluation</td>\n",
       "      <td>HOBBIES_1_004</td>\n",
       "      <td>HOBBIES_1</td>\n",
       "      <td>HOBBIES</td>\n",
       "      <td>CA_1</td>\n",
       "      <td>CA</td>\n",
       "      <td>d_1</td>\n",
       "      <td>0</td>\n",
       "    </tr>\n",
       "    <tr>\n",
       "      <th>4</th>\n",
       "      <td>HOBBIES_1_005_CA_1_evaluation</td>\n",
       "      <td>HOBBIES_1_005</td>\n",
       "      <td>HOBBIES_1</td>\n",
       "      <td>HOBBIES</td>\n",
       "      <td>CA_1</td>\n",
       "      <td>CA</td>\n",
       "      <td>d_1</td>\n",
       "      <td>0</td>\n",
       "    </tr>\n",
       "  </tbody>\n",
       "</table>\n",
       "</div>"
      ],
      "text/plain": [
       "                              id        item_id    dept_id   cat_id store_id  \\\n",
       "0  HOBBIES_1_001_CA_1_evaluation  HOBBIES_1_001  HOBBIES_1  HOBBIES     CA_1   \n",
       "1  HOBBIES_1_002_CA_1_evaluation  HOBBIES_1_002  HOBBIES_1  HOBBIES     CA_1   \n",
       "2  HOBBIES_1_003_CA_1_evaluation  HOBBIES_1_003  HOBBIES_1  HOBBIES     CA_1   \n",
       "3  HOBBIES_1_004_CA_1_evaluation  HOBBIES_1_004  HOBBIES_1  HOBBIES     CA_1   \n",
       "4  HOBBIES_1_005_CA_1_evaluation  HOBBIES_1_005  HOBBIES_1  HOBBIES     CA_1   \n",
       "\n",
       "  state_id    d  sold  \n",
       "0       CA  d_1     0  \n",
       "1       CA  d_1     0  \n",
       "2       CA  d_1     0  \n",
       "3       CA  d_1     0  \n",
       "4       CA  d_1     0  "
      ]
     },
     "execution_count": 11,
     "metadata": {},
     "output_type": "execute_result"
    }
   ],
   "source": [
    "mlt_sales.head()"
   ]
  },
  {
   "cell_type": "code",
   "execution_count": 12,
   "metadata": {},
   "outputs": [
    {
     "data": {
      "text/html": [
       "<div>\n",
       "<style scoped>\n",
       "    .dataframe tbody tr th:only-of-type {\n",
       "        vertical-align: middle;\n",
       "    }\n",
       "\n",
       "    .dataframe tbody tr th {\n",
       "        vertical-align: top;\n",
       "    }\n",
       "\n",
       "    .dataframe thead th {\n",
       "        text-align: right;\n",
       "    }\n",
       "</style>\n",
       "<table border=\"1\" class=\"dataframe\">\n",
       "  <thead>\n",
       "    <tr style=\"text-align: right;\">\n",
       "      <th></th>\n",
       "      <th>id</th>\n",
       "      <th>item_id</th>\n",
       "      <th>dept_id</th>\n",
       "      <th>cat_id</th>\n",
       "      <th>store_id</th>\n",
       "      <th>state_id</th>\n",
       "      <th>d</th>\n",
       "      <th>sold</th>\n",
       "      <th>date</th>\n",
       "    </tr>\n",
       "  </thead>\n",
       "  <tbody>\n",
       "    <tr>\n",
       "      <th>0</th>\n",
       "      <td>HOBBIES_1_001_CA_1_evaluation</td>\n",
       "      <td>HOBBIES_1_001</td>\n",
       "      <td>HOBBIES_1</td>\n",
       "      <td>HOBBIES</td>\n",
       "      <td>CA_1</td>\n",
       "      <td>CA</td>\n",
       "      <td>d_1</td>\n",
       "      <td>0</td>\n",
       "      <td>2011-01-29</td>\n",
       "    </tr>\n",
       "    <tr>\n",
       "      <th>1</th>\n",
       "      <td>HOBBIES_1_002_CA_1_evaluation</td>\n",
       "      <td>HOBBIES_1_002</td>\n",
       "      <td>HOBBIES_1</td>\n",
       "      <td>HOBBIES</td>\n",
       "      <td>CA_1</td>\n",
       "      <td>CA</td>\n",
       "      <td>d_1</td>\n",
       "      <td>0</td>\n",
       "      <td>2011-01-29</td>\n",
       "    </tr>\n",
       "    <tr>\n",
       "      <th>2</th>\n",
       "      <td>HOBBIES_1_003_CA_1_evaluation</td>\n",
       "      <td>HOBBIES_1_003</td>\n",
       "      <td>HOBBIES_1</td>\n",
       "      <td>HOBBIES</td>\n",
       "      <td>CA_1</td>\n",
       "      <td>CA</td>\n",
       "      <td>d_1</td>\n",
       "      <td>0</td>\n",
       "      <td>2011-01-29</td>\n",
       "    </tr>\n",
       "    <tr>\n",
       "      <th>3</th>\n",
       "      <td>HOBBIES_1_004_CA_1_evaluation</td>\n",
       "      <td>HOBBIES_1_004</td>\n",
       "      <td>HOBBIES_1</td>\n",
       "      <td>HOBBIES</td>\n",
       "      <td>CA_1</td>\n",
       "      <td>CA</td>\n",
       "      <td>d_1</td>\n",
       "      <td>0</td>\n",
       "      <td>2011-01-29</td>\n",
       "    </tr>\n",
       "    <tr>\n",
       "      <th>4</th>\n",
       "      <td>HOBBIES_1_005_CA_1_evaluation</td>\n",
       "      <td>HOBBIES_1_005</td>\n",
       "      <td>HOBBIES_1</td>\n",
       "      <td>HOBBIES</td>\n",
       "      <td>CA_1</td>\n",
       "      <td>CA</td>\n",
       "      <td>d_1</td>\n",
       "      <td>0</td>\n",
       "      <td>2011-01-29</td>\n",
       "    </tr>\n",
       "  </tbody>\n",
       "</table>\n",
       "</div>"
      ],
      "text/plain": [
       "                              id        item_id    dept_id   cat_id store_id  \\\n",
       "0  HOBBIES_1_001_CA_1_evaluation  HOBBIES_1_001  HOBBIES_1  HOBBIES     CA_1   \n",
       "1  HOBBIES_1_002_CA_1_evaluation  HOBBIES_1_002  HOBBIES_1  HOBBIES     CA_1   \n",
       "2  HOBBIES_1_003_CA_1_evaluation  HOBBIES_1_003  HOBBIES_1  HOBBIES     CA_1   \n",
       "3  HOBBIES_1_004_CA_1_evaluation  HOBBIES_1_004  HOBBIES_1  HOBBIES     CA_1   \n",
       "4  HOBBIES_1_005_CA_1_evaluation  HOBBIES_1_005  HOBBIES_1  HOBBIES     CA_1   \n",
       "\n",
       "  state_id    d  sold       date  \n",
       "0       CA  d_1     0 2011-01-29  \n",
       "1       CA  d_1     0 2011-01-29  \n",
       "2       CA  d_1     0 2011-01-29  \n",
       "3       CA  d_1     0 2011-01-29  \n",
       "4       CA  d_1     0 2011-01-29  "
      ]
     },
     "execution_count": 12,
     "metadata": {},
     "output_type": "execute_result"
    }
   ],
   "source": [
    "mlt_sales = pd.merge(mlt_sales, calendar[['date', 'd']], on='d', how='left')\n",
    "mlt_sales.head()"
   ]
  },
  {
   "cell_type": "code",
   "execution_count": 25,
   "metadata": {},
   "outputs": [
    {
     "ename": "KeyError",
     "evalue": "'date'",
     "output_type": "error",
     "traceback": [
      "\u001b[0;31m---------------------------------------------------------------------------\u001b[0m",
      "\u001b[0;31mKeyError\u001b[0m                                  Traceback (most recent call last)",
      "File \u001b[0;32m~/.conda/envs/time-series/lib/python3.12/site-packages/pandas/core/indexes/base.py:3790\u001b[0m, in \u001b[0;36mIndex.get_loc\u001b[0;34m(self, key)\u001b[0m\n\u001b[1;32m   3789\u001b[0m \u001b[39mtry\u001b[39;00m:\n\u001b[0;32m-> 3790\u001b[0m     \u001b[39mreturn\u001b[39;00m \u001b[39mself\u001b[39;49m\u001b[39m.\u001b[39;49m_engine\u001b[39m.\u001b[39;49mget_loc(casted_key)\n\u001b[1;32m   3791\u001b[0m \u001b[39mexcept\u001b[39;00m \u001b[39mKeyError\u001b[39;00m \u001b[39mas\u001b[39;00m err:\n",
      "File \u001b[0;32mindex.pyx:152\u001b[0m, in \u001b[0;36mpandas._libs.index.IndexEngine.get_loc\u001b[0;34m()\u001b[0m\n",
      "File \u001b[0;32mindex.pyx:181\u001b[0m, in \u001b[0;36mpandas._libs.index.IndexEngine.get_loc\u001b[0;34m()\u001b[0m\n",
      "File \u001b[0;32mpandas/_libs/hashtable_class_helper.pxi:7080\u001b[0m, in \u001b[0;36mpandas._libs.hashtable.PyObjectHashTable.get_item\u001b[0;34m()\u001b[0m\n",
      "File \u001b[0;32mpandas/_libs/hashtable_class_helper.pxi:7088\u001b[0m, in \u001b[0;36mpandas._libs.hashtable.PyObjectHashTable.get_item\u001b[0;34m()\u001b[0m\n",
      "\u001b[0;31mKeyError\u001b[0m: 'date'",
      "\nThe above exception was the direct cause of the following exception:\n",
      "\u001b[0;31mKeyError\u001b[0m                                  Traceback (most recent call last)",
      "\u001b[1;32m/home/drmahlelebe/Documents/ml-eng/projects/m5-forecasting-accuracy/notebooks/00 - Intro & Data Prep.ipynb Cell 20\u001b[0m line \u001b[0;36m1\n\u001b[0;32m----> <a href='vscode-notebook-cell:/home/drmahlelebe/Documents/ml-eng/projects/m5-forecasting-accuracy/notebooks/00%20-%20Intro%20%26%20Data%20Prep.ipynb#X25sZmlsZQ%3D%3D?line=0'>1</a>\u001b[0m mlt_sales[\u001b[39m'\u001b[39m\u001b[39mdate\u001b[39m\u001b[39m'\u001b[39m] \u001b[39m=\u001b[39m pd\u001b[39m.\u001b[39mto_datetime(mlt_sales[\u001b[39m'\u001b[39;49m\u001b[39mdate\u001b[39;49m\u001b[39m'\u001b[39;49m])\n\u001b[1;32m      <a href='vscode-notebook-cell:/home/drmahlelebe/Documents/ml-eng/projects/m5-forecasting-accuracy/notebooks/00%20-%20Intro%20%26%20Data%20Prep.ipynb#X25sZmlsZQ%3D%3D?line=1'>2</a>\u001b[0m mlt_sales \u001b[39m=\u001b[39m mlt_sales\u001b[39m.\u001b[39mset_index(\u001b[39m'\u001b[39m\u001b[39mdate\u001b[39m\u001b[39m'\u001b[39m)\n",
      "File \u001b[0;32m~/.conda/envs/time-series/lib/python3.12/site-packages/pandas/core/frame.py:3896\u001b[0m, in \u001b[0;36mDataFrame.__getitem__\u001b[0;34m(self, key)\u001b[0m\n\u001b[1;32m   3894\u001b[0m \u001b[39mif\u001b[39;00m \u001b[39mself\u001b[39m\u001b[39m.\u001b[39mcolumns\u001b[39m.\u001b[39mnlevels \u001b[39m>\u001b[39m \u001b[39m1\u001b[39m:\n\u001b[1;32m   3895\u001b[0m     \u001b[39mreturn\u001b[39;00m \u001b[39mself\u001b[39m\u001b[39m.\u001b[39m_getitem_multilevel(key)\n\u001b[0;32m-> 3896\u001b[0m indexer \u001b[39m=\u001b[39m \u001b[39mself\u001b[39;49m\u001b[39m.\u001b[39;49mcolumns\u001b[39m.\u001b[39;49mget_loc(key)\n\u001b[1;32m   3897\u001b[0m \u001b[39mif\u001b[39;00m is_integer(indexer):\n\u001b[1;32m   3898\u001b[0m     indexer \u001b[39m=\u001b[39m [indexer]\n",
      "File \u001b[0;32m~/.conda/envs/time-series/lib/python3.12/site-packages/pandas/core/indexes/base.py:3797\u001b[0m, in \u001b[0;36mIndex.get_loc\u001b[0;34m(self, key)\u001b[0m\n\u001b[1;32m   3792\u001b[0m     \u001b[39mif\u001b[39;00m \u001b[39misinstance\u001b[39m(casted_key, \u001b[39mslice\u001b[39m) \u001b[39mor\u001b[39;00m (\n\u001b[1;32m   3793\u001b[0m         \u001b[39misinstance\u001b[39m(casted_key, abc\u001b[39m.\u001b[39mIterable)\n\u001b[1;32m   3794\u001b[0m         \u001b[39mand\u001b[39;00m \u001b[39many\u001b[39m(\u001b[39misinstance\u001b[39m(x, \u001b[39mslice\u001b[39m) \u001b[39mfor\u001b[39;00m x \u001b[39min\u001b[39;00m casted_key)\n\u001b[1;32m   3795\u001b[0m     ):\n\u001b[1;32m   3796\u001b[0m         \u001b[39mraise\u001b[39;00m InvalidIndexError(key)\n\u001b[0;32m-> 3797\u001b[0m     \u001b[39mraise\u001b[39;00m \u001b[39mKeyError\u001b[39;00m(key) \u001b[39mfrom\u001b[39;00m \u001b[39merr\u001b[39;00m\n\u001b[1;32m   3798\u001b[0m \u001b[39mexcept\u001b[39;00m \u001b[39mTypeError\u001b[39;00m:\n\u001b[1;32m   3799\u001b[0m     \u001b[39m# If we have a listlike key, _check_indexing_error will raise\u001b[39;00m\n\u001b[1;32m   3800\u001b[0m     \u001b[39m#  InvalidIndexError. Otherwise we fall through and re-raise\u001b[39;00m\n\u001b[1;32m   3801\u001b[0m     \u001b[39m#  the TypeError.\u001b[39;00m\n\u001b[1;32m   3802\u001b[0m     \u001b[39mself\u001b[39m\u001b[39m.\u001b[39m_check_indexing_error(key)\n",
      "\u001b[0;31mKeyError\u001b[0m: 'date'"
     ]
    }
   ],
   "source": [
    "mlt_sales['date'] = pd.to_datetime(mlt_sales['date'])\n",
    "mlt_sales = mlt_sales.set_index('date')"
   ]
  },
  {
   "cell_type": "code",
   "execution_count": 14,
   "metadata": {},
   "outputs": [
    {
     "data": {
      "text/plain": [
       "date\n",
       "2011-01-29    32631\n",
       "2011-01-30    31749\n",
       "2011-01-31    23783\n",
       "2011-02-01    25412\n",
       "2011-02-02    19146\n",
       "Name: sold, dtype: int64"
      ]
     },
     "execution_count": 14,
     "metadata": {},
     "output_type": "execute_result"
    }
   ],
   "source": [
    "daily_total_sales = mlt_sales.groupby('date')['sold'].sum()\n",
    "daily_total_sales.head()"
   ]
  },
  {
   "cell_type": "code",
   "execution_count": 15,
   "metadata": {},
   "outputs": [
    {
     "data": {
      "image/png": "[encoded data removed]",
      "text/plain": [
       "<Figure size 1500x600 with 1 Axes>"
      ]
     },
     "metadata": {},
     "output_type": "display_data"
    }
   ],
   "source": [
    "fig, ax = plt.subplots(figsize=(15, 6), layout=\"constrained\")\n",
    "_ = sns.lineplot(data=daily_total_sales, ax=ax)\n",
    "_ = fig.suptitle(\"Total Walmart's Daily Sales\", fontsize=16)"
   ]
  },
  {
   "cell_type": "markdown",
   "metadata": {},
   "source": [
    "The time series under consideration show a slightly increasing trend with yearly seasonality; with the exception of 2011, we seem to have a concave shape in a year where total sales start at a certain point, grow until somewhere after mid-year where a decline is seen. This decline consistently ends with a very sharp drop every year. I've checked and learned that it's the 25 of December every year(as expected) where the sales drop to about 20 per day. Which is a very weird thing to happen; from an average of 3000 sales per day to 20 is just weird. My initial thought would be that this is probably a simulated dataset, but then again, I don't live in the US, so I don't know how things go over there.\n",
    "\n",
    "Back to 2011; it's different because in the period of the year when the total sales peak, this was when they were rock-bottom in 2011. This is probably irrelavant for future forecasting.\n",
    "\n",
    "So far, then I suppose we should check the kinds of holidays marked in the `calendar` dataset, because I still maintain we should have a feature specific to checking whether the date is the 25th of December or not."
   ]
  },
  {
   "cell_type": "code",
   "execution_count": 35,
   "metadata": {},
   "outputs": [
    {
     "data": {
      "text/html": [
       "<div>\n",
       "<style scoped>\n",
       "    .dataframe tbody tr th:only-of-type {\n",
       "        vertical-align: middle;\n",
       "    }\n",
       "\n",
       "    .dataframe tbody tr th {\n",
       "        vertical-align: top;\n",
       "    }\n",
       "\n",
       "    .dataframe thead th {\n",
       "        text-align: right;\n",
       "    }\n",
       "</style>\n",
       "<table border=\"1\" class=\"dataframe\">\n",
       "  <thead>\n",
       "    <tr style=\"text-align: right;\">\n",
       "      <th></th>\n",
       "      <th>sold</th>\n",
       "    </tr>\n",
       "    <tr>\n",
       "      <th>date</th>\n",
       "      <th></th>\n",
       "    </tr>\n",
       "  </thead>\n",
       "  <tbody>\n",
       "    <tr>\n",
       "      <th>2011-12-25</th>\n",
       "      <td>13</td>\n",
       "    </tr>\n",
       "    <tr>\n",
       "      <th>2012-12-25</th>\n",
       "      <td>11</td>\n",
       "    </tr>\n",
       "    <tr>\n",
       "      <th>2013-12-25</th>\n",
       "      <td>20</td>\n",
       "    </tr>\n",
       "    <tr>\n",
       "      <th>2014-12-25</th>\n",
       "      <td>20</td>\n",
       "    </tr>\n",
       "    <tr>\n",
       "      <th>2015-12-25</th>\n",
       "      <td>14</td>\n",
       "    </tr>\n",
       "    <tr>\n",
       "      <th>2016-05-23</th>\n",
       "      <td>0</td>\n",
       "    </tr>\n",
       "    <tr>\n",
       "      <th>2016-05-24</th>\n",
       "      <td>0</td>\n",
       "    </tr>\n",
       "    <tr>\n",
       "      <th>2016-05-25</th>\n",
       "      <td>0</td>\n",
       "    </tr>\n",
       "    <tr>\n",
       "      <th>2016-05-26</th>\n",
       "      <td>0</td>\n",
       "    </tr>\n",
       "    <tr>\n",
       "      <th>2016-05-27</th>\n",
       "      <td>0</td>\n",
       "    </tr>\n",
       "    <tr>\n",
       "      <th>2016-05-28</th>\n",
       "      <td>0</td>\n",
       "    </tr>\n",
       "    <tr>\n",
       "      <th>2016-05-29</th>\n",
       "      <td>0</td>\n",
       "    </tr>\n",
       "    <tr>\n",
       "      <th>2016-05-30</th>\n",
       "      <td>0</td>\n",
       "    </tr>\n",
       "    <tr>\n",
       "      <th>2016-05-31</th>\n",
       "      <td>0</td>\n",
       "    </tr>\n",
       "    <tr>\n",
       "      <th>2016-06-01</th>\n",
       "      <td>0</td>\n",
       "    </tr>\n",
       "    <tr>\n",
       "      <th>2016-06-02</th>\n",
       "      <td>0</td>\n",
       "    </tr>\n",
       "    <tr>\n",
       "      <th>2016-06-03</th>\n",
       "      <td>0</td>\n",
       "    </tr>\n",
       "    <tr>\n",
       "      <th>2016-06-04</th>\n",
       "      <td>0</td>\n",
       "    </tr>\n",
       "    <tr>\n",
       "      <th>2016-06-05</th>\n",
       "      <td>0</td>\n",
       "    </tr>\n",
       "    <tr>\n",
       "      <th>2016-06-06</th>\n",
       "      <td>0</td>\n",
       "    </tr>\n",
       "    <tr>\n",
       "      <th>2016-06-07</th>\n",
       "      <td>0</td>\n",
       "    </tr>\n",
       "    <tr>\n",
       "      <th>2016-06-08</th>\n",
       "      <td>0</td>\n",
       "    </tr>\n",
       "    <tr>\n",
       "      <th>2016-06-09</th>\n",
       "      <td>0</td>\n",
       "    </tr>\n",
       "    <tr>\n",
       "      <th>2016-06-10</th>\n",
       "      <td>0</td>\n",
       "    </tr>\n",
       "    <tr>\n",
       "      <th>2016-06-11</th>\n",
       "      <td>0</td>\n",
       "    </tr>\n",
       "    <tr>\n",
       "      <th>2016-06-12</th>\n",
       "      <td>0</td>\n",
       "    </tr>\n",
       "    <tr>\n",
       "      <th>2016-06-13</th>\n",
       "      <td>0</td>\n",
       "    </tr>\n",
       "    <tr>\n",
       "      <th>2016-06-14</th>\n",
       "      <td>0</td>\n",
       "    </tr>\n",
       "    <tr>\n",
       "      <th>2016-06-15</th>\n",
       "      <td>0</td>\n",
       "    </tr>\n",
       "    <tr>\n",
       "      <th>2016-06-16</th>\n",
       "      <td>0</td>\n",
       "    </tr>\n",
       "    <tr>\n",
       "      <th>2016-06-17</th>\n",
       "      <td>0</td>\n",
       "    </tr>\n",
       "    <tr>\n",
       "      <th>2016-06-18</th>\n",
       "      <td>0</td>\n",
       "    </tr>\n",
       "    <tr>\n",
       "      <th>2016-06-19</th>\n",
       "      <td>0</td>\n",
       "    </tr>\n",
       "  </tbody>\n",
       "</table>\n",
       "</div>"
      ],
      "text/plain": [
       "            sold\n",
       "date            \n",
       "2011-12-25    13\n",
       "2012-12-25    11\n",
       "2013-12-25    20\n",
       "2014-12-25    20\n",
       "2015-12-25    14\n",
       "2016-05-23     0\n",
       "2016-05-24     0\n",
       "2016-05-25     0\n",
       "2016-05-26     0\n",
       "2016-05-27     0\n",
       "2016-05-28     0\n",
       "2016-05-29     0\n",
       "2016-05-30     0\n",
       "2016-05-31     0\n",
       "2016-06-01     0\n",
       "2016-06-02     0\n",
       "2016-06-03     0\n",
       "2016-06-04     0\n",
       "2016-06-05     0\n",
       "2016-06-06     0\n",
       "2016-06-07     0\n",
       "2016-06-08     0\n",
       "2016-06-09     0\n",
       "2016-06-10     0\n",
       "2016-06-11     0\n",
       "2016-06-12     0\n",
       "2016-06-13     0\n",
       "2016-06-14     0\n",
       "2016-06-15     0\n",
       "2016-06-16     0\n",
       "2016-06-17     0\n",
       "2016-06-18     0\n",
       "2016-06-19     0"
      ]
     },
     "execution_count": 35,
     "metadata": {},
     "output_type": "execute_result"
    }
   ],
   "source": [
    "daily_total_sales[daily_total_sales.values < 100]"
   ]
  },
  {
   "cell_type": "code",
   "execution_count": 32,
   "metadata": {},
   "outputs": [
    {
     "data": {
      "text/html": [
       "<div>\n",
       "<style scoped>\n",
       "    .dataframe tbody tr th:only-of-type {\n",
       "        vertical-align: middle;\n",
       "    }\n",
       "\n",
       "    .dataframe tbody tr th {\n",
       "        vertical-align: top;\n",
       "    }\n",
       "\n",
       "    .dataframe thead th {\n",
       "        text-align: right;\n",
       "    }\n",
       "</style>\n",
       "<table border=\"1\" class=\"dataframe\">\n",
       "  <thead>\n",
       "    <tr style=\"text-align: right;\">\n",
       "      <th></th>\n",
       "      <th>wm_yr_wk</th>\n",
       "      <th>weekday</th>\n",
       "      <th>wday</th>\n",
       "      <th>month</th>\n",
       "      <th>year</th>\n",
       "      <th>d</th>\n",
       "      <th>event_name_1</th>\n",
       "      <th>event_type_1</th>\n",
       "      <th>event_name_2</th>\n",
       "      <th>event_type_2</th>\n",
       "      <th>snap_CA</th>\n",
       "      <th>snap_TX</th>\n",
       "      <th>snap_WI</th>\n",
       "      <th>is_christmas</th>\n",
       "    </tr>\n",
       "    <tr>\n",
       "      <th>date</th>\n",
       "      <th></th>\n",
       "      <th></th>\n",
       "      <th></th>\n",
       "      <th></th>\n",
       "      <th></th>\n",
       "      <th></th>\n",
       "      <th></th>\n",
       "      <th></th>\n",
       "      <th></th>\n",
       "      <th></th>\n",
       "      <th></th>\n",
       "      <th></th>\n",
       "      <th></th>\n",
       "      <th></th>\n",
       "    </tr>\n",
       "  </thead>\n",
       "  <tbody>\n",
       "    <tr>\n",
       "      <th>2011-01-29</th>\n",
       "      <td>11101</td>\n",
       "      <td>Saturday</td>\n",
       "      <td>1</td>\n",
       "      <td>1</td>\n",
       "      <td>2011</td>\n",
       "      <td>d_1</td>\n",
       "      <td>NaN</td>\n",
       "      <td>NaN</td>\n",
       "      <td>NaN</td>\n",
       "      <td>NaN</td>\n",
       "      <td>0</td>\n",
       "      <td>0</td>\n",
       "      <td>0</td>\n",
       "      <td>0</td>\n",
       "    </tr>\n",
       "    <tr>\n",
       "      <th>2011-01-30</th>\n",
       "      <td>11101</td>\n",
       "      <td>Sunday</td>\n",
       "      <td>2</td>\n",
       "      <td>1</td>\n",
       "      <td>2011</td>\n",
       "      <td>d_2</td>\n",
       "      <td>NaN</td>\n",
       "      <td>NaN</td>\n",
       "      <td>NaN</td>\n",
       "      <td>NaN</td>\n",
       "      <td>0</td>\n",
       "      <td>0</td>\n",
       "      <td>0</td>\n",
       "      <td>0</td>\n",
       "    </tr>\n",
       "    <tr>\n",
       "      <th>2011-01-31</th>\n",
       "      <td>11101</td>\n",
       "      <td>Monday</td>\n",
       "      <td>3</td>\n",
       "      <td>1</td>\n",
       "      <td>2011</td>\n",
       "      <td>d_3</td>\n",
       "      <td>NaN</td>\n",
       "      <td>NaN</td>\n",
       "      <td>NaN</td>\n",
       "      <td>NaN</td>\n",
       "      <td>0</td>\n",
       "      <td>0</td>\n",
       "      <td>0</td>\n",
       "      <td>0</td>\n",
       "    </tr>\n",
       "    <tr>\n",
       "      <th>2011-02-01</th>\n",
       "      <td>11101</td>\n",
       "      <td>Tuesday</td>\n",
       "      <td>4</td>\n",
       "      <td>2</td>\n",
       "      <td>2011</td>\n",
       "      <td>d_4</td>\n",
       "      <td>NaN</td>\n",
       "      <td>NaN</td>\n",
       "      <td>NaN</td>\n",
       "      <td>NaN</td>\n",
       "      <td>1</td>\n",
       "      <td>1</td>\n",
       "      <td>0</td>\n",
       "      <td>0</td>\n",
       "    </tr>\n",
       "    <tr>\n",
       "      <th>2011-02-02</th>\n",
       "      <td>11101</td>\n",
       "      <td>Wednesday</td>\n",
       "      <td>5</td>\n",
       "      <td>2</td>\n",
       "      <td>2011</td>\n",
       "      <td>d_5</td>\n",
       "      <td>NaN</td>\n",
       "      <td>NaN</td>\n",
       "      <td>NaN</td>\n",
       "      <td>NaN</td>\n",
       "      <td>1</td>\n",
       "      <td>0</td>\n",
       "      <td>1</td>\n",
       "      <td>0</td>\n",
       "    </tr>\n",
       "  </tbody>\n",
       "</table>\n",
       "</div>"
      ],
      "text/plain": [
       "            wm_yr_wk    weekday  wday  month  year    d event_name_1  \\\n",
       "date                                                                   \n",
       "2011-01-29     11101   Saturday     1      1  2011  d_1          NaN   \n",
       "2011-01-30     11101     Sunday     2      1  2011  d_2          NaN   \n",
       "2011-01-31     11101     Monday     3      1  2011  d_3          NaN   \n",
       "2011-02-01     11101    Tuesday     4      2  2011  d_4          NaN   \n",
       "2011-02-02     11101  Wednesday     5      2  2011  d_5          NaN   \n",
       "\n",
       "           event_type_1 event_name_2 event_type_2  snap_CA  snap_TX  snap_WI  \\\n",
       "date                                                                           \n",
       "2011-01-29          NaN          NaN          NaN        0        0        0   \n",
       "2011-01-30          NaN          NaN          NaN        0        0        0   \n",
       "2011-01-31          NaN          NaN          NaN        0        0        0   \n",
       "2011-02-01          NaN          NaN          NaN        1        1        0   \n",
       "2011-02-02          NaN          NaN          NaN        1        0        1   \n",
       "\n",
       "            is_christmas  \n",
       "date                      \n",
       "2011-01-29             0  \n",
       "2011-01-30             0  \n",
       "2011-01-31             0  \n",
       "2011-02-01             0  \n",
       "2011-02-02             0  "
      ]
     },
     "execution_count": 32,
     "metadata": {},
     "output_type": "execute_result"
    }
   ],
   "source": [
    "calendar['date'] = pd.to_datetime(calendar['date'])\n",
    "calendar.set_index('date', inplace=True)\n",
    "calendar['is_christmas'] = ((calendar.index.month == 12) & (calendar.index.day == 25)).astype(int)\n",
    "calendar.head()"
   ]
  },
  {
   "cell_type": "code",
   "execution_count": 30,
   "metadata": {},
   "outputs": [],
   "source": [
    "mlt_sales['is_christmas'] = ((mlt_sales.index.month == 12) & (mlt_sales.index.day == 25)).astype(int)"
   ]
  },
  {
   "cell_type": "code",
   "execution_count": 31,
   "metadata": {},
   "outputs": [
    {
     "data": {
      "text/html": [
       "<div>\n",
       "<style scoped>\n",
       "    .dataframe tbody tr th:only-of-type {\n",
       "        vertical-align: middle;\n",
       "    }\n",
       "\n",
       "    .dataframe tbody tr th {\n",
       "        vertical-align: top;\n",
       "    }\n",
       "\n",
       "    .dataframe thead th {\n",
       "        text-align: right;\n",
       "    }\n",
       "</style>\n",
       "<table border=\"1\" class=\"dataframe\">\n",
       "  <thead>\n",
       "    <tr style=\"text-align: right;\">\n",
       "      <th></th>\n",
       "      <th>id</th>\n",
       "      <th>item_id</th>\n",
       "      <th>dept_id</th>\n",
       "      <th>cat_id</th>\n",
       "      <th>store_id</th>\n",
       "      <th>state_id</th>\n",
       "      <th>d</th>\n",
       "      <th>sold</th>\n",
       "      <th>is_christmas</th>\n",
       "    </tr>\n",
       "    <tr>\n",
       "      <th>date</th>\n",
       "      <th></th>\n",
       "      <th></th>\n",
       "      <th></th>\n",
       "      <th></th>\n",
       "      <th></th>\n",
       "      <th></th>\n",
       "      <th></th>\n",
       "      <th></th>\n",
       "      <th></th>\n",
       "    </tr>\n",
       "  </thead>\n",
       "  <tbody>\n",
       "    <tr>\n",
       "      <th>2011-01-29</th>\n",
       "      <td>HOBBIES_1_001_CA_1_evaluation</td>\n",
       "      <td>HOBBIES_1_001</td>\n",
       "      <td>HOBBIES_1</td>\n",
       "      <td>HOBBIES</td>\n",
       "      <td>CA_1</td>\n",
       "      <td>CA</td>\n",
       "      <td>d_1</td>\n",
       "      <td>0</td>\n",
       "      <td>0</td>\n",
       "    </tr>\n",
       "    <tr>\n",
       "      <th>2011-01-29</th>\n",
       "      <td>HOBBIES_1_002_CA_1_evaluation</td>\n",
       "      <td>HOBBIES_1_002</td>\n",
       "      <td>HOBBIES_1</td>\n",
       "      <td>HOBBIES</td>\n",
       "      <td>CA_1</td>\n",
       "      <td>CA</td>\n",
       "      <td>d_1</td>\n",
       "      <td>0</td>\n",
       "      <td>0</td>\n",
       "    </tr>\n",
       "    <tr>\n",
       "      <th>2011-01-29</th>\n",
       "      <td>HOBBIES_1_003_CA_1_evaluation</td>\n",
       "      <td>HOBBIES_1_003</td>\n",
       "      <td>HOBBIES_1</td>\n",
       "      <td>HOBBIES</td>\n",
       "      <td>CA_1</td>\n",
       "      <td>CA</td>\n",
       "      <td>d_1</td>\n",
       "      <td>0</td>\n",
       "      <td>0</td>\n",
       "    </tr>\n",
       "    <tr>\n",
       "      <th>2011-01-29</th>\n",
       "      <td>HOBBIES_1_004_CA_1_evaluation</td>\n",
       "      <td>HOBBIES_1_004</td>\n",
       "      <td>HOBBIES_1</td>\n",
       "      <td>HOBBIES</td>\n",
       "      <td>CA_1</td>\n",
       "      <td>CA</td>\n",
       "      <td>d_1</td>\n",
       "      <td>0</td>\n",
       "      <td>0</td>\n",
       "    </tr>\n",
       "    <tr>\n",
       "      <th>2011-01-29</th>\n",
       "      <td>HOBBIES_1_005_CA_1_evaluation</td>\n",
       "      <td>HOBBIES_1_005</td>\n",
       "      <td>HOBBIES_1</td>\n",
       "      <td>HOBBIES</td>\n",
       "      <td>CA_1</td>\n",
       "      <td>CA</td>\n",
       "      <td>d_1</td>\n",
       "      <td>0</td>\n",
       "      <td>0</td>\n",
       "    </tr>\n",
       "  </tbody>\n",
       "</table>\n",
       "</div>"
      ],
      "text/plain": [
       "                                       id        item_id    dept_id   cat_id  \\\n",
       "date                                                                           \n",
       "2011-01-29  HOBBIES_1_001_CA_1_evaluation  HOBBIES_1_001  HOBBIES_1  HOBBIES   \n",
       "2011-01-29  HOBBIES_1_002_CA_1_evaluation  HOBBIES_1_002  HOBBIES_1  HOBBIES   \n",
       "2011-01-29  HOBBIES_1_003_CA_1_evaluation  HOBBIES_1_003  HOBBIES_1  HOBBIES   \n",
       "2011-01-29  HOBBIES_1_004_CA_1_evaluation  HOBBIES_1_004  HOBBIES_1  HOBBIES   \n",
       "2011-01-29  HOBBIES_1_005_CA_1_evaluation  HOBBIES_1_005  HOBBIES_1  HOBBIES   \n",
       "\n",
       "           store_id state_id    d  sold  is_christmas  \n",
       "date                                                   \n",
       "2011-01-29     CA_1       CA  d_1     0             0  \n",
       "2011-01-29     CA_1       CA  d_1     0             0  \n",
       "2011-01-29     CA_1       CA  d_1     0             0  \n",
       "2011-01-29     CA_1       CA  d_1     0             0  \n",
       "2011-01-29     CA_1       CA  d_1     0             0  "
      ]
     },
     "execution_count": 31,
     "metadata": {},
     "output_type": "execute_result"
    }
   ],
   "source": [
    "mlt_sales.head()"
   ]
  }
 ],
 "metadata": {
  "kernelspec": {
   "display_name": "time-series",
   "language": "python",
   "name": "python3"
  },
  "language_info": {
   "codemirror_mode": {
    "name": "ipython",
    "version": 3
   },
   "file_extension": ".py",
   "mimetype": "text/x-python",
   "name": "python",
   "nbconvert_exporter": "python",
   "pygments_lexer": "ipython3",
   "version": "3.12.0"
  }
 },
 "nbformat": 4,
 "nbformat_minor": 2
}
